{
 "cells": [
  {
   "cell_type": "markdown",
   "id": "015267ce-ca25-4d3c-b75d-c5c9cb862813",
   "metadata": {},
   "source": [
    "# Agenda\n",
    "\n",
    "- List\n",
    "- Strings to lists, and back\n",
    "- Tuples\n",
    "- Dictionaries\n",
    "- Files"
   ]
  },
  {
   "cell_type": "code",
   "execution_count": 1,
   "id": "2826df6e-b5ea-4546-bb8f-05af80df7c3e",
   "metadata": {},
   "outputs": [
    {
     "data": {
      "text/plain": [
       "'a'"
      ]
     },
     "execution_count": 1,
     "metadata": {},
     "output_type": "execute_result"
    }
   ],
   "source": [
    "s = 'abcdefghij'\n",
    "\n",
    "s[0]"
   ]
  },
  {
   "cell_type": "code",
   "execution_count": 2,
   "id": "2f6a9aae-f876-4109-b253-b0fae0a17ad4",
   "metadata": {},
   "outputs": [
    {
     "data": {
      "text/plain": [
       "'b'"
      ]
     },
     "execution_count": 2,
     "metadata": {},
     "output_type": "execute_result"
    }
   ],
   "source": [
    "s[1]"
   ]
  },
  {
   "cell_type": "code",
   "execution_count": 3,
   "id": "10a1643c-9a8f-4491-a07a-250c320cfd5a",
   "metadata": {},
   "outputs": [
    {
     "ename": "TypeError",
     "evalue": "'str' object does not support item assignment",
     "output_type": "error",
     "traceback": [
      "\u001b[0;31m---------------------------------------------------------------------------\u001b[0m",
      "\u001b[0;31mTypeError\u001b[0m                                 Traceback (most recent call last)",
      "Cell \u001b[0;32mIn[3], line 1\u001b[0m\n\u001b[0;32m----> 1\u001b[0m \u001b[43ms\u001b[49m\u001b[43m[\u001b[49m\u001b[38;5;241;43m0\u001b[39;49m\u001b[43m]\u001b[49m \u001b[38;5;241m=\u001b[39m \u001b[38;5;124m'\u001b[39m\u001b[38;5;124m!\u001b[39m\u001b[38;5;124m'\u001b[39m\n",
      "\u001b[0;31mTypeError\u001b[0m: 'str' object does not support item assignment"
     ]
    }
   ],
   "source": [
    "s[0] = '!'"
   ]
  },
  {
   "cell_type": "markdown",
   "id": "ad2c2c90-b878-4fa9-92f0-0c2552203417",
   "metadata": {},
   "source": [
    "# Immutable"
   ]
  },
  {
   "cell_type": "markdown",
   "id": "09b7cfe9-74f1-4c32-84cf-bf6265663eff",
   "metadata": {},
   "source": [
    "# Lists\n",
    "\n",
    "Lists can contain any objects (values) that we want. We can have as many values as we want in a list.\n",
    "\n",
    "We define a list with `[]`, with `,` between items."
   ]
  },
  {
   "cell_type": "code",
   "execution_count": 4,
   "id": "335eae5b-2726-4446-9732-f9c8e1dc15d4",
   "metadata": {},
   "outputs": [
    {
     "data": {
      "text/plain": [
       "list"
      ]
     },
     "execution_count": 4,
     "metadata": {},
     "output_type": "execute_result"
    }
   ],
   "source": [
    "mylist = [10, 20, 30, 40, 50, 60, 70, 80, 90]\n",
    "\n",
    "type(mylist)"
   ]
  },
  {
   "cell_type": "code",
   "execution_count": 5,
   "id": "459cd966-ddce-421c-842f-14b9c0d8a62d",
   "metadata": {},
   "outputs": [
    {
     "data": {
      "text/plain": [
       "10"
      ]
     },
     "execution_count": 5,
     "metadata": {},
     "output_type": "execute_result"
    }
   ],
   "source": [
    "mylist[0]"
   ]
  },
  {
   "cell_type": "code",
   "execution_count": 6,
   "id": "015d133a-1602-4062-b022-8675c6f77a29",
   "metadata": {},
   "outputs": [
    {
     "data": {
      "text/plain": [
       "20"
      ]
     },
     "execution_count": 6,
     "metadata": {},
     "output_type": "execute_result"
    }
   ],
   "source": [
    "mylist[1]"
   ]
  },
  {
   "cell_type": "code",
   "execution_count": 7,
   "id": "c7774606-45d4-46a6-ad47-a8c1974661fc",
   "metadata": {},
   "outputs": [
    {
     "data": {
      "text/plain": [
       "90"
      ]
     },
     "execution_count": 7,
     "metadata": {},
     "output_type": "execute_result"
    }
   ],
   "source": [
    "mylist[-1]"
   ]
  },
  {
   "cell_type": "code",
   "execution_count": 8,
   "id": "340ffd70-36e8-4d88-a066-ec96b1a8ffdc",
   "metadata": {},
   "outputs": [
    {
     "data": {
      "text/plain": [
       "[30, 40, 50, 60, 70]"
      ]
     },
     "execution_count": 8,
     "metadata": {},
     "output_type": "execute_result"
    }
   ],
   "source": [
    "mylist[2:7]    # slice"
   ]
  },
  {
   "cell_type": "code",
   "execution_count": 9,
   "id": "3a6842ce-3387-4fff-9f7e-26e14f64696d",
   "metadata": {},
   "outputs": [
    {
     "name": "stdout",
     "output_type": "stream",
     "text": [
      "10\n",
      "20\n",
      "30\n",
      "40\n",
      "50\n",
      "60\n",
      "70\n",
      "80\n",
      "90\n"
     ]
    }
   ],
   "source": [
    "for one_item in mylist:\n",
    "    print(one_item)"
   ]
  },
  {
   "cell_type": "code",
   "execution_count": 10,
   "id": "3a6f26b2-3282-4ed9-82e5-231754765653",
   "metadata": {},
   "outputs": [
    {
     "data": {
      "text/plain": [
       "True"
      ]
     },
     "execution_count": 10,
     "metadata": {},
     "output_type": "execute_result"
    }
   ],
   "source": [
    "50 in mylist"
   ]
  },
  {
   "cell_type": "code",
   "execution_count": 11,
   "id": "5f698dbb-2789-416f-80a0-f36ab70c5e76",
   "metadata": {},
   "outputs": [
    {
     "data": {
      "text/plain": [
       "9"
      ]
     },
     "execution_count": 11,
     "metadata": {},
     "output_type": "execute_result"
    }
   ],
   "source": [
    "len(mylist)"
   ]
  },
  {
   "cell_type": "code",
   "execution_count": 12,
   "id": "883be751-227a-4320-89a4-b24769a8aa2c",
   "metadata": {},
   "outputs": [
    {
     "data": {
      "text/plain": [
       "[10, 20, 30, 40, 50, 60, 70, 80, 90]"
      ]
     },
     "execution_count": 12,
     "metadata": {},
     "output_type": "execute_result"
    }
   ],
   "source": [
    "mylist"
   ]
  },
  {
   "cell_type": "code",
   "execution_count": 13,
   "id": "85cdfa9c-9adb-485c-88db-d715c5576291",
   "metadata": {},
   "outputs": [
    {
     "data": {
      "text/plain": [
       "10"
      ]
     },
     "execution_count": 13,
     "metadata": {},
     "output_type": "execute_result"
    }
   ],
   "source": [
    "mylist[0]"
   ]
  },
  {
   "cell_type": "code",
   "execution_count": 14,
   "id": "21de607d-6d32-47dd-b9ab-024d7e10d274",
   "metadata": {},
   "outputs": [
    {
     "data": {
      "text/plain": [
       "['!', 20, 30, 40, 50, 60, 70, 80, 90]"
      ]
     },
     "execution_count": 14,
     "metadata": {},
     "output_type": "execute_result"
    }
   ],
   "source": [
    "mylist[0] = '!'\n",
    "mylist"
   ]
  },
  {
   "cell_type": "code",
   "execution_count": 15,
   "id": "968d101f-e45a-4f77-9953-73fb408823c2",
   "metadata": {},
   "outputs": [
    {
     "data": {
      "text/plain": [
       "['!', 20, 30, 40, 50, 60, 70, 80, 90, 100]"
      ]
     },
     "execution_count": 15,
     "metadata": {},
     "output_type": "execute_result"
    }
   ],
   "source": [
    "# list.append -- argument is what we want to add\n",
    "\n",
    "mylist.append(100)\n",
    "mylist"
   ]
  },
  {
   "cell_type": "code",
   "execution_count": 16,
   "id": "c9908ea3-ecd3-42f5-8f02-2e33aa272305",
   "metadata": {},
   "outputs": [
    {
     "data": {
      "text/plain": [
       "['!', 20, 30, 40, 50, 60, 70, 80, 90, 100, '?']"
      ]
     },
     "execution_count": 16,
     "metadata": {},
     "output_type": "execute_result"
    }
   ],
   "source": [
    "mylist.append('?')\n",
    "mylist"
   ]
  },
  {
   "cell_type": "code",
   "execution_count": 17,
   "id": "244cae9d-e470-4047-8699-2ba01f79f24f",
   "metadata": {},
   "outputs": [
    {
     "data": {
      "text/plain": [
       "['!', 20, 30, 40, 50, 60, 70, 80, 90, 100, '?', [111, 222, 333]]"
      ]
     },
     "execution_count": 17,
     "metadata": {},
     "output_type": "execute_result"
    }
   ],
   "source": [
    "mylist.append([111, 222, 333])\n",
    "mylist"
   ]
  },
  {
   "cell_type": "code",
   "execution_count": 18,
   "id": "e280dba7-a476-4782-a007-a739439631a4",
   "metadata": {},
   "outputs": [
    {
     "data": {
      "text/plain": [
       "[10, 20, 30, 40, 50, 60, 70, 80]"
      ]
     },
     "execution_count": 18,
     "metadata": {},
     "output_type": "execute_result"
    }
   ],
   "source": [
    "# +=   adds all of the items on the right, with a for loop\n",
    "\n",
    "mylist = [10, 20, 30, 40, 50]\n",
    "mylist += [60, 70, 80]\n",
    "mylist"
   ]
  },
  {
   "cell_type": "code",
   "execution_count": 19,
   "id": "0875c8c5-435c-4e89-8e24-a739b3def30b",
   "metadata": {},
   "outputs": [
    {
     "data": {
      "text/plain": [
       "[10, 20, 30, 40, 50, 60, 70, 80, 'abc']"
      ]
     },
     "execution_count": 19,
     "metadata": {},
     "output_type": "execute_result"
    }
   ],
   "source": [
    "mylist.append('abc')\n",
    "mylist"
   ]
  },
  {
   "cell_type": "code",
   "execution_count": 20,
   "id": "3346777f-ba4a-4e02-94b6-ac136e56ac7e",
   "metadata": {},
   "outputs": [
    {
     "data": {
      "text/plain": [
       "[10, 20, 30, 40, 50, 60, 70, 80, 'abc', 'a', 'b', 'c']"
      ]
     },
     "execution_count": 20,
     "metadata": {},
     "output_type": "execute_result"
    }
   ],
   "source": [
    "mylist += 'abc'\n",
    "mylist"
   ]
  },
  {
   "cell_type": "code",
   "execution_count": 21,
   "id": "93dc110d-9291-409e-9341-55bf8a920d5a",
   "metadata": {},
   "outputs": [
    {
     "data": {
      "text/plain": [
       "'c'"
      ]
     },
     "execution_count": 21,
     "metadata": {},
     "output_type": "execute_result"
    }
   ],
   "source": [
    "# remove from a list's final element with list.pop\n",
    "\n",
    "mylist.pop()"
   ]
  },
  {
   "cell_type": "code",
   "execution_count": 23,
   "id": "13c2e5c3-1407-4be8-a60f-240183a56313",
   "metadata": {},
   "outputs": [
    {
     "data": {
      "text/plain": [
       "[10, 20, 30, 40, 50, 60, 70, 80, 'abc', 'a', 'b']"
      ]
     },
     "execution_count": 23,
     "metadata": {},
     "output_type": "execute_result"
    }
   ],
   "source": [
    "mylist"
   ]
  },
  {
   "cell_type": "code",
   "execution_count": 24,
   "id": "c385fc18-62c5-4713-86d7-2c104efabf8c",
   "metadata": {},
   "outputs": [
    {
     "data": {
      "text/plain": [
       "60"
      ]
     },
     "execution_count": 24,
     "metadata": {},
     "output_type": "execute_result"
    }
   ],
   "source": [
    "mylist.pop(5)"
   ]
  },
  {
   "cell_type": "code",
   "execution_count": null,
   "id": "2a0ff7f4-759e-4cce-80b0-6320af2cd2f0",
   "metadata": {},
   "outputs": [],
   "source": []
  },
  {
   "cell_type": "code",
   "execution_count": null,
   "id": "a771530f-56d6-4a3f-91ac-5efc0af9fe41",
   "metadata": {},
   "outputs": [],
   "source": []
  },
  {
   "cell_type": "code",
   "execution_count": 25,
   "id": "4250a9ba-3afc-4d12-8ae8-624b5775ce7e",
   "metadata": {},
   "outputs": [
    {
     "data": {
      "text/plain": [
       "[10, 20, 30, 40, 50, 70, 80, 'abc', 'a', 'b']"
      ]
     },
     "execution_count": 25,
     "metadata": {},
     "output_type": "execute_result"
    }
   ],
   "source": [
    "mylist"
   ]
  },
  {
   "cell_type": "code",
   "execution_count": 28,
   "id": "17e671af-36d5-4580-b91b-ed0f936b17bf",
   "metadata": {},
   "outputs": [],
   "source": [
    "x = 5\n",
    "lots_of_zeroes = [0] *  x"
   ]
  },
  {
   "cell_type": "markdown",
   "id": "f71329d9-4ae2-47d6-8299-310bd1a0e834",
   "metadata": {},
   "source": [
    "# Exercise: Vowels, digits, and others\n",
    "\n",
    "1. Define three empty lists (`vowels`, `digits`, `others`).\n",
    "2. Ask the user repeatedly to enter text.\n",
    "    - If we get an empty string, stop asking\n",
    "3. Go over every character in the string\n",
    "    - If it's a vowel, add to `vowels` (a, e, i, o, u)\n",
    "    - If it's a digit, add to `digits`\n",
    "    - If it's something else, add to `others`\n",
    "4. In the end, print all three lists\n",
    "\n",
    "Example:\n",
    "\n",
    "    Enter text: hello!!\n",
    "    Enter text: 123\n",
    "    Enter text: [ENTER]\n",
    "    vowels: ['e', 'o']\n",
    "    digits: ['1', '2', '3']\n",
    "    others: ['h', 'l', 'l', '!', '!']"
   ]
  },
  {
   "cell_type": "code",
   "execution_count": 30,
   "id": "40bf5556-d471-4f16-9a26-876203db8823",
   "metadata": {},
   "outputs": [],
   "source": [
    "if s == '':\n",
    "    print('Empty')"
   ]
  },
  {
   "cell_type": "code",
   "execution_count": null,
   "id": "8f84c55d-1a4a-486c-ad8a-614859beb80d",
   "metadata": {},
   "outputs": [],
   "source": [
    "if not s:\n",
    "    print('Empty!')"
   ]
  },
  {
   "cell_type": "code",
   "execution_count": 31,
   "id": "9e86b9d9-6251-401b-8244-817f1d642bb8",
   "metadata": {},
   "outputs": [
    {
     "name": "stdin",
     "output_type": "stream",
     "text": [
      "Enter text:  hello!! \n",
      "Enter text:  123 are you there?\n",
      "Enter text:  \n"
     ]
    },
    {
     "name": "stdout",
     "output_type": "stream",
     "text": [
      "vowels = ['e', 'o', 'a', 'e', 'o', 'u', 'e', 'e']\n",
      "digits = ['1', '2', '3']\n",
      "others = ['h', 'l', 'l', '!', '!', ' ', 'r', ' ', 'y', ' ', 't', 'h', 'r', '?']\n"
     ]
    }
   ],
   "source": [
    "vowels = []\n",
    "digits = []\n",
    "others = []\n",
    "\n",
    "while True:\n",
    "    text = input('Enter text: ').strip()\n",
    "\n",
    "    if not text:\n",
    "        break\n",
    "        \n",
    "    for one_character in text.lower():\n",
    "        if one_character in 'aeiou':        # if it's a vowel\n",
    "            vowels.append(one_character)    #   .... add to the end of vowels\n",
    "        elif one_character.isdigit():       # if it's a digit\n",
    "            digits.append(one_character)    #   ....  add to the end of digits\n",
    "        else:\n",
    "            others.append(one_character)    # otherwise, add to others\n",
    "\n",
    "print(f'vowels = {vowels}')\n",
    "print(f'digits = {digits}')\n",
    "print(f'others = {others}')"
   ]
  },
  {
   "cell_type": "code",
   "execution_count": 32,
   "id": "cd94503f-b546-4f5d-ae54-b92fa132bb32",
   "metadata": {},
   "outputs": [
    {
     "ename": "SyntaxError",
     "evalue": "invalid syntax. Maybe you meant '==' or ':=' instead of '='? (908527134.py, line 5)",
     "output_type": "error",
     "traceback": [
      "\u001b[0;36m  Cell \u001b[0;32mIn[32], line 5\u001b[0;36m\u001b[0m\n\u001b[0;31m    while text = input('Enter text: ').strip():\u001b[0m\n\u001b[0m          ^\u001b[0m\n\u001b[0;31mSyntaxError\u001b[0m\u001b[0;31m:\u001b[0m invalid syntax. Maybe you meant '==' or ':=' instead of '='?\n"
     ]
    }
   ],
   "source": [
    "# assignment expression operator, which is :=\n",
    "# Walrus \n",
    "\n",
    "vowels = []\n",
    "digits = []\n",
    "others = []\n",
    "\n",
    "while text := input('Enter text: ').strip():\n",
    "\n",
    "    for one_character in text.lower():\n",
    "        if one_character in 'aeiou':        # if it's a vowel\n",
    "            vowels.append(one_character)    #   .... add to the end of vowels\n",
    "        elif one_character.isdigit():       # if it's a digit\n",
    "            digits.append(one_character)    #   ....  add to the end of digits\n",
    "        else:\n",
    "            others.append(one_character)    # otherwise, add to others\n",
    "\n",
    "print(f'vowels = {vowels}')\n",
    "print(f'digits = {digits}')\n",
    "print(f'others = {others}')"
   ]
  },
  {
   "cell_type": "code",
   "execution_count": 33,
   "id": "b95f5d0d-71cd-40a4-ade8-43cf55e723a9",
   "metadata": {},
   "outputs": [
    {
     "ename": "SyntaxError",
     "evalue": "invalid syntax (4101523498.py, line 1)",
     "output_type": "error",
     "traceback": [
      "\u001b[0;36m  Cell \u001b[0;32mIn[33], line 1\u001b[0;36m\u001b[0m\n\u001b[0;31m    x := 5\u001b[0m\n\u001b[0m      ^\u001b[0m\n\u001b[0;31mSyntaxError\u001b[0m\u001b[0;31m:\u001b[0m invalid syntax\n"
     ]
    }
   ],
   "source": [
    "x := 5"
   ]
  },
  {
   "cell_type": "code",
   "execution_count": 34,
   "id": "648b260e-6dbb-46a4-8908-6433737f9e10",
   "metadata": {},
   "outputs": [
    {
     "name": "stdout",
     "output_type": "stream",
     "text": [
      "5\n"
     ]
    }
   ],
   "source": [
    "if x := 5:\n",
    "    print(x)"
   ]
  },
  {
   "cell_type": "code",
   "execution_count": 36,
   "id": "61eb3bcc-ac2f-4694-8033-d08f975ee5cb",
   "metadata": {},
   "outputs": [],
   "source": [
    "y = x = 10"
   ]
  },
  {
   "cell_type": "code",
   "execution_count": 37,
   "id": "7a78c12e-a441-4d0c-8ca7-a6338fd06b2a",
   "metadata": {},
   "outputs": [],
   "source": [
    "y = x = []"
   ]
  },
  {
   "cell_type": "code",
   "execution_count": 38,
   "id": "5ae881a1-4e17-4600-a76f-e5666f0106e8",
   "metadata": {},
   "outputs": [],
   "source": [
    "x.append(10)\n",
    "y.append(20)"
   ]
  },
  {
   "cell_type": "code",
   "execution_count": 39,
   "id": "263b1d7e-07a3-42cf-a740-ab0a680d0b07",
   "metadata": {},
   "outputs": [
    {
     "data": {
      "text/plain": [
       "[10, 20]"
      ]
     },
     "execution_count": 39,
     "metadata": {},
     "output_type": "execute_result"
    }
   ],
   "source": [
    "x"
   ]
  },
  {
   "cell_type": "code",
   "execution_count": 40,
   "id": "e4ecb1f4-bfad-4197-b954-d8b42d94aebf",
   "metadata": {},
   "outputs": [
    {
     "data": {
      "text/plain": [
       "[10, 20]"
      ]
     },
     "execution_count": 40,
     "metadata": {},
     "output_type": "execute_result"
    }
   ],
   "source": [
    "y"
   ]
  },
  {
   "cell_type": "code",
   "execution_count": 41,
   "id": "24445763-6b5f-4a2d-9de4-9203a8073924",
   "metadata": {},
   "outputs": [
    {
     "data": {
      "text/plain": [
       "123"
      ]
     },
     "execution_count": 41,
     "metadata": {},
     "output_type": "execute_result"
    }
   ],
   "source": [
    "int('123')"
   ]
  },
  {
   "cell_type": "code",
   "execution_count": 42,
   "id": "5b46b262-272b-4d8d-aa76-0915f86ed5b8",
   "metadata": {},
   "outputs": [
    {
     "data": {
      "text/plain": [
       "123.0"
      ]
     },
     "execution_count": 42,
     "metadata": {},
     "output_type": "execute_result"
    }
   ],
   "source": [
    "float('123')"
   ]
  },
  {
   "cell_type": "code",
   "execution_count": 43,
   "id": "8e230230-4db6-4428-b3ac-c86b42eaf7ed",
   "metadata": {},
   "outputs": [
    {
     "data": {
      "text/plain": [
       "'123'"
      ]
     },
     "execution_count": 43,
     "metadata": {},
     "output_type": "execute_result"
    }
   ],
   "source": [
    "str(123)"
   ]
  },
  {
   "cell_type": "code",
   "execution_count": 44,
   "id": "62eccb9e-b882-4ad0-a15c-5406c50b9e83",
   "metadata": {},
   "outputs": [
    {
     "data": {
      "text/plain": [
       "'12.34'"
      ]
     },
     "execution_count": 44,
     "metadata": {},
     "output_type": "execute_result"
    }
   ],
   "source": [
    "str(12.34)"
   ]
  },
  {
   "cell_type": "code",
   "execution_count": 45,
   "id": "f4ce874e-525a-453f-899d-8dd4774f6b60",
   "metadata": {},
   "outputs": [
    {
     "data": {
      "text/plain": [
       "['a', 'b', 'c', 'd', 'e']"
      ]
     },
     "execution_count": 45,
     "metadata": {},
     "output_type": "execute_result"
    }
   ],
   "source": [
    "s = 'abcde'\n",
    "list(s)"
   ]
  },
  {
   "cell_type": "code",
   "execution_count": 46,
   "id": "c4b00a08-7b0a-4bbe-aae2-e830ced6cba5",
   "metadata": {},
   "outputs": [
    {
     "data": {
      "text/plain": [
       "'[10, 20, 30]'"
      ]
     },
     "execution_count": 46,
     "metadata": {},
     "output_type": "execute_result"
    }
   ],
   "source": [
    "mylist = [10, 20, 30]\n",
    "str(mylist)"
   ]
  },
  {
   "cell_type": "code",
   "execution_count": 47,
   "id": "11cf7b67-c79d-4b1e-8095-20daf95e1978",
   "metadata": {},
   "outputs": [
    {
     "data": {
      "text/plain": [
       "['1', '2', '3', ',', '4', '5', ',', '6', '7', '8', '9']"
      ]
     },
     "execution_count": 47,
     "metadata": {},
     "output_type": "execute_result"
    }
   ],
   "source": [
    "data = '123,45,6789'\n",
    "\n",
    "list(data)"
   ]
  },
  {
   "cell_type": "code",
   "execution_count": 48,
   "id": "0599a128-decb-4d7d-a8b7-0aa2f6182b17",
   "metadata": {},
   "outputs": [
    {
     "data": {
      "text/plain": [
       "['123', '45', '6789']"
      ]
     },
     "execution_count": 48,
     "metadata": {},
     "output_type": "execute_result"
    }
   ],
   "source": [
    "# list.split -- always returns a list of strings\n",
    "# we need to say what the field separator is\n",
    "\n",
    "data.split(',')"
   ]
  },
  {
   "cell_type": "code",
   "execution_count": 49,
   "id": "5f01d0f4-be48-4f1c-87a2-e917cfcc6eac",
   "metadata": {},
   "outputs": [
    {
     "data": {
      "text/plain": [
       "['123,', '5,6789']"
      ]
     },
     "execution_count": 49,
     "metadata": {},
     "output_type": "execute_result"
    }
   ],
   "source": [
    "data.split('4')"
   ]
  },
  {
   "cell_type": "code",
   "execution_count": 50,
   "id": "7ac9f49c-8cd0-4506-b453-cd29b7708195",
   "metadata": {},
   "outputs": [
    {
     "data": {
      "text/plain": [
       "['This', 'is', 'a', 'bunch', 'of', 'words', 'for', 'my', 'Python', 'course']"
      ]
     },
     "execution_count": 50,
     "metadata": {},
     "output_type": "execute_result"
    }
   ],
   "source": [
    "text = 'This is a bunch of words for my Python course'\n",
    "\n",
    "text.split(' ')"
   ]
  },
  {
   "cell_type": "code",
   "execution_count": 51,
   "id": "6be9608d-ce40-49fb-a7e6-2e3e767dd5a4",
   "metadata": {},
   "outputs": [
    {
     "data": {
      "text/plain": [
       "['This',\n",
       " '',\n",
       " 'is',\n",
       " 'a',\n",
       " '',\n",
       " '',\n",
       " 'bunch',\n",
       " 'of',\n",
       " '',\n",
       " '',\n",
       " '',\n",
       " 'words',\n",
       " 'for',\n",
       " 'my',\n",
       " '',\n",
       " '',\n",
       " '',\n",
       " '',\n",
       " 'Python',\n",
       " 'course']"
      ]
     },
     "execution_count": 51,
     "metadata": {},
     "output_type": "execute_result"
    }
   ],
   "source": [
    "text = 'This  is a   bunch of    words for my     Python course'\n",
    "\n",
    "text.split(' ')"
   ]
  },
  {
   "cell_type": "code",
   "execution_count": 52,
   "id": "dabcac9d-914e-4b67-8472-0c87486606de",
   "metadata": {},
   "outputs": [
    {
     "data": {
      "text/plain": [
       "['This', 'is', 'a', 'bunch', 'of', 'words', 'for', 'my', 'Python', 'course']"
      ]
     },
     "execution_count": 52,
     "metadata": {},
     "output_type": "execute_result"
    }
   ],
   "source": [
    "# without an argument, Python uses any/all whitespace as one delimiter\n",
    "\n",
    "text.split()"
   ]
  },
  {
   "cell_type": "code",
   "execution_count": 53,
   "id": "5b91daa0-35b9-4470-8ea1-8db12e12c9c6",
   "metadata": {},
   "outputs": [
    {
     "data": {
      "text/plain": [
       "\"['abcd', 'ef', 'ghijk']\""
      ]
     },
     "execution_count": 53,
     "metadata": {},
     "output_type": "execute_result"
    }
   ],
   "source": [
    "mylist = ['abcd', 'ef', 'ghijk']\n",
    "\n",
    "str(mylist)"
   ]
  },
  {
   "cell_type": "code",
   "execution_count": 54,
   "id": "81c86917-3247-47ce-b55f-f93a52fd83ef",
   "metadata": {},
   "outputs": [
    {
     "data": {
      "text/plain": [
       "'abcd*ef*ghijk'"
      ]
     },
     "execution_count": 54,
     "metadata": {},
     "output_type": "execute_result"
    }
   ],
   "source": [
    "# str.join -- returns a string based on an iterable's contents\n",
    "\n",
    "'*'.join(mylist)"
   ]
  },
  {
   "cell_type": "code",
   "execution_count": 55,
   "id": "81938470-3be9-4df1-832a-6c73e9e68855",
   "metadata": {},
   "outputs": [
    {
     "data": {
      "text/plain": [
       "'abcd\\nef\\nghijk'"
      ]
     },
     "execution_count": 55,
     "metadata": {},
     "output_type": "execute_result"
    }
   ],
   "source": [
    "'\\n'.join(mylist)"
   ]
  },
  {
   "cell_type": "code",
   "execution_count": 56,
   "id": "efff3df5-8865-48a3-8740-f11b0ff075e0",
   "metadata": {},
   "outputs": [
    {
     "data": {
      "text/plain": [
       "'abcdefghijk'"
      ]
     },
     "execution_count": 56,
     "metadata": {},
     "output_type": "execute_result"
    }
   ],
   "source": [
    "''.join(mylist)"
   ]
  },
  {
   "cell_type": "code",
   "execution_count": 57,
   "id": "31c8b30f-5442-4b76-bb79-f9d2725b867e",
   "metadata": {},
   "outputs": [
    {
     "data": {
      "text/plain": [
       "'a*b*c*d'"
      ]
     },
     "execution_count": 57,
     "metadata": {},
     "output_type": "execute_result"
    }
   ],
   "source": [
    "'*'.join('abcd')"
   ]
  },
  {
   "cell_type": "code",
   "execution_count": 58,
   "id": "6251606a-d86b-4e1f-a2c9-9a81d8ca009d",
   "metadata": {},
   "outputs": [
    {
     "ename": "TypeError",
     "evalue": "sequence item 0: expected str instance, int found",
     "output_type": "error",
     "traceback": [
      "\u001b[0;31m---------------------------------------------------------------------------\u001b[0m",
      "\u001b[0;31mTypeError\u001b[0m                                 Traceback (most recent call last)",
      "Cell \u001b[0;32mIn[58], line 1\u001b[0m\n\u001b[0;32m----> 1\u001b[0m \u001b[38;5;124;43m'\u001b[39;49m\u001b[38;5;124;43m*\u001b[39;49m\u001b[38;5;124;43m'\u001b[39;49m\u001b[38;5;241;43m.\u001b[39;49m\u001b[43mjoin\u001b[49m\u001b[43m(\u001b[49m\u001b[43m[\u001b[49m\u001b[38;5;241;43m10\u001b[39;49m\u001b[43m,\u001b[49m\u001b[43m \u001b[49m\u001b[38;5;241;43m20\u001b[39;49m\u001b[43m,\u001b[49m\u001b[43m \u001b[49m\u001b[38;5;241;43m30\u001b[39;49m\u001b[43m]\u001b[49m\u001b[43m)\u001b[49m\n",
      "\u001b[0;31mTypeError\u001b[0m: sequence item 0: expected str instance, int found"
     ]
    }
   ],
   "source": [
    "'*'.join([10, 20, 30])"
   ]
  },
  {
   "cell_type": "code",
   "execution_count": 60,
   "id": "7486f9b7-4a3b-45f0-a510-b66cb9267cb7",
   "metadata": {},
   "outputs": [
    {
     "data": {
      "text/plain": [
       "'aaabbbcccdddeeefffggg'"
      ]
     },
     "execution_count": 60,
     "metadata": {},
     "output_type": "execute_result"
    }
   ],
   "source": [
    "output = ''\n",
    "\n",
    "for one_item in 'abcdefg':\n",
    "    output += one_item * 3\n",
    "\n",
    "output"
   ]
  },
  {
   "cell_type": "code",
   "execution_count": 62,
   "id": "8f31ea4d-715f-4d74-a4d9-54bbd97a5a8c",
   "metadata": {},
   "outputs": [
    {
     "data": {
      "text/plain": [
       "'aaabbbcccdddeeefffggg'"
      ]
     },
     "execution_count": 62,
     "metadata": {},
     "output_type": "execute_result"
    }
   ],
   "source": [
    "output = []\n",
    "\n",
    "for one_item in 'abcdefg':\n",
    "    output.append(one_item * 3)\n",
    "\n",
    "''.join(output)"
   ]
  },
  {
   "cell_type": "markdown",
   "id": "11827c4d-37de-4aeb-8321-4f4b71ff4098",
   "metadata": {},
   "source": [
    "# Exercise: Pig Latin Sentence\n",
    "\n",
    "1. Ask the user for a sentence (all lowercase, no punctuation).\n",
    "2. Translate each word in the sentence to Pig Latin.\n",
    "3. Print the translation on a single line\n",
    "\n",
    "Example:\n",
    "\n",
    "    Enter sentence: this is a great test\n",
    "    histay isway away reatgay esttay"
   ]
  },
  {
   "cell_type": "code",
   "execution_count": 63,
   "id": "6496765e-44cd-4720-b7c4-6fe5bc5784d4",
   "metadata": {},
   "outputs": [
    {
     "name": "stdin",
     "output_type": "stream",
     "text": [
      "Enter word:  asdfa\n"
     ]
    },
    {
     "name": "stdout",
     "output_type": "stream",
     "text": [
      "asdfaway\n"
     ]
    }
   ],
   "source": [
    "word = input('Enter word: ').strip()\n",
    "\n",
    "if word[0] in 'aeiou':\n",
    "    print(word + 'way')\n",
    "else:\n",
    "    print(word[1:] + word[0] + 'ay')"
   ]
  },
  {
   "cell_type": "code",
   "execution_count": null,
   "id": "fef21a2b-e9de-47a5-bc91-5a24ffb3ff1e",
   "metadata": {},
   "outputs": [],
   "source": []
  }
 ],
 "metadata": {
  "kernelspec": {
   "display_name": "Python 3 (ipykernel)",
   "language": "python",
   "name": "python3"
  },
  "language_info": {
   "codemirror_mode": {
    "name": "ipython",
    "version": 3
   },
   "file_extension": ".py",
   "mimetype": "text/x-python",
   "name": "python",
   "nbconvert_exporter": "python",
   "pygments_lexer": "ipython3",
   "version": "3.13.0"
  },
  "widgets": {
   "application/vnd.jupyter.widget-state+json": {
    "state": {},
    "version_major": 2,
    "version_minor": 0
   }
  }
 },
 "nbformat": 4,
 "nbformat_minor": 5
}
