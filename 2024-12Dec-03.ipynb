{
 "cells": [
  {
   "cell_type": "markdown",
   "id": "015267ce-ca25-4d3c-b75d-c5c9cb862813",
   "metadata": {},
   "source": [
    "# Agenda\n",
    "\n",
    "- List\n",
    "- Strings to lists, and back\n",
    "- Tuples\n",
    "- Dictionaries\n",
    "- Files"
   ]
  },
  {
   "cell_type": "code",
   "execution_count": 1,
   "id": "2826df6e-b5ea-4546-bb8f-05af80df7c3e",
   "metadata": {},
   "outputs": [
    {
     "data": {
      "text/plain": [
       "'a'"
      ]
     },
     "execution_count": 1,
     "metadata": {},
     "output_type": "execute_result"
    }
   ],
   "source": [
    "s = 'abcdefghij'\n",
    "\n",
    "s[0]"
   ]
  },
  {
   "cell_type": "code",
   "execution_count": 2,
   "id": "2f6a9aae-f876-4109-b253-b0fae0a17ad4",
   "metadata": {},
   "outputs": [
    {
     "data": {
      "text/plain": [
       "'b'"
      ]
     },
     "execution_count": 2,
     "metadata": {},
     "output_type": "execute_result"
    }
   ],
   "source": [
    "s[1]"
   ]
  },
  {
   "cell_type": "code",
   "execution_count": 3,
   "id": "10a1643c-9a8f-4491-a07a-250c320cfd5a",
   "metadata": {},
   "outputs": [
    {
     "ename": "TypeError",
     "evalue": "'str' object does not support item assignment",
     "output_type": "error",
     "traceback": [
      "\u001b[0;31m---------------------------------------------------------------------------\u001b[0m",
      "\u001b[0;31mTypeError\u001b[0m                                 Traceback (most recent call last)",
      "Cell \u001b[0;32mIn[3], line 1\u001b[0m\n\u001b[0;32m----> 1\u001b[0m \u001b[43ms\u001b[49m\u001b[43m[\u001b[49m\u001b[38;5;241;43m0\u001b[39;49m\u001b[43m]\u001b[49m \u001b[38;5;241m=\u001b[39m \u001b[38;5;124m'\u001b[39m\u001b[38;5;124m!\u001b[39m\u001b[38;5;124m'\u001b[39m\n",
      "\u001b[0;31mTypeError\u001b[0m: 'str' object does not support item assignment"
     ]
    }
   ],
   "source": [
    "s[0] = '!'"
   ]
  },
  {
   "cell_type": "markdown",
   "id": "ad2c2c90-b878-4fa9-92f0-0c2552203417",
   "metadata": {},
   "source": [
    "# Immutable"
   ]
  },
  {
   "cell_type": "markdown",
   "id": "09b7cfe9-74f1-4c32-84cf-bf6265663eff",
   "metadata": {},
   "source": [
    "# Lists\n",
    "\n",
    "Lists can contain any objects (values) that we want. We can have as many values as we want in a list.\n",
    "\n",
    "We define a list with `[]`, with `,` between items."
   ]
  },
  {
   "cell_type": "code",
   "execution_count": 4,
   "id": "335eae5b-2726-4446-9732-f9c8e1dc15d4",
   "metadata": {},
   "outputs": [
    {
     "data": {
      "text/plain": [
       "list"
      ]
     },
     "execution_count": 4,
     "metadata": {},
     "output_type": "execute_result"
    }
   ],
   "source": [
    "mylist = [10, 20, 30, 40, 50, 60, 70, 80, 90]\n",
    "\n",
    "type(mylist)"
   ]
  },
  {
   "cell_type": "code",
   "execution_count": 5,
   "id": "459cd966-ddce-421c-842f-14b9c0d8a62d",
   "metadata": {},
   "outputs": [
    {
     "data": {
      "text/plain": [
       "10"
      ]
     },
     "execution_count": 5,
     "metadata": {},
     "output_type": "execute_result"
    }
   ],
   "source": [
    "mylist[0]"
   ]
  },
  {
   "cell_type": "code",
   "execution_count": 6,
   "id": "015d133a-1602-4062-b022-8675c6f77a29",
   "metadata": {},
   "outputs": [
    {
     "data": {
      "text/plain": [
       "20"
      ]
     },
     "execution_count": 6,
     "metadata": {},
     "output_type": "execute_result"
    }
   ],
   "source": [
    "mylist[1]"
   ]
  },
  {
   "cell_type": "code",
   "execution_count": 7,
   "id": "c7774606-45d4-46a6-ad47-a8c1974661fc",
   "metadata": {},
   "outputs": [
    {
     "data": {
      "text/plain": [
       "90"
      ]
     },
     "execution_count": 7,
     "metadata": {},
     "output_type": "execute_result"
    }
   ],
   "source": [
    "mylist[-1]"
   ]
  },
  {
   "cell_type": "code",
   "execution_count": 8,
   "id": "340ffd70-36e8-4d88-a066-ec96b1a8ffdc",
   "metadata": {},
   "outputs": [
    {
     "data": {
      "text/plain": [
       "[30, 40, 50, 60, 70]"
      ]
     },
     "execution_count": 8,
     "metadata": {},
     "output_type": "execute_result"
    }
   ],
   "source": [
    "mylist[2:7]    # slice"
   ]
  },
  {
   "cell_type": "code",
   "execution_count": 9,
   "id": "3a6842ce-3387-4fff-9f7e-26e14f64696d",
   "metadata": {},
   "outputs": [
    {
     "name": "stdout",
     "output_type": "stream",
     "text": [
      "10\n",
      "20\n",
      "30\n",
      "40\n",
      "50\n",
      "60\n",
      "70\n",
      "80\n",
      "90\n"
     ]
    }
   ],
   "source": [
    "for one_item in mylist:\n",
    "    print(one_item)"
   ]
  },
  {
   "cell_type": "code",
   "execution_count": 10,
   "id": "3a6f26b2-3282-4ed9-82e5-231754765653",
   "metadata": {},
   "outputs": [
    {
     "data": {
      "text/plain": [
       "True"
      ]
     },
     "execution_count": 10,
     "metadata": {},
     "output_type": "execute_result"
    }
   ],
   "source": [
    "50 in mylist"
   ]
  },
  {
   "cell_type": "code",
   "execution_count": 11,
   "id": "5f698dbb-2789-416f-80a0-f36ab70c5e76",
   "metadata": {},
   "outputs": [
    {
     "data": {
      "text/plain": [
       "9"
      ]
     },
     "execution_count": 11,
     "metadata": {},
     "output_type": "execute_result"
    }
   ],
   "source": [
    "len(mylist)"
   ]
  },
  {
   "cell_type": "code",
   "execution_count": 12,
   "id": "883be751-227a-4320-89a4-b24769a8aa2c",
   "metadata": {},
   "outputs": [
    {
     "data": {
      "text/plain": [
       "[10, 20, 30, 40, 50, 60, 70, 80, 90]"
      ]
     },
     "execution_count": 12,
     "metadata": {},
     "output_type": "execute_result"
    }
   ],
   "source": [
    "mylist"
   ]
  },
  {
   "cell_type": "code",
   "execution_count": 13,
   "id": "85cdfa9c-9adb-485c-88db-d715c5576291",
   "metadata": {},
   "outputs": [
    {
     "data": {
      "text/plain": [
       "10"
      ]
     },
     "execution_count": 13,
     "metadata": {},
     "output_type": "execute_result"
    }
   ],
   "source": [
    "mylist[0]"
   ]
  },
  {
   "cell_type": "code",
   "execution_count": 14,
   "id": "21de607d-6d32-47dd-b9ab-024d7e10d274",
   "metadata": {},
   "outputs": [
    {
     "data": {
      "text/plain": [
       "['!', 20, 30, 40, 50, 60, 70, 80, 90]"
      ]
     },
     "execution_count": 14,
     "metadata": {},
     "output_type": "execute_result"
    }
   ],
   "source": [
    "mylist[0] = '!'\n",
    "mylist"
   ]
  },
  {
   "cell_type": "code",
   "execution_count": 15,
   "id": "968d101f-e45a-4f77-9953-73fb408823c2",
   "metadata": {},
   "outputs": [
    {
     "data": {
      "text/plain": [
       "['!', 20, 30, 40, 50, 60, 70, 80, 90, 100]"
      ]
     },
     "execution_count": 15,
     "metadata": {},
     "output_type": "execute_result"
    }
   ],
   "source": [
    "# list.append -- argument is what we want to add\n",
    "\n",
    "mylist.append(100)\n",
    "mylist"
   ]
  },
  {
   "cell_type": "code",
   "execution_count": 16,
   "id": "c9908ea3-ecd3-42f5-8f02-2e33aa272305",
   "metadata": {},
   "outputs": [
    {
     "data": {
      "text/plain": [
       "['!', 20, 30, 40, 50, 60, 70, 80, 90, 100, '?']"
      ]
     },
     "execution_count": 16,
     "metadata": {},
     "output_type": "execute_result"
    }
   ],
   "source": [
    "mylist.append('?')\n",
    "mylist"
   ]
  },
  {
   "cell_type": "code",
   "execution_count": 17,
   "id": "244cae9d-e470-4047-8699-2ba01f79f24f",
   "metadata": {},
   "outputs": [
    {
     "data": {
      "text/plain": [
       "['!', 20, 30, 40, 50, 60, 70, 80, 90, 100, '?', [111, 222, 333]]"
      ]
     },
     "execution_count": 17,
     "metadata": {},
     "output_type": "execute_result"
    }
   ],
   "source": [
    "mylist.append([111, 222, 333])\n",
    "mylist"
   ]
  },
  {
   "cell_type": "code",
   "execution_count": 18,
   "id": "e280dba7-a476-4782-a007-a739439631a4",
   "metadata": {},
   "outputs": [
    {
     "data": {
      "text/plain": [
       "[10, 20, 30, 40, 50, 60, 70, 80]"
      ]
     },
     "execution_count": 18,
     "metadata": {},
     "output_type": "execute_result"
    }
   ],
   "source": [
    "# +=   adds all of the items on the right, with a for loop\n",
    "\n",
    "mylist = [10, 20, 30, 40, 50]\n",
    "mylist += [60, 70, 80]\n",
    "mylist"
   ]
  },
  {
   "cell_type": "code",
   "execution_count": 19,
   "id": "0875c8c5-435c-4e89-8e24-a739b3def30b",
   "metadata": {},
   "outputs": [
    {
     "data": {
      "text/plain": [
       "[10, 20, 30, 40, 50, 60, 70, 80, 'abc']"
      ]
     },
     "execution_count": 19,
     "metadata": {},
     "output_type": "execute_result"
    }
   ],
   "source": [
    "mylist.append('abc')\n",
    "mylist"
   ]
  },
  {
   "cell_type": "code",
   "execution_count": 20,
   "id": "3346777f-ba4a-4e02-94b6-ac136e56ac7e",
   "metadata": {},
   "outputs": [
    {
     "data": {
      "text/plain": [
       "[10, 20, 30, 40, 50, 60, 70, 80, 'abc', 'a', 'b', 'c']"
      ]
     },
     "execution_count": 20,
     "metadata": {},
     "output_type": "execute_result"
    }
   ],
   "source": [
    "mylist += 'abc'\n",
    "mylist"
   ]
  },
  {
   "cell_type": "code",
   "execution_count": 21,
   "id": "93dc110d-9291-409e-9341-55bf8a920d5a",
   "metadata": {},
   "outputs": [
    {
     "data": {
      "text/plain": [
       "'c'"
      ]
     },
     "execution_count": 21,
     "metadata": {},
     "output_type": "execute_result"
    }
   ],
   "source": [
    "# remove from a list's final element with list.pop\n",
    "\n",
    "mylist.pop()"
   ]
  },
  {
   "cell_type": "code",
   "execution_count": 23,
   "id": "13c2e5c3-1407-4be8-a60f-240183a56313",
   "metadata": {},
   "outputs": [
    {
     "data": {
      "text/plain": [
       "[10, 20, 30, 40, 50, 60, 70, 80, 'abc', 'a', 'b']"
      ]
     },
     "execution_count": 23,
     "metadata": {},
     "output_type": "execute_result"
    }
   ],
   "source": [
    "mylist"
   ]
  },
  {
   "cell_type": "code",
   "execution_count": 24,
   "id": "c385fc18-62c5-4713-86d7-2c104efabf8c",
   "metadata": {},
   "outputs": [
    {
     "data": {
      "text/plain": [
       "60"
      ]
     },
     "execution_count": 24,
     "metadata": {},
     "output_type": "execute_result"
    }
   ],
   "source": [
    "mylist.pop(5)"
   ]
  },
  {
   "cell_type": "code",
   "execution_count": null,
   "id": "2a0ff7f4-759e-4cce-80b0-6320af2cd2f0",
   "metadata": {},
   "outputs": [],
   "source": []
  },
  {
   "cell_type": "code",
   "execution_count": null,
   "id": "a771530f-56d6-4a3f-91ac-5efc0af9fe41",
   "metadata": {},
   "outputs": [],
   "source": []
  },
  {
   "cell_type": "code",
   "execution_count": 25,
   "id": "4250a9ba-3afc-4d12-8ae8-624b5775ce7e",
   "metadata": {},
   "outputs": [
    {
     "data": {
      "text/plain": [
       "[10, 20, 30, 40, 50, 70, 80, 'abc', 'a', 'b']"
      ]
     },
     "execution_count": 25,
     "metadata": {},
     "output_type": "execute_result"
    }
   ],
   "source": [
    "mylist"
   ]
  },
  {
   "cell_type": "code",
   "execution_count": 28,
   "id": "17e671af-36d5-4580-b91b-ed0f936b17bf",
   "metadata": {},
   "outputs": [],
   "source": [
    "x = 5\n",
    "lots_of_zeroes = [0] *  x"
   ]
  },
  {
   "cell_type": "markdown",
   "id": "f71329d9-4ae2-47d6-8299-310bd1a0e834",
   "metadata": {},
   "source": [
    "# Exercise: Vowels, digits, and others\n",
    "\n",
    "1. Define three empty lists (`vowels`, `digits`, `others`).\n",
    "2. Ask the user repeatedly to enter text.\n",
    "    - If we get an empty string, stop asking\n",
    "3. Go over every character in the string\n",
    "    - If it's a vowel, add to `vowels` (a, e, i, o, u)\n",
    "    - If it's a digit, add to `digits`\n",
    "    - If it's something else, add to `others`\n",
    "4. In the end, print all three lists\n",
    "\n",
    "Example:\n",
    "\n",
    "    Enter text: hello!!\n",
    "    Enter text: 123\n",
    "    Enter text: [ENTER]\n",
    "    vowels: ['e', 'o']\n",
    "    digits: ['1', '2', '3']\n",
    "    others: ['h', 'l', 'l', '!', '!']"
   ]
  },
  {
   "cell_type": "code",
   "execution_count": 30,
   "id": "40bf5556-d471-4f16-9a26-876203db8823",
   "metadata": {},
   "outputs": [],
   "source": [
    "if s == '':\n",
    "    print('Empty')"
   ]
  },
  {
   "cell_type": "code",
   "execution_count": null,
   "id": "8f84c55d-1a4a-486c-ad8a-614859beb80d",
   "metadata": {},
   "outputs": [],
   "source": [
    "if not s:\n",
    "    print('Empty!')"
   ]
  },
  {
   "cell_type": "code",
   "execution_count": 31,
   "id": "9e86b9d9-6251-401b-8244-817f1d642bb8",
   "metadata": {},
   "outputs": [
    {
     "name": "stdin",
     "output_type": "stream",
     "text": [
      "Enter text:  hello!! \n",
      "Enter text:  123 are you there?\n",
      "Enter text:  \n"
     ]
    },
    {
     "name": "stdout",
     "output_type": "stream",
     "text": [
      "vowels = ['e', 'o', 'a', 'e', 'o', 'u', 'e', 'e']\n",
      "digits = ['1', '2', '3']\n",
      "others = ['h', 'l', 'l', '!', '!', ' ', 'r', ' ', 'y', ' ', 't', 'h', 'r', '?']\n"
     ]
    }
   ],
   "source": [
    "vowels = []\n",
    "digits = []\n",
    "others = []\n",
    "\n",
    "while True:\n",
    "    text = input('Enter text: ').strip()\n",
    "\n",
    "    if not text:\n",
    "        break\n",
    "        \n",
    "    for one_character in text.lower():\n",
    "        if one_character in 'aeiou':        # if it's a vowel\n",
    "            vowels.append(one_character)    #   .... add to the end of vowels\n",
    "        elif one_character.isdigit():       # if it's a digit\n",
    "            digits.append(one_character)    #   ....  add to the end of digits\n",
    "        else:\n",
    "            others.append(one_character)    # otherwise, add to others\n",
    "\n",
    "print(f'vowels = {vowels}')\n",
    "print(f'digits = {digits}')\n",
    "print(f'others = {others}')"
   ]
  },
  {
   "cell_type": "code",
   "execution_count": 32,
   "id": "cd94503f-b546-4f5d-ae54-b92fa132bb32",
   "metadata": {},
   "outputs": [
    {
     "ename": "SyntaxError",
     "evalue": "invalid syntax. Maybe you meant '==' or ':=' instead of '='? (908527134.py, line 5)",
     "output_type": "error",
     "traceback": [
      "\u001b[0;36m  Cell \u001b[0;32mIn[32], line 5\u001b[0;36m\u001b[0m\n\u001b[0;31m    while text = input('Enter text: ').strip():\u001b[0m\n\u001b[0m          ^\u001b[0m\n\u001b[0;31mSyntaxError\u001b[0m\u001b[0;31m:\u001b[0m invalid syntax. Maybe you meant '==' or ':=' instead of '='?\n"
     ]
    }
   ],
   "source": [
    "# assignment expression operator, which is :=\n",
    "# Walrus \n",
    "\n",
    "vowels = []\n",
    "digits = []\n",
    "others = []\n",
    "\n",
    "while text := input('Enter text: ').strip():\n",
    "\n",
    "    for one_character in text.lower():\n",
    "        if one_character in 'aeiou':        # if it's a vowel\n",
    "            vowels.append(one_character)    #   .... add to the end of vowels\n",
    "        elif one_character.isdigit():       # if it's a digit\n",
    "            digits.append(one_character)    #   ....  add to the end of digits\n",
    "        else:\n",
    "            others.append(one_character)    # otherwise, add to others\n",
    "\n",
    "print(f'vowels = {vowels}')\n",
    "print(f'digits = {digits}')\n",
    "print(f'others = {others}')"
   ]
  },
  {
   "cell_type": "code",
   "execution_count": 33,
   "id": "b95f5d0d-71cd-40a4-ade8-43cf55e723a9",
   "metadata": {},
   "outputs": [
    {
     "ename": "SyntaxError",
     "evalue": "invalid syntax (4101523498.py, line 1)",
     "output_type": "error",
     "traceback": [
      "\u001b[0;36m  Cell \u001b[0;32mIn[33], line 1\u001b[0;36m\u001b[0m\n\u001b[0;31m    x := 5\u001b[0m\n\u001b[0m      ^\u001b[0m\n\u001b[0;31mSyntaxError\u001b[0m\u001b[0;31m:\u001b[0m invalid syntax\n"
     ]
    }
   ],
   "source": [
    "x := 5"
   ]
  },
  {
   "cell_type": "code",
   "execution_count": 34,
   "id": "648b260e-6dbb-46a4-8908-6433737f9e10",
   "metadata": {},
   "outputs": [
    {
     "name": "stdout",
     "output_type": "stream",
     "text": [
      "5\n"
     ]
    }
   ],
   "source": [
    "if x := 5:\n",
    "    print(x)"
   ]
  },
  {
   "cell_type": "code",
   "execution_count": 36,
   "id": "61eb3bcc-ac2f-4694-8033-d08f975ee5cb",
   "metadata": {},
   "outputs": [],
   "source": [
    "y = x = 10"
   ]
  },
  {
   "cell_type": "code",
   "execution_count": 37,
   "id": "7a78c12e-a441-4d0c-8ca7-a6338fd06b2a",
   "metadata": {},
   "outputs": [],
   "source": [
    "y = x = []"
   ]
  },
  {
   "cell_type": "code",
   "execution_count": 38,
   "id": "5ae881a1-4e17-4600-a76f-e5666f0106e8",
   "metadata": {},
   "outputs": [],
   "source": [
    "x.append(10)\n",
    "y.append(20)"
   ]
  },
  {
   "cell_type": "code",
   "execution_count": 39,
   "id": "263b1d7e-07a3-42cf-a740-ab0a680d0b07",
   "metadata": {},
   "outputs": [
    {
     "data": {
      "text/plain": [
       "[10, 20]"
      ]
     },
     "execution_count": 39,
     "metadata": {},
     "output_type": "execute_result"
    }
   ],
   "source": [
    "x"
   ]
  },
  {
   "cell_type": "code",
   "execution_count": 40,
   "id": "e4ecb1f4-bfad-4197-b954-d8b42d94aebf",
   "metadata": {},
   "outputs": [
    {
     "data": {
      "text/plain": [
       "[10, 20]"
      ]
     },
     "execution_count": 40,
     "metadata": {},
     "output_type": "execute_result"
    }
   ],
   "source": [
    "y"
   ]
  },
  {
   "cell_type": "code",
   "execution_count": 41,
   "id": "24445763-6b5f-4a2d-9de4-9203a8073924",
   "metadata": {},
   "outputs": [
    {
     "data": {
      "text/plain": [
       "123"
      ]
     },
     "execution_count": 41,
     "metadata": {},
     "output_type": "execute_result"
    }
   ],
   "source": [
    "int('123')"
   ]
  },
  {
   "cell_type": "code",
   "execution_count": 42,
   "id": "5b46b262-272b-4d8d-aa76-0915f86ed5b8",
   "metadata": {},
   "outputs": [
    {
     "data": {
      "text/plain": [
       "123.0"
      ]
     },
     "execution_count": 42,
     "metadata": {},
     "output_type": "execute_result"
    }
   ],
   "source": [
    "float('123')"
   ]
  },
  {
   "cell_type": "code",
   "execution_count": 43,
   "id": "8e230230-4db6-4428-b3ac-c86b42eaf7ed",
   "metadata": {},
   "outputs": [
    {
     "data": {
      "text/plain": [
       "'123'"
      ]
     },
     "execution_count": 43,
     "metadata": {},
     "output_type": "execute_result"
    }
   ],
   "source": [
    "str(123)"
   ]
  },
  {
   "cell_type": "code",
   "execution_count": 44,
   "id": "62eccb9e-b882-4ad0-a15c-5406c50b9e83",
   "metadata": {},
   "outputs": [
    {
     "data": {
      "text/plain": [
       "'12.34'"
      ]
     },
     "execution_count": 44,
     "metadata": {},
     "output_type": "execute_result"
    }
   ],
   "source": [
    "str(12.34)"
   ]
  },
  {
   "cell_type": "code",
   "execution_count": 45,
   "id": "f4ce874e-525a-453f-899d-8dd4774f6b60",
   "metadata": {},
   "outputs": [
    {
     "data": {
      "text/plain": [
       "['a', 'b', 'c', 'd', 'e']"
      ]
     },
     "execution_count": 45,
     "metadata": {},
     "output_type": "execute_result"
    }
   ],
   "source": [
    "s = 'abcde'\n",
    "list(s)"
   ]
  },
  {
   "cell_type": "code",
   "execution_count": 46,
   "id": "c4b00a08-7b0a-4bbe-aae2-e830ced6cba5",
   "metadata": {},
   "outputs": [
    {
     "data": {
      "text/plain": [
       "'[10, 20, 30]'"
      ]
     },
     "execution_count": 46,
     "metadata": {},
     "output_type": "execute_result"
    }
   ],
   "source": [
    "mylist = [10, 20, 30]\n",
    "str(mylist)"
   ]
  },
  {
   "cell_type": "code",
   "execution_count": 47,
   "id": "11cf7b67-c79d-4b1e-8095-20daf95e1978",
   "metadata": {},
   "outputs": [
    {
     "data": {
      "text/plain": [
       "['1', '2', '3', ',', '4', '5', ',', '6', '7', '8', '9']"
      ]
     },
     "execution_count": 47,
     "metadata": {},
     "output_type": "execute_result"
    }
   ],
   "source": [
    "data = '123,45,6789'\n",
    "\n",
    "list(data)"
   ]
  },
  {
   "cell_type": "code",
   "execution_count": 48,
   "id": "0599a128-decb-4d7d-a8b7-0aa2f6182b17",
   "metadata": {},
   "outputs": [
    {
     "data": {
      "text/plain": [
       "['123', '45', '6789']"
      ]
     },
     "execution_count": 48,
     "metadata": {},
     "output_type": "execute_result"
    }
   ],
   "source": [
    "# list.split -- always returns a list of strings\n",
    "# we need to say what the field separator is\n",
    "\n",
    "data.split(',')"
   ]
  },
  {
   "cell_type": "code",
   "execution_count": 49,
   "id": "5f01d0f4-be48-4f1c-87a2-e917cfcc6eac",
   "metadata": {},
   "outputs": [
    {
     "data": {
      "text/plain": [
       "['123,', '5,6789']"
      ]
     },
     "execution_count": 49,
     "metadata": {},
     "output_type": "execute_result"
    }
   ],
   "source": [
    "data.split('4')"
   ]
  },
  {
   "cell_type": "code",
   "execution_count": 50,
   "id": "7ac9f49c-8cd0-4506-b453-cd29b7708195",
   "metadata": {},
   "outputs": [
    {
     "data": {
      "text/plain": [
       "['This', 'is', 'a', 'bunch', 'of', 'words', 'for', 'my', 'Python', 'course']"
      ]
     },
     "execution_count": 50,
     "metadata": {},
     "output_type": "execute_result"
    }
   ],
   "source": [
    "text = 'This is a bunch of words for my Python course'\n",
    "\n",
    "text.split(' ')"
   ]
  },
  {
   "cell_type": "code",
   "execution_count": 51,
   "id": "6be9608d-ce40-49fb-a7e6-2e3e767dd5a4",
   "metadata": {},
   "outputs": [
    {
     "data": {
      "text/plain": [
       "['This',\n",
       " '',\n",
       " 'is',\n",
       " 'a',\n",
       " '',\n",
       " '',\n",
       " 'bunch',\n",
       " 'of',\n",
       " '',\n",
       " '',\n",
       " '',\n",
       " 'words',\n",
       " 'for',\n",
       " 'my',\n",
       " '',\n",
       " '',\n",
       " '',\n",
       " '',\n",
       " 'Python',\n",
       " 'course']"
      ]
     },
     "execution_count": 51,
     "metadata": {},
     "output_type": "execute_result"
    }
   ],
   "source": [
    "text = 'This  is a   bunch of    words for my     Python course'\n",
    "\n",
    "text.split(' ')"
   ]
  },
  {
   "cell_type": "code",
   "execution_count": 52,
   "id": "dabcac9d-914e-4b67-8472-0c87486606de",
   "metadata": {},
   "outputs": [
    {
     "data": {
      "text/plain": [
       "['This', 'is', 'a', 'bunch', 'of', 'words', 'for', 'my', 'Python', 'course']"
      ]
     },
     "execution_count": 52,
     "metadata": {},
     "output_type": "execute_result"
    }
   ],
   "source": [
    "# without an argument, Python uses any/all whitespace as one delimiter\n",
    "\n",
    "text.split()"
   ]
  },
  {
   "cell_type": "code",
   "execution_count": 53,
   "id": "5b91daa0-35b9-4470-8ea1-8db12e12c9c6",
   "metadata": {},
   "outputs": [
    {
     "data": {
      "text/plain": [
       "\"['abcd', 'ef', 'ghijk']\""
      ]
     },
     "execution_count": 53,
     "metadata": {},
     "output_type": "execute_result"
    }
   ],
   "source": [
    "mylist = ['abcd', 'ef', 'ghijk']\n",
    "\n",
    "str(mylist)"
   ]
  },
  {
   "cell_type": "code",
   "execution_count": 54,
   "id": "81c86917-3247-47ce-b55f-f93a52fd83ef",
   "metadata": {},
   "outputs": [
    {
     "data": {
      "text/plain": [
       "'abcd*ef*ghijk'"
      ]
     },
     "execution_count": 54,
     "metadata": {},
     "output_type": "execute_result"
    }
   ],
   "source": [
    "# str.join -- returns a string based on an iterable's contents\n",
    "\n",
    "'*'.join(mylist)"
   ]
  },
  {
   "cell_type": "code",
   "execution_count": 55,
   "id": "81938470-3be9-4df1-832a-6c73e9e68855",
   "metadata": {},
   "outputs": [
    {
     "data": {
      "text/plain": [
       "'abcd\\nef\\nghijk'"
      ]
     },
     "execution_count": 55,
     "metadata": {},
     "output_type": "execute_result"
    }
   ],
   "source": [
    "'\\n'.join(mylist)"
   ]
  },
  {
   "cell_type": "code",
   "execution_count": 56,
   "id": "efff3df5-8865-48a3-8740-f11b0ff075e0",
   "metadata": {},
   "outputs": [
    {
     "data": {
      "text/plain": [
       "'abcdefghijk'"
      ]
     },
     "execution_count": 56,
     "metadata": {},
     "output_type": "execute_result"
    }
   ],
   "source": [
    "''.join(mylist)"
   ]
  },
  {
   "cell_type": "code",
   "execution_count": 57,
   "id": "31c8b30f-5442-4b76-bb79-f9d2725b867e",
   "metadata": {},
   "outputs": [
    {
     "data": {
      "text/plain": [
       "'a*b*c*d'"
      ]
     },
     "execution_count": 57,
     "metadata": {},
     "output_type": "execute_result"
    }
   ],
   "source": [
    "'*'.join('abcd')"
   ]
  },
  {
   "cell_type": "code",
   "execution_count": 58,
   "id": "6251606a-d86b-4e1f-a2c9-9a81d8ca009d",
   "metadata": {},
   "outputs": [
    {
     "ename": "TypeError",
     "evalue": "sequence item 0: expected str instance, int found",
     "output_type": "error",
     "traceback": [
      "\u001b[0;31m---------------------------------------------------------------------------\u001b[0m",
      "\u001b[0;31mTypeError\u001b[0m                                 Traceback (most recent call last)",
      "Cell \u001b[0;32mIn[58], line 1\u001b[0m\n\u001b[0;32m----> 1\u001b[0m \u001b[38;5;124;43m'\u001b[39;49m\u001b[38;5;124;43m*\u001b[39;49m\u001b[38;5;124;43m'\u001b[39;49m\u001b[38;5;241;43m.\u001b[39;49m\u001b[43mjoin\u001b[49m\u001b[43m(\u001b[49m\u001b[43m[\u001b[49m\u001b[38;5;241;43m10\u001b[39;49m\u001b[43m,\u001b[49m\u001b[43m \u001b[49m\u001b[38;5;241;43m20\u001b[39;49m\u001b[43m,\u001b[49m\u001b[43m \u001b[49m\u001b[38;5;241;43m30\u001b[39;49m\u001b[43m]\u001b[49m\u001b[43m)\u001b[49m\n",
      "\u001b[0;31mTypeError\u001b[0m: sequence item 0: expected str instance, int found"
     ]
    }
   ],
   "source": [
    "'*'.join([10, 20, 30])"
   ]
  },
  {
   "cell_type": "code",
   "execution_count": 60,
   "id": "7486f9b7-4a3b-45f0-a510-b66cb9267cb7",
   "metadata": {},
   "outputs": [
    {
     "data": {
      "text/plain": [
       "'aaabbbcccdddeeefffggg'"
      ]
     },
     "execution_count": 60,
     "metadata": {},
     "output_type": "execute_result"
    }
   ],
   "source": [
    "output = ''\n",
    "\n",
    "for one_item in 'abcdefg':\n",
    "    output += one_item * 3\n",
    "\n",
    "output"
   ]
  },
  {
   "cell_type": "code",
   "execution_count": 62,
   "id": "8f31ea4d-715f-4d74-a4d9-54bbd97a5a8c",
   "metadata": {},
   "outputs": [
    {
     "data": {
      "text/plain": [
       "'aaabbbcccdddeeefffggg'"
      ]
     },
     "execution_count": 62,
     "metadata": {},
     "output_type": "execute_result"
    }
   ],
   "source": [
    "output = []\n",
    "\n",
    "for one_item in 'abcdefg':\n",
    "    output.append(one_item * 3)\n",
    "\n",
    "''.join(output)"
   ]
  },
  {
   "cell_type": "markdown",
   "id": "11827c4d-37de-4aeb-8321-4f4b71ff4098",
   "metadata": {},
   "source": [
    "# Exercise: Pig Latin Sentence\n",
    "\n",
    "1. Ask the user for a sentence (all lowercase, no punctuation).\n",
    "2. Translate each word in the sentence to Pig Latin.\n",
    "3. Print the translation on a single line\n",
    "\n",
    "Example:\n",
    "\n",
    "    Enter sentence: this is a great test\n",
    "    histay isway away reatgay esttay"
   ]
  },
  {
   "cell_type": "code",
   "execution_count": 63,
   "id": "6496765e-44cd-4720-b7c4-6fe5bc5784d4",
   "metadata": {},
   "outputs": [
    {
     "name": "stdin",
     "output_type": "stream",
     "text": [
      "Enter word:  asdfa\n"
     ]
    },
    {
     "name": "stdout",
     "output_type": "stream",
     "text": [
      "asdfaway\n"
     ]
    }
   ],
   "source": [
    "word = input('Enter word: ').strip()\n",
    "\n",
    "if word[0] in 'aeiou':\n",
    "    print(word + 'way')\n",
    "else:\n",
    "    print(word[1:] + word[0] + 'ay')"
   ]
  },
  {
   "cell_type": "code",
   "execution_count": 64,
   "id": "fef21a2b-e9de-47a5-bc91-5a24ffb3ff1e",
   "metadata": {},
   "outputs": [
    {
     "name": "stdout",
     "output_type": "stream",
     "text": [
      "0: a\n",
      "1: b\n",
      "2: c\n",
      "3: d\n"
     ]
    }
   ],
   "source": [
    "s = 'abcd'\n",
    "\n",
    "for index, one_letter in enumerate(s):\n",
    "    print(f'{index}: {one_letter}')"
   ]
  },
  {
   "cell_type": "code",
   "execution_count": 67,
   "id": "ebf2cadb-0cd6-416d-87b1-8e109efe8195",
   "metadata": {},
   "outputs": [
    {
     "name": "stdin",
     "output_type": "stream",
     "text": [
      "Enter sentence:  this is a test\n"
     ]
    },
    {
     "name": "stdout",
     "output_type": "stream",
     "text": [
      "histay isway away esttay\n"
     ]
    }
   ],
   "source": [
    "output = []\n",
    "sentence = input('Enter sentence: ').strip()\n",
    "\n",
    "for word in sentence.split():\n",
    "    if word[0] in 'aeiou':\n",
    "        output.append(word + 'way')\n",
    "    else:\n",
    "        output.append(word[1:] + word[0] + 'ay')\n",
    "\n",
    "print(' '.join(output))"
   ]
  },
  {
   "cell_type": "code",
   "execution_count": 68,
   "id": "b306d5fb-6367-4eb8-b288-24804efe5a4b",
   "metadata": {},
   "outputs": [
    {
     "data": {
      "text/plain": [
       "['abcd', 'ef', 'ghij', 'klmno', 'pqrst', 'uv', 'wxyz']"
      ]
     },
     "execution_count": 68,
     "metadata": {},
     "output_type": "execute_result"
    }
   ],
   "source": [
    "s = 'abcd ef ghij klmno pqrst uv wxyz'\n",
    "\n",
    "s.split()"
   ]
  },
  {
   "cell_type": "code",
   "execution_count": 69,
   "id": "230e9b2b-fcbd-4c18-ad85-1718371767fa",
   "metadata": {},
   "outputs": [
    {
     "data": {
      "text/plain": [
       "['abcd', 'ef', 'ghij', 'klmno pqrst uv wxyz']"
      ]
     },
     "execution_count": 69,
     "metadata": {},
     "output_type": "execute_result"
    }
   ],
   "source": [
    "s.split(maxsplit=3)"
   ]
  },
  {
   "cell_type": "code",
   "execution_count": 70,
   "id": "f6d81d40-aebd-47af-8ea2-1cd534861e1f",
   "metadata": {},
   "outputs": [
    {
     "data": {
      "text/plain": [
       "['abcd ef ghij klmno', 'pqrst', 'uv', 'wxyz']"
      ]
     },
     "execution_count": 70,
     "metadata": {},
     "output_type": "execute_result"
    }
   ],
   "source": [
    "s.rsplit(maxsplit=3)"
   ]
  },
  {
   "cell_type": "markdown",
   "id": "415d3499-e815-4f0f-b1a7-492dc4d9f5b5",
   "metadata": {},
   "source": [
    "# Tuples\n",
    "\n",
    "- Sequence -- string, list, tuple\n",
    "    - string: contains characters, immutable\n",
    "    - list: contains anything, mutable\n",
    "    - tuple: contains anything, immutable\n",
    "\n"
   ]
  },
  {
   "cell_type": "code",
   "execution_count": 71,
   "id": "cd6e138a-3aa3-408f-a176-8ed31558ce5d",
   "metadata": {},
   "outputs": [
    {
     "data": {
      "text/plain": [
       "tuple"
      ]
     },
     "execution_count": 71,
     "metadata": {},
     "output_type": "execute_result"
    }
   ],
   "source": [
    "t = (10, 20, 30, 40, 50, 60, 70, 80, 90)\n",
    "\n",
    "type(t)"
   ]
  },
  {
   "cell_type": "code",
   "execution_count": 72,
   "id": "89bbb996-7420-477d-a3da-c9bc1e07dab6",
   "metadata": {},
   "outputs": [
    {
     "data": {
      "text/plain": [
       "10"
      ]
     },
     "execution_count": 72,
     "metadata": {},
     "output_type": "execute_result"
    }
   ],
   "source": [
    "t[0]"
   ]
  },
  {
   "cell_type": "code",
   "execution_count": 73,
   "id": "c81636d5-b03c-4682-b493-aaafd78e2c47",
   "metadata": {},
   "outputs": [
    {
     "data": {
      "text/plain": [
       "20"
      ]
     },
     "execution_count": 73,
     "metadata": {},
     "output_type": "execute_result"
    }
   ],
   "source": [
    "t[1]"
   ]
  },
  {
   "cell_type": "code",
   "execution_count": 74,
   "id": "39e5063a-2df0-4ef1-9fdd-f0dc40a47712",
   "metadata": {},
   "outputs": [
    {
     "data": {
      "text/plain": [
       "90"
      ]
     },
     "execution_count": 74,
     "metadata": {},
     "output_type": "execute_result"
    }
   ],
   "source": [
    "t[-1]"
   ]
  },
  {
   "cell_type": "code",
   "execution_count": 75,
   "id": "3da3109d-b116-42de-b27f-1e3d4169c1cb",
   "metadata": {},
   "outputs": [
    {
     "name": "stdout",
     "output_type": "stream",
     "text": [
      "10\n",
      "20\n",
      "30\n",
      "40\n",
      "50\n",
      "60\n",
      "70\n",
      "80\n",
      "90\n"
     ]
    }
   ],
   "source": [
    "for one_item in t:\n",
    "    print(one_item)"
   ]
  },
  {
   "cell_type": "code",
   "execution_count": 76,
   "id": "dac87b95-8a8e-4e3b-9627-bfcfb2c2cb45",
   "metadata": {},
   "outputs": [
    {
     "data": {
      "text/plain": [
       "True"
      ]
     },
     "execution_count": 76,
     "metadata": {},
     "output_type": "execute_result"
    }
   ],
   "source": [
    "30 in t"
   ]
  },
  {
   "cell_type": "code",
   "execution_count": 77,
   "id": "44aaee5c-f0ea-4c08-8c03-7d1782080fc5",
   "metadata": {},
   "outputs": [
    {
     "ename": "TypeError",
     "evalue": "'tuple' object does not support item assignment",
     "output_type": "error",
     "traceback": [
      "\u001b[0;31m---------------------------------------------------------------------------\u001b[0m",
      "\u001b[0;31mTypeError\u001b[0m                                 Traceback (most recent call last)",
      "Cell \u001b[0;32mIn[77], line 1\u001b[0m\n\u001b[0;32m----> 1\u001b[0m \u001b[43mt\u001b[49m\u001b[43m[\u001b[49m\u001b[38;5;241;43m0\u001b[39;49m\u001b[43m]\u001b[49m\u001b[38;5;241m=\u001b[39m \u001b[38;5;124m'\u001b[39m\u001b[38;5;124m!\u001b[39m\u001b[38;5;124m'\u001b[39m\n",
      "\u001b[0;31mTypeError\u001b[0m: 'tuple' object does not support item assignment"
     ]
    }
   ],
   "source": [
    "t[0]= '!'"
   ]
  },
  {
   "cell_type": "code",
   "execution_count": 82,
   "id": "5a8af7a0-a33d-46f8-9aa0-e708702c42cc",
   "metadata": {},
   "outputs": [
    {
     "data": {
      "text/plain": [
       "tuple"
      ]
     },
     "execution_count": 82,
     "metadata": {},
     "output_type": "execute_result"
    }
   ],
   "source": [
    "t = (10, 20, 30, 40)\n",
    "type(t)"
   ]
  },
  {
   "cell_type": "code",
   "execution_count": 79,
   "id": "14e9c210-35a2-4bfb-9fba-30a1067af544",
   "metadata": {},
   "outputs": [
    {
     "data": {
      "text/plain": [
       "tuple"
      ]
     },
     "execution_count": 79,
     "metadata": {},
     "output_type": "execute_result"
    }
   ],
   "source": [
    "t = (10, 20)\n",
    "type(t)"
   ]
  },
  {
   "cell_type": "code",
   "execution_count": 80,
   "id": "a1ef4db5-e115-44d6-b691-653712b5d665",
   "metadata": {},
   "outputs": [
    {
     "data": {
      "text/plain": [
       "int"
      ]
     },
     "execution_count": 80,
     "metadata": {},
     "output_type": "execute_result"
    }
   ],
   "source": [
    "t = (10)\n",
    "type(t)"
   ]
  },
  {
   "cell_type": "code",
   "execution_count": 81,
   "id": "ad5e0809-0014-47dc-998e-d12594a56f05",
   "metadata": {},
   "outputs": [
    {
     "data": {
      "text/plain": [
       "tuple"
      ]
     },
     "execution_count": 81,
     "metadata": {},
     "output_type": "execute_result"
    }
   ],
   "source": [
    "t = ()\n",
    "type(t)"
   ]
  },
  {
   "cell_type": "code",
   "execution_count": 83,
   "id": "42dc1b99-2e08-4601-9d77-15ab497ab1ff",
   "metadata": {},
   "outputs": [
    {
     "data": {
      "text/plain": [
       "14"
      ]
     },
     "execution_count": 83,
     "metadata": {},
     "output_type": "execute_result"
    }
   ],
   "source": [
    "2 + 3 * 4"
   ]
  },
  {
   "cell_type": "code",
   "execution_count": 84,
   "id": "24c619b8-c349-49bb-88a9-d0ad85e05952",
   "metadata": {},
   "outputs": [
    {
     "data": {
      "text/plain": [
       "20"
      ]
     },
     "execution_count": 84,
     "metadata": {},
     "output_type": "execute_result"
    }
   ],
   "source": [
    "(2+3) * 4"
   ]
  },
  {
   "cell_type": "code",
   "execution_count": 85,
   "id": "e358c5ec-ea51-47a9-8067-edad8f06b770",
   "metadata": {},
   "outputs": [
    {
     "data": {
      "text/plain": [
       "tuple"
      ]
     },
     "execution_count": 85,
     "metadata": {},
     "output_type": "execute_result"
    }
   ],
   "source": [
    "# for a one-element tuple, I need a comma\n",
    "\n",
    "t = (10,)\n",
    "type(t)"
   ]
  },
  {
   "cell_type": "code",
   "execution_count": 86,
   "id": "b719b7c2-708c-4fca-8b57-0a7546bf5b15",
   "metadata": {},
   "outputs": [
    {
     "data": {
      "text/plain": [
       "(10, 20, 30, 40, 50)"
      ]
     },
     "execution_count": 86,
     "metadata": {},
     "output_type": "execute_result"
    }
   ],
   "source": [
    "# we don't need () for a tuple!\n",
    "\n",
    "t = 10, 20, 30, 40, 50\n",
    "t"
   ]
  },
  {
   "cell_type": "code",
   "execution_count": 87,
   "id": "eb7c3305-29b9-4ab1-ab43-9e7e724afc73",
   "metadata": {},
   "outputs": [
    {
     "data": {
      "text/plain": [
       "tuple"
      ]
     },
     "execution_count": 87,
     "metadata": {},
     "output_type": "execute_result"
    }
   ],
   "source": [
    "t = ()\n",
    "type(t)"
   ]
  },
  {
   "cell_type": "code",
   "execution_count": 88,
   "id": "9c377a72-7d55-473f-ada1-04b63e41e31c",
   "metadata": {},
   "outputs": [
    {
     "data": {
      "text/plain": [
       "0"
      ]
     },
     "execution_count": 88,
     "metadata": {},
     "output_type": "execute_result"
    }
   ],
   "source": [
    "len(t)"
   ]
  },
  {
   "cell_type": "code",
   "execution_count": 89,
   "id": "0f716999-74ac-43d4-b44a-0b30e821dfca",
   "metadata": {},
   "outputs": [
    {
     "data": {
      "text/plain": [
       "[10, 20, 30]"
      ]
     },
     "execution_count": 89,
     "metadata": {},
     "output_type": "execute_result"
    }
   ],
   "source": [
    "# tuple unpacking\n",
    "\n",
    "mylist = [10, 20, 30]\n",
    "\n",
    "x = mylist\n",
    "x"
   ]
  },
  {
   "cell_type": "code",
   "execution_count": 90,
   "id": "928801dc-e226-4029-85cb-b3d032a497e0",
   "metadata": {},
   "outputs": [],
   "source": [
    "x,y,z = mylist"
   ]
  },
  {
   "cell_type": "code",
   "execution_count": 91,
   "id": "667c8006-7fff-47ee-9103-0c8e044b1c1f",
   "metadata": {},
   "outputs": [
    {
     "data": {
      "text/plain": [
       "10"
      ]
     },
     "execution_count": 91,
     "metadata": {},
     "output_type": "execute_result"
    }
   ],
   "source": [
    "x"
   ]
  },
  {
   "cell_type": "code",
   "execution_count": 92,
   "id": "d0c6bb02-009a-4766-803a-53f0c4a1fc53",
   "metadata": {},
   "outputs": [
    {
     "data": {
      "text/plain": [
       "20"
      ]
     },
     "execution_count": 92,
     "metadata": {},
     "output_type": "execute_result"
    }
   ],
   "source": [
    "y"
   ]
  },
  {
   "cell_type": "code",
   "execution_count": 93,
   "id": "28725fe2-0d8b-4be1-bde8-fdc7d7158058",
   "metadata": {},
   "outputs": [
    {
     "data": {
      "text/plain": [
       "30"
      ]
     },
     "execution_count": 93,
     "metadata": {},
     "output_type": "execute_result"
    }
   ],
   "source": [
    "z"
   ]
  },
  {
   "cell_type": "code",
   "execution_count": 94,
   "id": "3f57457c-18a2-4317-8720-a07029a6dd7b",
   "metadata": {},
   "outputs": [
    {
     "ename": "ValueError",
     "evalue": "too many values to unpack (expected 2)",
     "output_type": "error",
     "traceback": [
      "\u001b[0;31m---------------------------------------------------------------------------\u001b[0m",
      "\u001b[0;31mValueError\u001b[0m                                Traceback (most recent call last)",
      "Cell \u001b[0;32mIn[94], line 1\u001b[0m\n\u001b[0;32m----> 1\u001b[0m x,y \u001b[38;5;241m=\u001b[39m mylist\n",
      "\u001b[0;31mValueError\u001b[0m: too many values to unpack (expected 2)"
     ]
    }
   ],
   "source": [
    "x,y = mylist"
   ]
  },
  {
   "cell_type": "code",
   "execution_count": 95,
   "id": "ea1de1aa-4a53-4249-8703-f401f25042ef",
   "metadata": {},
   "outputs": [
    {
     "ename": "ValueError",
     "evalue": "not enough values to unpack (expected 4, got 3)",
     "output_type": "error",
     "traceback": [
      "\u001b[0;31m---------------------------------------------------------------------------\u001b[0m",
      "\u001b[0;31mValueError\u001b[0m                                Traceback (most recent call last)",
      "Cell \u001b[0;32mIn[95], line 1\u001b[0m\n\u001b[0;32m----> 1\u001b[0m w,x,y,z \u001b[38;5;241m=\u001b[39m mylist\n",
      "\u001b[0;31mValueError\u001b[0m: not enough values to unpack (expected 4, got 3)"
     ]
    }
   ],
   "source": [
    "w,x,y,z = mylist"
   ]
  },
  {
   "cell_type": "code",
   "execution_count": 96,
   "id": "2098d3b2-b528-464d-a2f9-edc241c383ec",
   "metadata": {},
   "outputs": [
    {
     "data": {
      "text/plain": [
       "10"
      ]
     },
     "execution_count": 96,
     "metadata": {},
     "output_type": "execute_result"
    }
   ],
   "source": [
    "x,*y = mylist\n",
    "x"
   ]
  },
  {
   "cell_type": "code",
   "execution_count": 97,
   "id": "d662a59c-6227-4254-83f2-095a4bd2ba77",
   "metadata": {},
   "outputs": [
    {
     "data": {
      "text/plain": [
       "[20, 30]"
      ]
     },
     "execution_count": 97,
     "metadata": {},
     "output_type": "execute_result"
    }
   ],
   "source": [
    "y"
   ]
  },
  {
   "cell_type": "code",
   "execution_count": 98,
   "id": "a9a9ce4f-726e-46ec-b239-71644685a367",
   "metadata": {},
   "outputs": [
    {
     "data": {
      "text/plain": [
       "20"
      ]
     },
     "execution_count": 98,
     "metadata": {},
     "output_type": "execute_result"
    }
   ],
   "source": [
    "x = 10\n",
    "y = 20\n",
    "\n",
    "x,y = y,x\n",
    "\n",
    "x"
   ]
  },
  {
   "cell_type": "code",
   "execution_count": 99,
   "id": "42f5545b-249c-42e3-8d3c-1905f6957103",
   "metadata": {},
   "outputs": [
    {
     "data": {
      "text/plain": [
       "10"
      ]
     },
     "execution_count": 99,
     "metadata": {},
     "output_type": "execute_result"
    }
   ],
   "source": [
    "y"
   ]
  },
  {
   "cell_type": "code",
   "execution_count": 101,
   "id": "f26b3b37-a476-4c69-a6b9-5a96c9c58643",
   "metadata": {},
   "outputs": [
    {
     "name": "stdout",
     "output_type": "stream",
     "text": [
      "(0, 'a')\n",
      "(1, 'b')\n",
      "(2, 'c')\n",
      "(3, 'd')\n"
     ]
    }
   ],
   "source": [
    "for one_item in enumerate('abcd'):\n",
    "    print(one_item)"
   ]
  },
  {
   "cell_type": "code",
   "execution_count": 102,
   "id": "8a4e36c9-4bbd-4b11-8b88-dbe323929b17",
   "metadata": {},
   "outputs": [
    {
     "name": "stdout",
     "output_type": "stream",
     "text": [
      "0: a\n",
      "1: b\n",
      "2: c\n",
      "3: d\n"
     ]
    }
   ],
   "source": [
    "for one_item in enumerate('abcd'):\n",
    "    index, one_value = one_item\n",
    "    print(f'{index}: {one_value}')"
   ]
  },
  {
   "cell_type": "code",
   "execution_count": 103,
   "id": "ef6e8189-ac46-48a0-bccb-92adbbab7973",
   "metadata": {},
   "outputs": [
    {
     "name": "stdout",
     "output_type": "stream",
     "text": [
      "0: a\n",
      "1: b\n",
      "2: c\n",
      "3: d\n"
     ]
    }
   ],
   "source": [
    "for index, one_value in enumerate('abcd'):\n",
    "    print(f'{index}: {one_value}')"
   ]
  },
  {
   "cell_type": "code",
   "execution_count": 104,
   "id": "3f85f47c-3a78-4555-93f1-46bb4c41e30c",
   "metadata": {},
   "outputs": [],
   "source": [
    "t = ([10, 20, 30],\n",
    "    [40, 50, 60])\n",
    "\n"
   ]
  },
  {
   "cell_type": "code",
   "execution_count": 105,
   "id": "cae370d8-288c-4f80-a731-db2ab3765f82",
   "metadata": {},
   "outputs": [
    {
     "data": {
      "text/plain": [
       "([10, 20, 30], [40, 50, 60])"
      ]
     },
     "execution_count": 105,
     "metadata": {},
     "output_type": "execute_result"
    }
   ],
   "source": [
    "t"
   ]
  },
  {
   "cell_type": "code",
   "execution_count": 106,
   "id": "dc47cbbe-afab-4a1c-b68e-788dd8787b3b",
   "metadata": {},
   "outputs": [
    {
     "data": {
      "text/plain": [
       "(['!', 20, 30], [40, 50, 60])"
      ]
     },
     "execution_count": 106,
     "metadata": {},
     "output_type": "execute_result"
    }
   ],
   "source": [
    "t[0][0] = '!'\n",
    "t"
   ]
  },
  {
   "cell_type": "code",
   "execution_count": 107,
   "id": "fa5e4109-3e3c-46f0-ab61-4eec6f378b57",
   "metadata": {},
   "outputs": [
    {
     "data": {
      "text/plain": [
       "(['!', 20, 30, 35], [40, 50, 60])"
      ]
     },
     "execution_count": 107,
     "metadata": {},
     "output_type": "execute_result"
    }
   ],
   "source": [
    "t[0].append(35)\n",
    "t"
   ]
  },
  {
   "cell_type": "code",
   "execution_count": 108,
   "id": "330ea9e8-1484-4108-bd86-20615b23d92c",
   "metadata": {},
   "outputs": [
    {
     "ename": "TypeError",
     "evalue": "'tuple' object does not support item assignment",
     "output_type": "error",
     "traceback": [
      "\u001b[0;31m---------------------------------------------------------------------------\u001b[0m",
      "\u001b[0;31mTypeError\u001b[0m                                 Traceback (most recent call last)",
      "Cell \u001b[0;32mIn[108], line 1\u001b[0m\n\u001b[0;32m----> 1\u001b[0m \u001b[43mt\u001b[49m\u001b[43m[\u001b[49m\u001b[38;5;241;43m0\u001b[39;49m\u001b[43m]\u001b[49m \u001b[38;5;241m+\u001b[39m\u001b[38;5;241m=\u001b[39m [\u001b[38;5;241m36\u001b[39m, \u001b[38;5;241m37\u001b[39m, \u001b[38;5;241m38\u001b[39m]\n",
      "\u001b[0;31mTypeError\u001b[0m: 'tuple' object does not support item assignment"
     ]
    }
   ],
   "source": [
    "t[0] += [36, 37, 38]\n"
   ]
  },
  {
   "cell_type": "code",
   "execution_count": 109,
   "id": "2974d230-6d70-46c7-8da8-477ec121c982",
   "metadata": {},
   "outputs": [
    {
     "data": {
      "text/plain": [
       "(['!', 20, 30, 35, 36, 37, 38], [40, 50, 60])"
      ]
     },
     "execution_count": 109,
     "metadata": {},
     "output_type": "execute_result"
    }
   ],
   "source": [
    "t"
   ]
  },
  {
   "cell_type": "markdown",
   "id": "6dfb1bef-ff6d-442a-aee8-20aa401ff4ef",
   "metadata": {},
   "source": [
    "# Dictionaries\n",
    "\n",
    "- Hash table\n",
    "- Hash\n",
    "- Hashmap\n",
    "- Associative array\n",
    "- Key-value store\n",
    "- Name-value store\n",
    "- Map\n",
    "\n",
    "A dict has *pairs* of values.  \n",
    "\n",
    "Some basic rules/ideas:\n",
    "\n",
    "- Every key has a value, every value has a key\n",
    "- Anything *immutable* can be a key (usually numbers or strings)\n",
    "- A key can appear only once in a dict\n",
    "- Anything AT ALL can be a value\n",
    "\n"
   ]
  },
  {
   "cell_type": "code",
   "execution_count": 110,
   "id": "c38ae6db-d15d-4b93-9f5b-c0bfcd225f16",
   "metadata": {},
   "outputs": [],
   "source": [
    "# Use {} to define a dict\n",
    "# We put a : between key and value\n",
    "# We put , between the pairs\n",
    "\n",
    "d = {'a':10, 'b':20, 'c':30}"
   ]
  },
  {
   "cell_type": "code",
   "execution_count": 111,
   "id": "989a983c-d85e-46d3-808f-462540c52b8e",
   "metadata": {},
   "outputs": [
    {
     "data": {
      "text/plain": [
       "3"
      ]
     },
     "execution_count": 111,
     "metadata": {},
     "output_type": "execute_result"
    }
   ],
   "source": [
    "len(d)"
   ]
  },
  {
   "cell_type": "code",
   "execution_count": 112,
   "id": "ffb98a2e-2fcd-42a4-abbe-fff60751be86",
   "metadata": {},
   "outputs": [
    {
     "data": {
      "text/plain": [
       "10"
      ]
     },
     "execution_count": 112,
     "metadata": {},
     "output_type": "execute_result"
    }
   ],
   "source": [
    "d['a']"
   ]
  },
  {
   "cell_type": "code",
   "execution_count": 113,
   "id": "33b345cc-7223-42b5-b2d0-c8667feb7796",
   "metadata": {},
   "outputs": [
    {
     "data": {
      "text/plain": [
       "30"
      ]
     },
     "execution_count": 113,
     "metadata": {},
     "output_type": "execute_result"
    }
   ],
   "source": [
    "d['c']"
   ]
  },
  {
   "cell_type": "code",
   "execution_count": 114,
   "id": "39f60258-a739-4e97-9201-fe03ba19e362",
   "metadata": {},
   "outputs": [
    {
     "ename": "KeyError",
     "evalue": "10",
     "output_type": "error",
     "traceback": [
      "\u001b[0;31m---------------------------------------------------------------------------\u001b[0m",
      "\u001b[0;31mKeyError\u001b[0m                                  Traceback (most recent call last)",
      "Cell \u001b[0;32mIn[114], line 1\u001b[0m\n\u001b[0;32m----> 1\u001b[0m \u001b[43md\u001b[49m\u001b[43m[\u001b[49m\u001b[38;5;241;43m10\u001b[39;49m\u001b[43m]\u001b[49m\n",
      "\u001b[0;31mKeyError\u001b[0m: 10"
     ]
    }
   ],
   "source": [
    "d[10]"
   ]
  },
  {
   "cell_type": "code",
   "execution_count": 115,
   "id": "71ba73fe-03ba-4752-bb90-0e1c89e7926c",
   "metadata": {},
   "outputs": [
    {
     "data": {
      "text/plain": [
       "True"
      ]
     },
     "execution_count": 115,
     "metadata": {},
     "output_type": "execute_result"
    }
   ],
   "source": [
    "# \"in\" checks if a key is in a dict\n",
    "\n",
    "'a' in d"
   ]
  },
  {
   "cell_type": "code",
   "execution_count": 116,
   "id": "0f0d804c-794d-41e1-bdea-96b6b7bde23e",
   "metadata": {},
   "outputs": [
    {
     "data": {
      "text/plain": [
       "False"
      ]
     },
     "execution_count": 116,
     "metadata": {},
     "output_type": "execute_result"
    }
   ],
   "source": [
    "10 in d"
   ]
  },
  {
   "cell_type": "code",
   "execution_count": 117,
   "id": "6f072132-80d6-419b-9817-c5f671923e68",
   "metadata": {},
   "outputs": [
    {
     "data": {
      "text/plain": [
       "False"
      ]
     },
     "execution_count": 117,
     "metadata": {},
     "output_type": "execute_result"
    }
   ],
   "source": [
    "d = {'abcd':10, 'efgh':20}\n",
    "\n",
    "'a' in d"
   ]
  },
  {
   "cell_type": "markdown",
   "id": "2312111e-ea5a-4880-919b-e54e48668579",
   "metadata": {},
   "source": [
    "# Where do we use this?\n",
    "\n",
    "1. Person ID and database record\n",
    "2. Month numbers and month names\n",
    "3. Filenames and file attributes\n",
    "4. Directories and files"
   ]
  },
  {
   "cell_type": "code",
   "execution_count": 118,
   "id": "b0cdb2ca-b0e3-4bfe-8ccb-d98d92e50cd1",
   "metadata": {},
   "outputs": [],
   "source": [
    "x = 100"
   ]
  },
  {
   "cell_type": "code",
   "execution_count": 119,
   "id": "fee1535c-04c0-4d12-8c89-393626b5c0cd",
   "metadata": {},
   "outputs": [
    {
     "data": {
      "text/plain": [
       "{'__name__': '__main__',\n",
       " '__doc__': 'Automatically created module for IPython interactive environment',\n",
       " '__package__': None,\n",
       " '__loader__': None,\n",
       " '__spec__': None,\n",
       " '__builtin__': <module 'builtins' (built-in)>,\n",
       " '__builtins__': <module 'builtins' (built-in)>,\n",
       " '_ih': ['',\n",
       "  \"s = 'abcdefghij'\\n\\ns[0]\",\n",
       "  's[1]',\n",
       "  \"s[0] = '!'\",\n",
       "  'mylist = [10, 20, 30, 40, 50, 60, 70, 80, 90]\\n\\ntype(mylist)',\n",
       "  'mylist[0]',\n",
       "  'mylist[1]',\n",
       "  'mylist[-1]',\n",
       "  'mylist[2:7]    # slice',\n",
       "  'for one_item in mylist:\\n    print(one_item)',\n",
       "  '50 in mylist',\n",
       "  'len(mylist)',\n",
       "  'mylist',\n",
       "  'mylist[0]',\n",
       "  \"mylist[0] = '!'\\nmylist\",\n",
       "  '# list.append -- argument is what we want to add\\n\\nmylist.append(100)\\nmylist',\n",
       "  \"mylist.append('?')\\nmylist\",\n",
       "  'mylist.append([111, 222, 333])\\nmylist',\n",
       "  '# +=   adds all of the items on the right, with a for loop\\n\\nmylist = [10, 20, 30, 40, 50]\\n\\nmylist += [60, 70, 80]\\nmylist',\n",
       "  \"mylist.append('abc')\\nmylist\",\n",
       "  \"mylist += 'abc'\\nmylist\",\n",
       "  \"# remove from a list's final element with list.pop\\n\\nmylist.pop()\",\n",
       "  'myoist',\n",
       "  'mylist',\n",
       "  'mylist.pop(5)',\n",
       "  'mylist',\n",
       "  '[0] * 5',\n",
       "  'x = 5\\n[0] *  x',\n",
       "  'x = 5\\nlots_of_zeroes = [0] *  x',\n",
       "  \"if s != '':\\n    print('Not empty')\",\n",
       "  \"if s == '':\\n    print('Empty')\",\n",
       "  \"vowels = []\\ndigits = []\\nothers = []\\n\\nwhile True:\\n    text = input('Enter text: ').strip()\\n\\n    if not text:\\n        break\\n        \\n    for one_character in text.lower():\\n        if one_character in 'aeiou':        # if it's a vowel\\n            vowels.append(one_character)    #   .... add to the end of vowels\\n        elif one_character.isdigit():       # if it's a digit\\n            digits.append(one_character)    #   ....  add to the end of digits\\n        else:\\n            others.append(one_character)    # otherwise, add to others\\n\\nprint(f'vowels = {vowels}')\\nprint(f'digits = {digits}')\\nprint(f'others = {others}')\",\n",
       "  \"vowels = []\\ndigits = []\\nothers = []\\n\\nwhile text = input('Enter text: ').strip():\\n\\n    for one_character in text.lower():\\n        if one_character in 'aeiou':        # if it's a vowel\\n            vowels.append(one_character)    #   .... add to the end of vowels\\n        elif one_character.isdigit():       # if it's a digit\\n            digits.append(one_character)    #   ....  add to the end of digits\\n        else:\\n            others.append(one_character)    # otherwise, add to others\\n\\nprint(f'vowels = {vowels}')\\nprint(f'digits = {digits}')\\nprint(f'others = {others}')\",\n",
       "  'x := 5',\n",
       "  'if x := 5:\\n    print(x)',\n",
       "  'y = x := 10',\n",
       "  'y = x = 10',\n",
       "  'y = x = []',\n",
       "  'x.append(10)\\ny.append(20)',\n",
       "  'x',\n",
       "  'y',\n",
       "  \"int('123')\",\n",
       "  \"float('123')\",\n",
       "  'str(123)',\n",
       "  'str(12.34)',\n",
       "  \"s = 'abcde'\\nlist(s)\",\n",
       "  'mylist = [10, 20, 30]\\nstr(mylist)',\n",
       "  \"data = '123,45,6789'\\n\\nlist(data)\",\n",
       "  \"# list.split -- always returns a list of strings\\n# we need to say what the field separator is\\n\\ndata.split(',')\",\n",
       "  \"data.split('4')\",\n",
       "  \"text = 'This is a bunch of words for my Python course'\\n\\ntext.split(' ')\",\n",
       "  \"text = 'This  is a   bunch of    words for my     Python course'\\n\\ntext.split(' ')\",\n",
       "  '# without an argument, Python uses any/all whitespace as one delimiter\\n\\ntext.split()',\n",
       "  \"mylist = ['abcd', 'ef', 'ghijk']\\n\\nstr(mylist)\",\n",
       "  \"# str.join -- returns a string based on an iterable's contents\\n\\n'*'.join(mylist)\",\n",
       "  \"'\\\\n'.join(mylist)\",\n",
       "  \"''.join(mylist)\",\n",
       "  \"'*'.join('abcd')\",\n",
       "  \"'*'.join([10, 20, 30])\",\n",
       "  \"output = ''\\n\\nfor one_item in 'abcdefg':\\n    output += one_item\\n\\noutput\",\n",
       "  \"output = ''\\n\\nfor one_item in 'abcdefg':\\n    output += one_item * 3\\n\\noutput\",\n",
       "  \"output = []\\n\\nfor one_item in 'abcdefg':\\n    output.append(one_item * 3)\\n\\noutput\",\n",
       "  \"output = []\\n\\nfor one_item in 'abcdefg':\\n    output.append(one_item * 3)\\n\\n''.join(output)\",\n",
       "  \"word = input('Enter word: ').strip()\\n\\nif word[0] in 'aeiou':\\n    print(word + 'way')\\nelse:\\n    print(word[1:] + word[0] + 'ay')\",\n",
       "  \"s = 'abcd'\\n\\nfor index, one_letter in enumerate(s):\\n    print(f'{index}: {one_letter}')\",\n",
       "  \"sentence = input('Enter sentence: ').strip()\\n\\nfor word in sentence.split():\\n    if word[0] in 'aeiou':\\n        print(word + 'way')\\n    else:\\n        print(word[1:] + word[0] + 'ay')\",\n",
       "  \"output = []\\nsentence = input('Enter sentence: ').strip()\\n\\nfor word in sentence.split():\\n    if word[0] in 'aeiou':\\n        output.append(word + 'way')\\n    else:\\n        output.append(word[1:] + word[0] + 'ay')\\n\\noutput\",\n",
       "  \"output = []\\nsentence = input('Enter sentence: ').strip()\\n\\nfor word in sentence.split():\\n    if word[0] in 'aeiou':\\n        output.append(word + 'way')\\n    else:\\n        output.append(word[1:] + word[0] + 'ay')\\n\\nprint(' '.join(output))\",\n",
       "  \"s = 'abcd ef ghij klmno pqrst uv wxyz'\\n\\ns.split()\",\n",
       "  's.split(maxsplit=3)',\n",
       "  's.rsplit(maxsplit=3)',\n",
       "  't = (10, 20, 30, 40, 50, 60, 70, 80, 90)\\n\\ntype(t)',\n",
       "  't[0]',\n",
       "  't[1]',\n",
       "  't[-1]',\n",
       "  'for one_item in t:\\n    print(one_item)',\n",
       "  '30 in t',\n",
       "  \"t[0]= '!'\",\n",
       "  't = (10, 20, 30)\\ntype(t)',\n",
       "  't = (10, 20)\\ntype(t)',\n",
       "  't = (10)\\ntype(t)',\n",
       "  't = ()\\ntype(t)',\n",
       "  't = (10, 20, 30, 40)\\ntype(t)',\n",
       "  '2 + 3 * 4',\n",
       "  '(2+3) * 4',\n",
       "  '# for a one-element tuple, I need a comma\\n\\nt = (10,)\\ntype(t)',\n",
       "  \"# we don't need () for a tuple!\\n\\nt = 10, 20, 30, 40, 50\\nt\",\n",
       "  't = ()\\ntype(t)',\n",
       "  'len(t)',\n",
       "  '# tuple unpacking\\n\\nmylist = [10, 20, 30]\\n\\nx = mylist\\nx',\n",
       "  'x,y,z = mylist',\n",
       "  'x',\n",
       "  'y',\n",
       "  'z',\n",
       "  'x,y = mylist',\n",
       "  'w,x,y,z = mylist',\n",
       "  'x,*y = mylist\\nx',\n",
       "  'y',\n",
       "  'x = 10\\ny = 20\\n\\nx,y = y,x\\n\\nx',\n",
       "  'y',\n",
       "  \"for one_item in enumerate('abcd'):ֿ\\n    print(one_item)\",\n",
       "  \"for one_item in enumerate('abcd'):\\n    print(one_item)\",\n",
       "  \"for one_item in enumerate('abcd'):\\n    index, one_value = one_item\\n    print(f'{index}: {one_value}')\",\n",
       "  \"for index, one_value in enumerate('abcd'):\\n    print(f'{index}: {one_value}')\",\n",
       "  't = ([10, 20, 30],\\n    [40, 50, 60])',\n",
       "  't',\n",
       "  \"t[0][0] = '!'\\nt\",\n",
       "  't[0].append(35)\\nt',\n",
       "  't[0] += [36, 37, 38]',\n",
       "  't',\n",
       "  \"# Use {} to define a dict\\n# We put a : between key and value\\n# We put , between the pairs\\n\\nd = {'a':10, 'b':20, 'c':30}\",\n",
       "  'len(d)',\n",
       "  \"d['a']\",\n",
       "  \"d['c']\",\n",
       "  'd[10]',\n",
       "  '# \"in\" checks if a key is in a dict\\n\\n\\'a\\' in d',\n",
       "  '10 in d',\n",
       "  \"d = {'abcd':10, 'efgh':20}\\n\\n'a' in d\",\n",
       "  'x = 100',\n",
       "  'globals()'],\n",
       " '_oh': {1: 'a',\n",
       "  2: 'b',\n",
       "  4: list,\n",
       "  5: 10,\n",
       "  6: 20,\n",
       "  7: 90,\n",
       "  8: [30, 40, 50, 60, 70],\n",
       "  10: True,\n",
       "  11: 9,\n",
       "  12: ['!', 20, 30, 40, 50, 60, 70, 80, 90, 100, '?', [111, 222, 333]],\n",
       "  13: 10,\n",
       "  14: ['!', 20, 30, 40, 50, 60, 70, 80, 90, 100, '?', [111, 222, 333]],\n",
       "  15: ['!', 20, 30, 40, 50, 60, 70, 80, 90, 100, '?', [111, 222, 333]],\n",
       "  16: ['!', 20, 30, 40, 50, 60, 70, 80, 90, 100, '?', [111, 222, 333]],\n",
       "  17: ['!', 20, 30, 40, 50, 60, 70, 80, 90, 100, '?', [111, 222, 333]],\n",
       "  18: [10, 20, 30, 40, 50, 70, 80, 'abc', 'a', 'b'],\n",
       "  19: [10, 20, 30, 40, 50, 70, 80, 'abc', 'a', 'b'],\n",
       "  20: [10, 20, 30, 40, 50, 70, 80, 'abc', 'a', 'b'],\n",
       "  21: 'c',\n",
       "  23: [10, 20, 30, 40, 50, 70, 80, 'abc', 'a', 'b'],\n",
       "  24: 60,\n",
       "  25: [10, 20, 30, 40, 50, 70, 80, 'abc', 'a', 'b'],\n",
       "  26: [0, 0, 0, 0, 0],\n",
       "  27: [0, 0, 0, 0, 0],\n",
       "  39: [10, 20],\n",
       "  40: [10, 20],\n",
       "  41: 123,\n",
       "  42: 123.0,\n",
       "  43: '123',\n",
       "  44: '12.34',\n",
       "  45: ['a', 'b', 'c', 'd', 'e'],\n",
       "  46: '[10, 20, 30]',\n",
       "  47: ['1', '2', '3', ',', '4', '5', ',', '6', '7', '8', '9'],\n",
       "  48: ['123', '45', '6789'],\n",
       "  49: ['123,', '5,6789'],\n",
       "  50: ['This',\n",
       "   'is',\n",
       "   'a',\n",
       "   'bunch',\n",
       "   'of',\n",
       "   'words',\n",
       "   'for',\n",
       "   'my',\n",
       "   'Python',\n",
       "   'course'],\n",
       "  51: ['This',\n",
       "   '',\n",
       "   'is',\n",
       "   'a',\n",
       "   '',\n",
       "   '',\n",
       "   'bunch',\n",
       "   'of',\n",
       "   '',\n",
       "   '',\n",
       "   '',\n",
       "   'words',\n",
       "   'for',\n",
       "   'my',\n",
       "   '',\n",
       "   '',\n",
       "   '',\n",
       "   '',\n",
       "   'Python',\n",
       "   'course'],\n",
       "  52: ['This',\n",
       "   'is',\n",
       "   'a',\n",
       "   'bunch',\n",
       "   'of',\n",
       "   'words',\n",
       "   'for',\n",
       "   'my',\n",
       "   'Python',\n",
       "   'course'],\n",
       "  53: \"['abcd', 'ef', 'ghijk']\",\n",
       "  54: 'abcd*ef*ghijk',\n",
       "  55: 'abcd\\nef\\nghijk',\n",
       "  56: 'abcdefghijk',\n",
       "  57: 'a*b*c*d',\n",
       "  59: 'abcdefg',\n",
       "  60: 'aaabbbcccdddeeefffggg',\n",
       "  61: ['aaa', 'bbb', 'ccc', 'ddd', 'eee', 'fff', 'ggg'],\n",
       "  62: 'aaabbbcccdddeeefffggg',\n",
       "  66: ['histay', 'isway', 'away', 'esttay'],\n",
       "  68: ['abcd', 'ef', 'ghij', 'klmno', 'pqrst', 'uv', 'wxyz'],\n",
       "  69: ['abcd', 'ef', 'ghij', 'klmno pqrst uv wxyz'],\n",
       "  70: ['abcd ef ghij klmno', 'pqrst', 'uv', 'wxyz'],\n",
       "  71: tuple,\n",
       "  72: 10,\n",
       "  73: 20,\n",
       "  74: 90,\n",
       "  76: True,\n",
       "  78: tuple,\n",
       "  79: tuple,\n",
       "  80: int,\n",
       "  81: tuple,\n",
       "  82: tuple,\n",
       "  83: 14,\n",
       "  84: 20,\n",
       "  85: tuple,\n",
       "  86: (10, 20, 30, 40, 50),\n",
       "  87: tuple,\n",
       "  88: 0,\n",
       "  89: [10, 20, 30],\n",
       "  91: 10,\n",
       "  92: 20,\n",
       "  93: 30,\n",
       "  96: 10,\n",
       "  97: [20, 30],\n",
       "  98: 20,\n",
       "  99: 10,\n",
       "  105: (['!', 20, 30, 35, 36, 37, 38], [40, 50, 60]),\n",
       "  106: (['!', 20, 30, 35, 36, 37, 38], [40, 50, 60]),\n",
       "  107: (['!', 20, 30, 35, 36, 37, 38], [40, 50, 60]),\n",
       "  109: (['!', 20, 30, 35, 36, 37, 38], [40, 50, 60]),\n",
       "  111: 3,\n",
       "  112: 10,\n",
       "  113: 30,\n",
       "  115: True,\n",
       "  116: False,\n",
       "  117: False},\n",
       " '_dh': [PosixPath('/Users/reuven/Courses/Current/wdc-2024-python')],\n",
       " 'In': ['',\n",
       "  \"s = 'abcdefghij'\\n\\ns[0]\",\n",
       "  's[1]',\n",
       "  \"s[0] = '!'\",\n",
       "  'mylist = [10, 20, 30, 40, 50, 60, 70, 80, 90]\\n\\ntype(mylist)',\n",
       "  'mylist[0]',\n",
       "  'mylist[1]',\n",
       "  'mylist[-1]',\n",
       "  'mylist[2:7]    # slice',\n",
       "  'for one_item in mylist:\\n    print(one_item)',\n",
       "  '50 in mylist',\n",
       "  'len(mylist)',\n",
       "  'mylist',\n",
       "  'mylist[0]',\n",
       "  \"mylist[0] = '!'\\nmylist\",\n",
       "  '# list.append -- argument is what we want to add\\n\\nmylist.append(100)\\nmylist',\n",
       "  \"mylist.append('?')\\nmylist\",\n",
       "  'mylist.append([111, 222, 333])\\nmylist',\n",
       "  '# +=   adds all of the items on the right, with a for loop\\n\\nmylist = [10, 20, 30, 40, 50]\\n\\nmylist += [60, 70, 80]\\nmylist',\n",
       "  \"mylist.append('abc')\\nmylist\",\n",
       "  \"mylist += 'abc'\\nmylist\",\n",
       "  \"# remove from a list's final element with list.pop\\n\\nmylist.pop()\",\n",
       "  'myoist',\n",
       "  'mylist',\n",
       "  'mylist.pop(5)',\n",
       "  'mylist',\n",
       "  '[0] * 5',\n",
       "  'x = 5\\n[0] *  x',\n",
       "  'x = 5\\nlots_of_zeroes = [0] *  x',\n",
       "  \"if s != '':\\n    print('Not empty')\",\n",
       "  \"if s == '':\\n    print('Empty')\",\n",
       "  \"vowels = []\\ndigits = []\\nothers = []\\n\\nwhile True:\\n    text = input('Enter text: ').strip()\\n\\n    if not text:\\n        break\\n        \\n    for one_character in text.lower():\\n        if one_character in 'aeiou':        # if it's a vowel\\n            vowels.append(one_character)    #   .... add to the end of vowels\\n        elif one_character.isdigit():       # if it's a digit\\n            digits.append(one_character)    #   ....  add to the end of digits\\n        else:\\n            others.append(one_character)    # otherwise, add to others\\n\\nprint(f'vowels = {vowels}')\\nprint(f'digits = {digits}')\\nprint(f'others = {others}')\",\n",
       "  \"vowels = []\\ndigits = []\\nothers = []\\n\\nwhile text = input('Enter text: ').strip():\\n\\n    for one_character in text.lower():\\n        if one_character in 'aeiou':        # if it's a vowel\\n            vowels.append(one_character)    #   .... add to the end of vowels\\n        elif one_character.isdigit():       # if it's a digit\\n            digits.append(one_character)    #   ....  add to the end of digits\\n        else:\\n            others.append(one_character)    # otherwise, add to others\\n\\nprint(f'vowels = {vowels}')\\nprint(f'digits = {digits}')\\nprint(f'others = {others}')\",\n",
       "  'x := 5',\n",
       "  'if x := 5:\\n    print(x)',\n",
       "  'y = x := 10',\n",
       "  'y = x = 10',\n",
       "  'y = x = []',\n",
       "  'x.append(10)\\ny.append(20)',\n",
       "  'x',\n",
       "  'y',\n",
       "  \"int('123')\",\n",
       "  \"float('123')\",\n",
       "  'str(123)',\n",
       "  'str(12.34)',\n",
       "  \"s = 'abcde'\\nlist(s)\",\n",
       "  'mylist = [10, 20, 30]\\nstr(mylist)',\n",
       "  \"data = '123,45,6789'\\n\\nlist(data)\",\n",
       "  \"# list.split -- always returns a list of strings\\n# we need to say what the field separator is\\n\\ndata.split(',')\",\n",
       "  \"data.split('4')\",\n",
       "  \"text = 'This is a bunch of words for my Python course'\\n\\ntext.split(' ')\",\n",
       "  \"text = 'This  is a   bunch of    words for my     Python course'\\n\\ntext.split(' ')\",\n",
       "  '# without an argument, Python uses any/all whitespace as one delimiter\\n\\ntext.split()',\n",
       "  \"mylist = ['abcd', 'ef', 'ghijk']\\n\\nstr(mylist)\",\n",
       "  \"# str.join -- returns a string based on an iterable's contents\\n\\n'*'.join(mylist)\",\n",
       "  \"'\\\\n'.join(mylist)\",\n",
       "  \"''.join(mylist)\",\n",
       "  \"'*'.join('abcd')\",\n",
       "  \"'*'.join([10, 20, 30])\",\n",
       "  \"output = ''\\n\\nfor one_item in 'abcdefg':\\n    output += one_item\\n\\noutput\",\n",
       "  \"output = ''\\n\\nfor one_item in 'abcdefg':\\n    output += one_item * 3\\n\\noutput\",\n",
       "  \"output = []\\n\\nfor one_item in 'abcdefg':\\n    output.append(one_item * 3)\\n\\noutput\",\n",
       "  \"output = []\\n\\nfor one_item in 'abcdefg':\\n    output.append(one_item * 3)\\n\\n''.join(output)\",\n",
       "  \"word = input('Enter word: ').strip()\\n\\nif word[0] in 'aeiou':\\n    print(word + 'way')\\nelse:\\n    print(word[1:] + word[0] + 'ay')\",\n",
       "  \"s = 'abcd'\\n\\nfor index, one_letter in enumerate(s):\\n    print(f'{index}: {one_letter}')\",\n",
       "  \"sentence = input('Enter sentence: ').strip()\\n\\nfor word in sentence.split():\\n    if word[0] in 'aeiou':\\n        print(word + 'way')\\n    else:\\n        print(word[1:] + word[0] + 'ay')\",\n",
       "  \"output = []\\nsentence = input('Enter sentence: ').strip()\\n\\nfor word in sentence.split():\\n    if word[0] in 'aeiou':\\n        output.append(word + 'way')\\n    else:\\n        output.append(word[1:] + word[0] + 'ay')\\n\\noutput\",\n",
       "  \"output = []\\nsentence = input('Enter sentence: ').strip()\\n\\nfor word in sentence.split():\\n    if word[0] in 'aeiou':\\n        output.append(word + 'way')\\n    else:\\n        output.append(word[1:] + word[0] + 'ay')\\n\\nprint(' '.join(output))\",\n",
       "  \"s = 'abcd ef ghij klmno pqrst uv wxyz'\\n\\ns.split()\",\n",
       "  's.split(maxsplit=3)',\n",
       "  's.rsplit(maxsplit=3)',\n",
       "  't = (10, 20, 30, 40, 50, 60, 70, 80, 90)\\n\\ntype(t)',\n",
       "  't[0]',\n",
       "  't[1]',\n",
       "  't[-1]',\n",
       "  'for one_item in t:\\n    print(one_item)',\n",
       "  '30 in t',\n",
       "  \"t[0]= '!'\",\n",
       "  't = (10, 20, 30)\\ntype(t)',\n",
       "  't = (10, 20)\\ntype(t)',\n",
       "  't = (10)\\ntype(t)',\n",
       "  't = ()\\ntype(t)',\n",
       "  't = (10, 20, 30, 40)\\ntype(t)',\n",
       "  '2 + 3 * 4',\n",
       "  '(2+3) * 4',\n",
       "  '# for a one-element tuple, I need a comma\\n\\nt = (10,)\\ntype(t)',\n",
       "  \"# we don't need () for a tuple!\\n\\nt = 10, 20, 30, 40, 50\\nt\",\n",
       "  't = ()\\ntype(t)',\n",
       "  'len(t)',\n",
       "  '# tuple unpacking\\n\\nmylist = [10, 20, 30]\\n\\nx = mylist\\nx',\n",
       "  'x,y,z = mylist',\n",
       "  'x',\n",
       "  'y',\n",
       "  'z',\n",
       "  'x,y = mylist',\n",
       "  'w,x,y,z = mylist',\n",
       "  'x,*y = mylist\\nx',\n",
       "  'y',\n",
       "  'x = 10\\ny = 20\\n\\nx,y = y,x\\n\\nx',\n",
       "  'y',\n",
       "  \"for one_item in enumerate('abcd'):ֿ\\n    print(one_item)\",\n",
       "  \"for one_item in enumerate('abcd'):\\n    print(one_item)\",\n",
       "  \"for one_item in enumerate('abcd'):\\n    index, one_value = one_item\\n    print(f'{index}: {one_value}')\",\n",
       "  \"for index, one_value in enumerate('abcd'):\\n    print(f'{index}: {one_value}')\",\n",
       "  't = ([10, 20, 30],\\n    [40, 50, 60])',\n",
       "  't',\n",
       "  \"t[0][0] = '!'\\nt\",\n",
       "  't[0].append(35)\\nt',\n",
       "  't[0] += [36, 37, 38]',\n",
       "  't',\n",
       "  \"# Use {} to define a dict\\n# We put a : between key and value\\n# We put , between the pairs\\n\\nd = {'a':10, 'b':20, 'c':30}\",\n",
       "  'len(d)',\n",
       "  \"d['a']\",\n",
       "  \"d['c']\",\n",
       "  'd[10]',\n",
       "  '# \"in\" checks if a key is in a dict\\n\\n\\'a\\' in d',\n",
       "  '10 in d',\n",
       "  \"d = {'abcd':10, 'efgh':20}\\n\\n'a' in d\",\n",
       "  'x = 100',\n",
       "  'globals()'],\n",
       " 'Out': {1: 'a',\n",
       "  2: 'b',\n",
       "  4: list,\n",
       "  5: 10,\n",
       "  6: 20,\n",
       "  7: 90,\n",
       "  8: [30, 40, 50, 60, 70],\n",
       "  10: True,\n",
       "  11: 9,\n",
       "  12: ['!', 20, 30, 40, 50, 60, 70, 80, 90, 100, '?', [111, 222, 333]],\n",
       "  13: 10,\n",
       "  14: ['!', 20, 30, 40, 50, 60, 70, 80, 90, 100, '?', [111, 222, 333]],\n",
       "  15: ['!', 20, 30, 40, 50, 60, 70, 80, 90, 100, '?', [111, 222, 333]],\n",
       "  16: ['!', 20, 30, 40, 50, 60, 70, 80, 90, 100, '?', [111, 222, 333]],\n",
       "  17: ['!', 20, 30, 40, 50, 60, 70, 80, 90, 100, '?', [111, 222, 333]],\n",
       "  18: [10, 20, 30, 40, 50, 70, 80, 'abc', 'a', 'b'],\n",
       "  19: [10, 20, 30, 40, 50, 70, 80, 'abc', 'a', 'b'],\n",
       "  20: [10, 20, 30, 40, 50, 70, 80, 'abc', 'a', 'b'],\n",
       "  21: 'c',\n",
       "  23: [10, 20, 30, 40, 50, 70, 80, 'abc', 'a', 'b'],\n",
       "  24: 60,\n",
       "  25: [10, 20, 30, 40, 50, 70, 80, 'abc', 'a', 'b'],\n",
       "  26: [0, 0, 0, 0, 0],\n",
       "  27: [0, 0, 0, 0, 0],\n",
       "  39: [10, 20],\n",
       "  40: [10, 20],\n",
       "  41: 123,\n",
       "  42: 123.0,\n",
       "  43: '123',\n",
       "  44: '12.34',\n",
       "  45: ['a', 'b', 'c', 'd', 'e'],\n",
       "  46: '[10, 20, 30]',\n",
       "  47: ['1', '2', '3', ',', '4', '5', ',', '6', '7', '8', '9'],\n",
       "  48: ['123', '45', '6789'],\n",
       "  49: ['123,', '5,6789'],\n",
       "  50: ['This',\n",
       "   'is',\n",
       "   'a',\n",
       "   'bunch',\n",
       "   'of',\n",
       "   'words',\n",
       "   'for',\n",
       "   'my',\n",
       "   'Python',\n",
       "   'course'],\n",
       "  51: ['This',\n",
       "   '',\n",
       "   'is',\n",
       "   'a',\n",
       "   '',\n",
       "   '',\n",
       "   'bunch',\n",
       "   'of',\n",
       "   '',\n",
       "   '',\n",
       "   '',\n",
       "   'words',\n",
       "   'for',\n",
       "   'my',\n",
       "   '',\n",
       "   '',\n",
       "   '',\n",
       "   '',\n",
       "   'Python',\n",
       "   'course'],\n",
       "  52: ['This',\n",
       "   'is',\n",
       "   'a',\n",
       "   'bunch',\n",
       "   'of',\n",
       "   'words',\n",
       "   'for',\n",
       "   'my',\n",
       "   'Python',\n",
       "   'course'],\n",
       "  53: \"['abcd', 'ef', 'ghijk']\",\n",
       "  54: 'abcd*ef*ghijk',\n",
       "  55: 'abcd\\nef\\nghijk',\n",
       "  56: 'abcdefghijk',\n",
       "  57: 'a*b*c*d',\n",
       "  59: 'abcdefg',\n",
       "  60: 'aaabbbcccdddeeefffggg',\n",
       "  61: ['aaa', 'bbb', 'ccc', 'ddd', 'eee', 'fff', 'ggg'],\n",
       "  62: 'aaabbbcccdddeeefffggg',\n",
       "  66: ['histay', 'isway', 'away', 'esttay'],\n",
       "  68: ['abcd', 'ef', 'ghij', 'klmno', 'pqrst', 'uv', 'wxyz'],\n",
       "  69: ['abcd', 'ef', 'ghij', 'klmno pqrst uv wxyz'],\n",
       "  70: ['abcd ef ghij klmno', 'pqrst', 'uv', 'wxyz'],\n",
       "  71: tuple,\n",
       "  72: 10,\n",
       "  73: 20,\n",
       "  74: 90,\n",
       "  76: True,\n",
       "  78: tuple,\n",
       "  79: tuple,\n",
       "  80: int,\n",
       "  81: tuple,\n",
       "  82: tuple,\n",
       "  83: 14,\n",
       "  84: 20,\n",
       "  85: tuple,\n",
       "  86: (10, 20, 30, 40, 50),\n",
       "  87: tuple,\n",
       "  88: 0,\n",
       "  89: [10, 20, 30],\n",
       "  91: 10,\n",
       "  92: 20,\n",
       "  93: 30,\n",
       "  96: 10,\n",
       "  97: [20, 30],\n",
       "  98: 20,\n",
       "  99: 10,\n",
       "  105: (['!', 20, 30, 35, 36, 37, 38], [40, 50, 60]),\n",
       "  106: (['!', 20, 30, 35, 36, 37, 38], [40, 50, 60]),\n",
       "  107: (['!', 20, 30, 35, 36, 37, 38], [40, 50, 60]),\n",
       "  109: (['!', 20, 30, 35, 36, 37, 38], [40, 50, 60]),\n",
       "  111: 3,\n",
       "  112: 10,\n",
       "  113: 30,\n",
       "  115: True,\n",
       "  116: False,\n",
       "  117: False},\n",
       " 'get_ipython': <bound method InteractiveShell.get_ipython of <ipykernel.zmqshell.ZMQInteractiveShell object at 0x1080802f0>>,\n",
       " 'exit': <IPython.core.autocall.ZMQExitAutocall at 0x108082270>,\n",
       " 'quit': <IPython.core.autocall.ZMQExitAutocall at 0x108082270>,\n",
       " 'open': <function _io.open(file, mode='r', buffering=-1, encoding=None, errors=None, newline=None, closefd=True, opener=None)>,\n",
       " '_': False,\n",
       " '__': False,\n",
       " '___': True,\n",
       " '__session__': '/Users/reuven/Courses/Current/wdc-2024-python/Untitled.ipynb',\n",
       " '_i': 'x = 100',\n",
       " '_ii': \"d = {'abcd':10, 'efgh':20}\\n\\n'a' in d\",\n",
       " '_iii': '10 in d',\n",
       " '_i1': \"s = 'abcdefghij'\\n\\ns[0]\",\n",
       " 's': 'abcd ef ghij klmno pqrst uv wxyz',\n",
       " '_1': 'a',\n",
       " '_i2': 's[1]',\n",
       " '_2': 'b',\n",
       " '_i3': \"s[0] = '!'\",\n",
       " '_i4': 'mylist = [10, 20, 30, 40, 50, 60, 70, 80, 90]\\n\\ntype(mylist)',\n",
       " 'mylist': [10, 20, 30],\n",
       " '_4': list,\n",
       " '_i5': 'mylist[0]',\n",
       " '_5': 10,\n",
       " '_i6': 'mylist[1]',\n",
       " '_6': 20,\n",
       " '_i7': 'mylist[-1]',\n",
       " '_7': 90,\n",
       " '_i8': 'mylist[2:7]    # slice',\n",
       " '_8': [30, 40, 50, 60, 70],\n",
       " '_i9': 'for one_item in mylist:\\n    print(one_item)',\n",
       " 'one_item': (3, 'd'),\n",
       " '_i10': '50 in mylist',\n",
       " '_10': True,\n",
       " '_i11': 'len(mylist)',\n",
       " '_11': 9,\n",
       " '_i12': 'mylist',\n",
       " '_12': ['!', 20, 30, 40, 50, 60, 70, 80, 90, 100, '?', [111, 222, 333]],\n",
       " '_i13': 'mylist[0]',\n",
       " '_13': 10,\n",
       " '_i14': \"mylist[0] = '!'\\nmylist\",\n",
       " '_14': ['!', 20, 30, 40, 50, 60, 70, 80, 90, 100, '?', [111, 222, 333]],\n",
       " '_i15': '# list.append -- argument is what we want to add\\n\\nmylist.append(100)\\nmylist',\n",
       " '_15': ['!', 20, 30, 40, 50, 60, 70, 80, 90, 100, '?', [111, 222, 333]],\n",
       " '_i16': \"mylist.append('?')\\nmylist\",\n",
       " '_16': ['!', 20, 30, 40, 50, 60, 70, 80, 90, 100, '?', [111, 222, 333]],\n",
       " '_i17': 'mylist.append([111, 222, 333])\\nmylist',\n",
       " '_17': ['!', 20, 30, 40, 50, 60, 70, 80, 90, 100, '?', [111, 222, 333]],\n",
       " '_i18': '# +=   adds all of the items on the right, with a for loop\\n\\nmylist = [10, 20, 30, 40, 50]\\n\\nmylist += [60, 70, 80]\\nmylist',\n",
       " '_18': [10, 20, 30, 40, 50, 70, 80, 'abc', 'a', 'b'],\n",
       " '_i19': \"mylist.append('abc')\\nmylist\",\n",
       " '_19': [10, 20, 30, 40, 50, 70, 80, 'abc', 'a', 'b'],\n",
       " '_i20': \"mylist += 'abc'\\nmylist\",\n",
       " '_20': [10, 20, 30, 40, 50, 70, 80, 'abc', 'a', 'b'],\n",
       " '_i21': \"# remove from a list's final element with list.pop\\n\\nmylist.pop()\",\n",
       " '_21': 'c',\n",
       " '_i22': 'myoist',\n",
       " '_i23': 'mylist',\n",
       " '_23': [10, 20, 30, 40, 50, 70, 80, 'abc', 'a', 'b'],\n",
       " '_i24': 'mylist.pop(5)',\n",
       " '_24': 60,\n",
       " '_i25': 'mylist',\n",
       " '_25': [10, 20, 30, 40, 50, 70, 80, 'abc', 'a', 'b'],\n",
       " '_i26': '[0] * 5',\n",
       " '_26': [0, 0, 0, 0, 0],\n",
       " '_i27': 'x = 5\\n[0] *  x',\n",
       " 'x': 100,\n",
       " '_27': [0, 0, 0, 0, 0],\n",
       " '_i28': 'x = 5\\nlots_of_zeroes = [0] *  x',\n",
       " 'lots_of_zeroes': [0, 0, 0, 0, 0],\n",
       " '_i29': \"if s != '':\\n    print('Not empty')\",\n",
       " '_i30': \"if s == '':\\n    print('Empty')\",\n",
       " '_i31': \"vowels = []\\ndigits = []\\nothers = []\\n\\nwhile True:\\n    text = input('Enter text: ').strip()\\n\\n    if not text:\\n        break\\n        \\n    for one_character in text.lower():\\n        if one_character in 'aeiou':        # if it's a vowel\\n            vowels.append(one_character)    #   .... add to the end of vowels\\n        elif one_character.isdigit():       # if it's a digit\\n            digits.append(one_character)    #   ....  add to the end of digits\\n        else:\\n            others.append(one_character)    # otherwise, add to others\\n\\nprint(f'vowels = {vowels}')\\nprint(f'digits = {digits}')\\nprint(f'others = {others}')\",\n",
       " 'vowels': ['e', 'o', 'a', 'e', 'o', 'u', 'e', 'e'],\n",
       " 'digits': ['1', '2', '3'],\n",
       " 'others': ['h',\n",
       "  'l',\n",
       "  'l',\n",
       "  '!',\n",
       "  '!',\n",
       "  ' ',\n",
       "  'r',\n",
       "  ' ',\n",
       "  'y',\n",
       "  ' ',\n",
       "  't',\n",
       "  'h',\n",
       "  'r',\n",
       "  '?'],\n",
       " 'text': 'This  is a   bunch of    words for my     Python course',\n",
       " 'one_character': '?',\n",
       " '_i32': \"vowels = []\\ndigits = []\\nothers = []\\n\\nwhile text = input('Enter text: ').strip():\\n\\n    for one_character in text.lower():\\n        if one_character in 'aeiou':        # if it's a vowel\\n            vowels.append(one_character)    #   .... add to the end of vowels\\n        elif one_character.isdigit():       # if it's a digit\\n            digits.append(one_character)    #   ....  add to the end of digits\\n        else:\\n            others.append(one_character)    # otherwise, add to others\\n\\nprint(f'vowels = {vowels}')\\nprint(f'digits = {digits}')\\nprint(f'others = {others}')\",\n",
       " '_i33': 'x := 5',\n",
       " '_i34': 'if x := 5:\\n    print(x)',\n",
       " '_i35': 'y = x := 10',\n",
       " '_i36': 'y = x = 10',\n",
       " 'y': 10,\n",
       " '_i37': 'y = x = []',\n",
       " '_i38': 'x.append(10)\\ny.append(20)',\n",
       " '_i39': 'x',\n",
       " '_39': [10, 20],\n",
       " '_i40': 'y',\n",
       " '_40': [10, 20],\n",
       " '_i41': \"int('123')\",\n",
       " '_41': 123,\n",
       " '_i42': \"float('123')\",\n",
       " '_42': 123.0,\n",
       " '_i43': 'str(123)',\n",
       " '_43': '123',\n",
       " '_i44': 'str(12.34)',\n",
       " '_44': '12.34',\n",
       " '_i45': \"s = 'abcde'\\nlist(s)\",\n",
       " '_45': ['a', 'b', 'c', 'd', 'e'],\n",
       " '_i46': 'mylist = [10, 20, 30]\\nstr(mylist)',\n",
       " '_46': '[10, 20, 30]',\n",
       " '_i47': \"data = '123,45,6789'\\n\\nlist(data)\",\n",
       " 'data': '123,45,6789',\n",
       " '_47': ['1', '2', '3', ',', '4', '5', ',', '6', '7', '8', '9'],\n",
       " '_i48': \"# list.split -- always returns a list of strings\\n# we need to say what the field separator is\\n\\ndata.split(',')\",\n",
       " '_48': ['123', '45', '6789'],\n",
       " '_i49': \"data.split('4')\",\n",
       " '_49': ['123,', '5,6789'],\n",
       " '_i50': \"text = 'This is a bunch of words for my Python course'\\n\\ntext.split(' ')\",\n",
       " '_50': ['This',\n",
       "  'is',\n",
       "  'a',\n",
       "  'bunch',\n",
       "  'of',\n",
       "  'words',\n",
       "  'for',\n",
       "  'my',\n",
       "  'Python',\n",
       "  'course'],\n",
       " '_i51': \"text = 'This  is a   bunch of    words for my     Python course'\\n\\ntext.split(' ')\",\n",
       " '_51': ['This',\n",
       "  '',\n",
       "  'is',\n",
       "  'a',\n",
       "  '',\n",
       "  '',\n",
       "  'bunch',\n",
       "  'of',\n",
       "  '',\n",
       "  '',\n",
       "  '',\n",
       "  'words',\n",
       "  'for',\n",
       "  'my',\n",
       "  '',\n",
       "  '',\n",
       "  '',\n",
       "  '',\n",
       "  'Python',\n",
       "  'course'],\n",
       " '_i52': '# without an argument, Python uses any/all whitespace as one delimiter\\n\\ntext.split()',\n",
       " '_52': ['This',\n",
       "  'is',\n",
       "  'a',\n",
       "  'bunch',\n",
       "  'of',\n",
       "  'words',\n",
       "  'for',\n",
       "  'my',\n",
       "  'Python',\n",
       "  'course'],\n",
       " '_i53': \"mylist = ['abcd', 'ef', 'ghijk']\\n\\nstr(mylist)\",\n",
       " '_53': \"['abcd', 'ef', 'ghijk']\",\n",
       " '_i54': \"# str.join -- returns a string based on an iterable's contents\\n\\n'*'.join(mylist)\",\n",
       " '_54': 'abcd*ef*ghijk',\n",
       " '_i55': \"'\\\\n'.join(mylist)\",\n",
       " '_55': 'abcd\\nef\\nghijk',\n",
       " '_i56': \"''.join(mylist)\",\n",
       " '_56': 'abcdefghijk',\n",
       " '_i57': \"'*'.join('abcd')\",\n",
       " '_57': 'a*b*c*d',\n",
       " '_i58': \"'*'.join([10, 20, 30])\",\n",
       " '_i59': \"output = ''\\n\\nfor one_item in 'abcdefg':\\n    output += one_item\\n\\noutput\",\n",
       " 'output': ['histay', 'isway', 'away', 'esttay'],\n",
       " '_59': 'abcdefg',\n",
       " '_i60': \"output = ''\\n\\nfor one_item in 'abcdefg':\\n    output += one_item * 3\\n\\noutput\",\n",
       " '_60': 'aaabbbcccdddeeefffggg',\n",
       " '_i61': \"output = []\\n\\nfor one_item in 'abcdefg':\\n    output.append(one_item * 3)\\n\\noutput\",\n",
       " '_61': ['aaa', 'bbb', 'ccc', 'ddd', 'eee', 'fff', 'ggg'],\n",
       " '_i62': \"output = []\\n\\nfor one_item in 'abcdefg':\\n    output.append(one_item * 3)\\n\\n''.join(output)\",\n",
       " '_62': 'aaabbbcccdddeeefffggg',\n",
       " '_i63': \"word = input('Enter word: ').strip()\\n\\nif word[0] in 'aeiou':\\n    print(word + 'way')\\nelse:\\n    print(word[1:] + word[0] + 'ay')\",\n",
       " 'word': 'test',\n",
       " '_i64': \"s = 'abcd'\\n\\nfor index, one_letter in enumerate(s):\\n    print(f'{index}: {one_letter}')\",\n",
       " 'index': 3,\n",
       " 'one_letter': 'd',\n",
       " '_i65': \"sentence = input('Enter sentence: ').strip()\\n\\nfor word in sentence.split():\\n    if word[0] in 'aeiou':\\n        print(word + 'way')\\n    else:\\n        print(word[1:] + word[0] + 'ay')\",\n",
       " 'sentence': 'this is a test',\n",
       " '_i66': \"output = []\\nsentence = input('Enter sentence: ').strip()\\n\\nfor word in sentence.split():\\n    if word[0] in 'aeiou':\\n        output.append(word + 'way')\\n    else:\\n        output.append(word[1:] + word[0] + 'ay')\\n\\noutput\",\n",
       " '_66': ['histay', 'isway', 'away', 'esttay'],\n",
       " '_i67': \"output = []\\nsentence = input('Enter sentence: ').strip()\\n\\nfor word in sentence.split():\\n    if word[0] in 'aeiou':\\n        output.append(word + 'way')\\n    else:\\n        output.append(word[1:] + word[0] + 'ay')\\n\\nprint(' '.join(output))\",\n",
       " '_i68': \"s = 'abcd ef ghij klmno pqrst uv wxyz'\\n\\ns.split()\",\n",
       " '_68': ['abcd', 'ef', 'ghij', 'klmno', 'pqrst', 'uv', 'wxyz'],\n",
       " '_i69': 's.split(maxsplit=3)',\n",
       " '_69': ['abcd', 'ef', 'ghij', 'klmno pqrst uv wxyz'],\n",
       " '_i70': 's.rsplit(maxsplit=3)',\n",
       " '_70': ['abcd ef ghij klmno', 'pqrst', 'uv', 'wxyz'],\n",
       " '_i71': 't = (10, 20, 30, 40, 50, 60, 70, 80, 90)\\n\\ntype(t)',\n",
       " 't': (['!', 20, 30, 35, 36, 37, 38], [40, 50, 60]),\n",
       " '_71': tuple,\n",
       " '_i72': 't[0]',\n",
       " '_72': 10,\n",
       " '_i73': 't[1]',\n",
       " '_73': 20,\n",
       " '_i74': 't[-1]',\n",
       " '_74': 90,\n",
       " '_i75': 'for one_item in t:\\n    print(one_item)',\n",
       " '_i76': '30 in t',\n",
       " '_76': True,\n",
       " '_i77': \"t[0]= '!'\",\n",
       " '_i78': 't = (10, 20, 30)\\ntype(t)',\n",
       " '_78': tuple,\n",
       " '_i79': 't = (10, 20)\\ntype(t)',\n",
       " '_79': tuple,\n",
       " '_i80': 't = (10)\\ntype(t)',\n",
       " '_80': int,\n",
       " '_i81': 't = ()\\ntype(t)',\n",
       " '_81': tuple,\n",
       " '_i82': 't = (10, 20, 30, 40)\\ntype(t)',\n",
       " '_82': tuple,\n",
       " '_i83': '2 + 3 * 4',\n",
       " '_83': 14,\n",
       " '_i84': '(2+3) * 4',\n",
       " '_84': 20,\n",
       " '_i85': '# for a one-element tuple, I need a comma\\n\\nt = (10,)\\ntype(t)',\n",
       " '_85': tuple,\n",
       " '_i86': \"# we don't need () for a tuple!\\n\\nt = 10, 20, 30, 40, 50\\nt\",\n",
       " '_86': (10, 20, 30, 40, 50),\n",
       " '_i87': 't = ()\\ntype(t)',\n",
       " '_87': tuple,\n",
       " '_i88': 'len(t)',\n",
       " '_88': 0,\n",
       " '_i89': '# tuple unpacking\\n\\nmylist = [10, 20, 30]\\n\\nx = mylist\\nx',\n",
       " '_89': [10, 20, 30],\n",
       " '_i90': 'x,y,z = mylist',\n",
       " 'z': 30,\n",
       " '_i91': 'x',\n",
       " '_91': 10,\n",
       " '_i92': 'y',\n",
       " '_92': 20,\n",
       " '_i93': 'z',\n",
       " '_93': 30,\n",
       " '_i94': 'x,y = mylist',\n",
       " '_i95': 'w,x,y,z = mylist',\n",
       " '_i96': 'x,*y = mylist\\nx',\n",
       " '_96': 10,\n",
       " '_i97': 'y',\n",
       " '_97': [20, 30],\n",
       " '_i98': 'x = 10\\ny = 20\\n\\nx,y = y,x\\n\\nx',\n",
       " '_98': 20,\n",
       " '_i99': 'y',\n",
       " '_99': 10,\n",
       " '_i100': \"for one_item in enumerate('abcd'):ֿ\\n    print(one_item)\",\n",
       " '_i101': \"for one_item in enumerate('abcd'):\\n    print(one_item)\",\n",
       " '_i102': \"for one_item in enumerate('abcd'):\\n    index, one_value = one_item\\n    print(f'{index}: {one_value}')\",\n",
       " 'one_value': 'd',\n",
       " '_i103': \"for index, one_value in enumerate('abcd'):\\n    print(f'{index}: {one_value}')\",\n",
       " '_i104': 't = ([10, 20, 30],\\n    [40, 50, 60])',\n",
       " '_i105': 't',\n",
       " '_105': (['!', 20, 30, 35, 36, 37, 38], [40, 50, 60]),\n",
       " '_i106': \"t[0][0] = '!'\\nt\",\n",
       " '_106': (['!', 20, 30, 35, 36, 37, 38], [40, 50, 60]),\n",
       " '_i107': 't[0].append(35)\\nt',\n",
       " '_107': (['!', 20, 30, 35, 36, 37, 38], [40, 50, 60]),\n",
       " '_i108': 't[0] += [36, 37, 38]',\n",
       " '_i109': 't',\n",
       " '_109': (['!', 20, 30, 35, 36, 37, 38], [40, 50, 60]),\n",
       " '_i110': \"# Use {} to define a dict\\n# We put a : between key and value\\n# We put , between the pairs\\n\\nd = {'a':10, 'b':20, 'c':30}\",\n",
       " 'd': {'abcd': 10, 'efgh': 20},\n",
       " '_i111': 'len(d)',\n",
       " '_111': 3,\n",
       " '_i112': \"d['a']\",\n",
       " '_112': 10,\n",
       " '_i113': \"d['c']\",\n",
       " '_113': 30,\n",
       " '_i114': 'd[10]',\n",
       " '_i115': '# \"in\" checks if a key is in a dict\\n\\n\\'a\\' in d',\n",
       " '_115': True,\n",
       " '_i116': '10 in d',\n",
       " '_116': False,\n",
       " '_i117': \"d = {'abcd':10, 'efgh':20}\\n\\n'a' in d\",\n",
       " '_117': False,\n",
       " '_i118': 'x = 100',\n",
       " '_i119': 'globals()'}"
      ]
     },
     "execution_count": 119,
     "metadata": {},
     "output_type": "execute_result"
    }
   ],
   "source": [
    "globals()"
   ]
  },
  {
   "cell_type": "code",
   "execution_count": 120,
   "id": "ac7852b7-0468-4c15-9128-0cc2fd046ccf",
   "metadata": {},
   "outputs": [
    {
     "data": {
      "text/plain": [
       "100"
      ]
     },
     "execution_count": 120,
     "metadata": {},
     "output_type": "execute_result"
    }
   ],
   "source": [
    "globals()['x']"
   ]
  },
  {
   "cell_type": "code",
   "execution_count": 121,
   "id": "3a2f89e4-ea8d-4cbd-86ee-198e50e129aa",
   "metadata": {},
   "outputs": [
    {
     "ename": "IndexError",
     "evalue": "list index out of range",
     "output_type": "error",
     "traceback": [
      "\u001b[0;31m---------------------------------------------------------------------------\u001b[0m",
      "\u001b[0;31mIndexError\u001b[0m                                Traceback (most recent call last)",
      "Cell \u001b[0;32mIn[121], line 3\u001b[0m\n\u001b[1;32m      1\u001b[0m mylist \u001b[38;5;241m=\u001b[39m [\u001b[38;5;241m10\u001b[39m, \u001b[38;5;241m20\u001b[39m, \u001b[38;5;241m30\u001b[39m]\n\u001b[0;32m----> 3\u001b[0m \u001b[43mmylist\u001b[49m\u001b[43m[\u001b[49m\u001b[38;5;241;43m234\u001b[39;49m\u001b[43m]\u001b[49m\n",
      "\u001b[0;31mIndexError\u001b[0m: list index out of range"
     ]
    }
   ],
   "source": [
    "mylist = [10, 20, 30]\n",
    "\n",
    "mylist[234]"
   ]
  },
  {
   "cell_type": "code",
   "execution_count": 122,
   "id": "da9f870b-f70b-43b3-854a-ead59412cafc",
   "metadata": {},
   "outputs": [
    {
     "ename": "KeyError",
     "evalue": "'z'",
     "output_type": "error",
     "traceback": [
      "\u001b[0;31m---------------------------------------------------------------------------\u001b[0m",
      "\u001b[0;31mKeyError\u001b[0m                                  Traceback (most recent call last)",
      "Cell \u001b[0;32mIn[122], line 1\u001b[0m\n\u001b[0;32m----> 1\u001b[0m \u001b[43md\u001b[49m\u001b[43m[\u001b[49m\u001b[38;5;124;43m'\u001b[39;49m\u001b[38;5;124;43mz\u001b[39;49m\u001b[38;5;124;43m'\u001b[39;49m\u001b[43m]\u001b[49m\n",
      "\u001b[0;31mKeyError\u001b[0m: 'z'"
     ]
    }
   ],
   "source": [
    "d['z']"
   ]
  },
  {
   "cell_type": "markdown",
   "id": "ab5dfc79-1640-41f8-b574-64bc1d55af35",
   "metadata": {},
   "source": [
    "# Exercise: Restaurant\n",
    "\n",
    "1. Define `menu`, a dict in which the keys (strings) are items on a menu and the values (integers) are the prices.\n",
    "2. Define `total` to be 0.\n",
    "3. Ask the user, repeatedly, to order something from the menu.\n",
    "    - If we get an empty string, stop asking\n",
    "4. If the order string is in the `menu` dict, print the price and the new total\n",
    "5. If the order string is *not* in `menu`, then tell the user.\n",
    "6. At the end, print the total price.\n",
    "\n",
    "Example:\n",
    "\n",
    "    Order: sandwich\n",
    "    sandwich is 20, total is 20\n",
    "    Order: tea\n",
    "    tea is 8, total is 28\n",
    "    Order: elephant\n",
    "    Sorry, we're out of elephant today!\n",
    "    Order: [ENTER]\n",
    "    total is 28"
   ]
  },
  {
   "cell_type": "code",
   "execution_count": 123,
   "id": "6314ee80-36bb-4559-8b3e-4cc2e477a955",
   "metadata": {},
   "outputs": [
    {
     "data": {
      "text/plain": [
       "{'sandwich': 20, 'tea': 8, 'cake': 10, 'apple': 3}"
      ]
     },
     "execution_count": 123,
     "metadata": {},
     "output_type": "execute_result"
    }
   ],
   "source": [
    "menu = { 'sandwich':20   ,   'tea':8  ,     'cake':10,     'apple':3   }\n",
    "menu"
   ]
  },
  {
   "cell_type": "code",
   "execution_count": 124,
   "id": "8bf38714-ec83-4ea3-a83f-c34db6d4d28b",
   "metadata": {},
   "outputs": [
    {
     "data": {
      "text/plain": [
       "20"
      ]
     },
     "execution_count": 124,
     "metadata": {},
     "output_type": "execute_result"
    }
   ],
   "source": [
    "menu['sandwich']"
   ]
  },
  {
   "cell_type": "code",
   "execution_count": 125,
   "id": "f5e29e85-058f-433e-afd6-592d2de218c7",
   "metadata": {},
   "outputs": [
    {
     "ename": "KeyError",
     "evalue": "'asdfsafad'",
     "output_type": "error",
     "traceback": [
      "\u001b[0;31m---------------------------------------------------------------------------\u001b[0m",
      "\u001b[0;31mKeyError\u001b[0m                                  Traceback (most recent call last)",
      "Cell \u001b[0;32mIn[125], line 1\u001b[0m\n\u001b[0;32m----> 1\u001b[0m \u001b[43mmenu\u001b[49m\u001b[43m[\u001b[49m\u001b[38;5;124;43m'\u001b[39;49m\u001b[38;5;124;43masdfsafad\u001b[39;49m\u001b[38;5;124;43m'\u001b[39;49m\u001b[43m]\u001b[49m\n",
      "\u001b[0;31mKeyError\u001b[0m: 'asdfsafad'"
     ]
    }
   ],
   "source": [
    "menu['asdfsafad']"
   ]
  },
  {
   "cell_type": "code",
   "execution_count": 126,
   "id": "aab9cbcc-46a0-49b2-8544-6c6a4bfc2fc0",
   "metadata": {},
   "outputs": [
    {
     "data": {
      "text/plain": [
       "False"
      ]
     },
     "execution_count": 126,
     "metadata": {},
     "output_type": "execute_result"
    }
   ],
   "source": [
    "'asdfas' in menu"
   ]
  },
  {
   "cell_type": "code",
   "execution_count": 127,
   "id": "5c0c49d7-ba46-4f35-a4ae-fdc1d8d84b27",
   "metadata": {},
   "outputs": [
    {
     "name": "stdin",
     "output_type": "stream",
     "text": [
      "Enter order:  sandwich\n"
     ]
    },
    {
     "name": "stdout",
     "output_type": "stream",
     "text": [
      "sandwich costs 20; total is now 20\n"
     ]
    },
    {
     "name": "stdin",
     "output_type": "stream",
     "text": [
      "Enter order:  tea\n"
     ]
    },
    {
     "name": "stdout",
     "output_type": "stream",
     "text": [
      "tea costs 8; total is now 28\n"
     ]
    },
    {
     "name": "stdin",
     "output_type": "stream",
     "text": [
      "Enter order:  apple\n"
     ]
    },
    {
     "name": "stdout",
     "output_type": "stream",
     "text": [
      "apple costs 3; total is now 31\n"
     ]
    },
    {
     "name": "stdin",
     "output_type": "stream",
     "text": [
      "Enter order:  asdfasfasf\n"
     ]
    },
    {
     "name": "stdout",
     "output_type": "stream",
     "text": [
      "We are out of asdfasfasf today!\n"
     ]
    },
    {
     "name": "stdin",
     "output_type": "stream",
     "text": [
      "Enter order:  \n"
     ]
    },
    {
     "name": "stdout",
     "output_type": "stream",
     "text": [
      "31\n"
     ]
    }
   ],
   "source": [
    "menu = {'sandwich': 20, 'tea': 8, 'cake': 10, 'apple': 3}\n",
    "total = 0\n",
    "\n",
    "while True:\n",
    "    order = input('Enter order: ').strip()\n",
    "\n",
    "    if not order:\n",
    "        break\n",
    "\n",
    "    if order in menu:\n",
    "        price = menu[order]\n",
    "        total += price\n",
    "        print(f'{order} costs {price}; total is now {total}')\n",
    "    else:\n",
    "        print(f'We are out of {order} today!')\n",
    "\n",
    "print(total)"
   ]
  },
  {
   "cell_type": "code",
   "execution_count": 128,
   "id": "c1615123-069d-4864-b749-422912234601",
   "metadata": {},
   "outputs": [
    {
     "data": {
      "text/plain": [
       "{'a': 20, 'b': 20, 'c': 30}"
      ]
     },
     "execution_count": 128,
     "metadata": {},
     "output_type": "execute_result"
    }
   ],
   "source": [
    "d = {'a':10, 'b':20, 'c':30}\n",
    "\n",
    "# change the values\n",
    "d['a'] = 20\n",
    "d"
   ]
  },
  {
   "cell_type": "code",
   "execution_count": 129,
   "id": "0532feca-8a1a-4765-a38a-2724630a27a3",
   "metadata": {},
   "outputs": [
    {
     "data": {
      "text/plain": [
       "{'a': 23, 'b': 20, 'c': 30}"
      ]
     },
     "execution_count": 129,
     "metadata": {},
     "output_type": "execute_result"
    }
   ],
   "source": [
    "d['a'] += 3\n",
    "d"
   ]
  },
  {
   "cell_type": "code",
   "execution_count": 130,
   "id": "ee6b7b66-679e-434b-860a-2e1dfacd029a",
   "metadata": {},
   "outputs": [
    {
     "data": {
      "text/plain": [
       "{'a': 23, 'b': 20, 'c': 30, 'x': 100}"
      ]
     },
     "execution_count": 130,
     "metadata": {},
     "output_type": "execute_result"
    }
   ],
   "source": [
    "# add a new pair\n",
    "\n",
    "d['x'] = 100\n",
    "d"
   ]
  },
  {
   "cell_type": "code",
   "execution_count": 131,
   "id": "76d3737d-5856-4ac1-87bc-a6c1fd434985",
   "metadata": {},
   "outputs": [
    {
     "data": {
      "text/plain": [
       "100"
      ]
     },
     "execution_count": 131,
     "metadata": {},
     "output_type": "execute_result"
    }
   ],
   "source": [
    "# remove a pair\n",
    "# use dict.pop \n",
    "\n",
    "d.pop('x')"
   ]
  },
  {
   "cell_type": "code",
   "execution_count": 132,
   "id": "7db88d49-0c0a-430a-9ff2-79297620ab71",
   "metadata": {},
   "outputs": [
    {
     "data": {
      "text/plain": [
       "{'a': 23, 'b': 20, 'c': 30}"
      ]
     },
     "execution_count": 132,
     "metadata": {},
     "output_type": "execute_result"
    }
   ],
   "source": [
    "d"
   ]
  },
  {
   "cell_type": "code",
   "execution_count": 133,
   "id": "f3397534-a012-4cdb-aff4-ec9b7663d8e2",
   "metadata": {},
   "outputs": [
    {
     "name": "stdout",
     "output_type": "stream",
     "text": [
      "{'t': 5, 'h': 2, 'i': 3, 's': 4, ' ': 5, 'a': 2, 'e': 3, 'r': 2, 'n': 1, 'g': 1, '.': 3, 'w': 1, 'v': 1}\n"
     ]
    }
   ],
   "source": [
    "# count the occurrences of characters\n",
    "\n",
    "counts = {}\n",
    "\n",
    "s = 'this is a test string... whatever'\n",
    "\n",
    "for one_character in s:\n",
    "    if one_character in counts:\n",
    "        counts[one_character] += 1\n",
    "    else:\n",
    "        counts[one_character] = 1\n",
    "\n",
    "print(counts)"
   ]
  },
  {
   "cell_type": "markdown",
   "id": "50e84310-9cc6-4b3b-9afc-b58cff26ee68",
   "metadata": {},
   "source": [
    "# Exercise: Rainfall\n",
    "\n",
    "1. Start with `rainfall`, an empty dict. The keys will be strings (city names), and the values will be integers (quantity of rain that fell in each city).\n",
    "2. Ask the user repeatedly to enter the name of a city\n",
    "    - If we get an empty name, stop asking\n",
    "3. Ask the user how much rain fell in that city\n",
    "4. If this is the first time for a city, assign that key-value pair\n",
    "5. If this is *not* the first time for a city, add to the existing value\n",
    "6. Print the dict, `rainfall`, in the end\n",
    "\n",
    "Example:\n",
    "\n",
    "    City: Tel Aviv\n",
    "    Rain: 5\n",
    "    City: Jerusalem\n",
    "    Rain: 4\n",
    "    City: Tel Aviv\n",
    "    Rain: 1\n",
    "    City: [ENTER]\n",
    "\n",
    "    {'Tel Aviv':6, 'Jerusalem':4}"
   ]
  },
  {
   "cell_type": "code",
   "execution_count": 134,
   "id": "c9cb73d4-a913-4eab-955a-d24c5d96c690",
   "metadata": {},
   "outputs": [
    {
     "name": "stdin",
     "output_type": "stream",
     "text": [
      "Enter city:  a\n",
      "Rain:  5\n",
      "Enter city:  b\n",
      "Rain:  4\n",
      "Enter city:  a\n",
      "Rain:  3\n",
      "Enter city:  \n"
     ]
    },
    {
     "name": "stdout",
     "output_type": "stream",
     "text": [
      "{'a': 8, 'b': 4}\n"
     ]
    }
   ],
   "source": [
    "rainfall = {}\n",
    "\n",
    "while True:\n",
    "    city_name = input('Enter city: ').strip()\n",
    "\n",
    "    if not city_name:\n",
    "        break\n",
    "\n",
    "    mm_rain = input('Rain: ').strip()\n",
    "    mm_rain = int(mm_rain)\n",
    "\n",
    "    if city_name in rainfall:\n",
    "        rainfall[city_name] += mm_rain\n",
    "    else:\n",
    "        rainfall[city_name] = mm_rain\n",
    "\n",
    "print(rainfall)"
   ]
  },
  {
   "cell_type": "code",
   "execution_count": 135,
   "id": "5d707c15-5d82-4483-9c48-c4a15b388f5a",
   "metadata": {},
   "outputs": [
    {
     "name": "stdout",
     "output_type": "stream",
     "text": [
      "a\n",
      "b\n"
     ]
    }
   ],
   "source": [
    "# for loop on our dict -- we get the keys!\n",
    "\n",
    "for one_item in rainfall:\n",
    "    print(one_item)"
   ]
  },
  {
   "cell_type": "code",
   "execution_count": 136,
   "id": "f2fb86a3-4f53-4bfe-9ae4-0de73d2b371a",
   "metadata": {},
   "outputs": [
    {
     "data": {
      "text/plain": [
       "{'a': 8, 'b': 4}"
      ]
     },
     "execution_count": 136,
     "metadata": {},
     "output_type": "execute_result"
    }
   ],
   "source": [
    "rainfall"
   ]
  },
  {
   "cell_type": "code",
   "execution_count": 137,
   "id": "a00a299a-8c95-4257-9d7c-a503d9f95fe4",
   "metadata": {},
   "outputs": [
    {
     "name": "stdout",
     "output_type": "stream",
     "text": [
      "a: 8\n",
      "b: 4\n"
     ]
    }
   ],
   "source": [
    "# what if we want to print the keys and values? \n",
    "\n",
    "for key in rainfall:\n",
    "    print(f'{key}: {rainfall[key]}')"
   ]
  },
  {
   "cell_type": "code",
   "execution_count": 138,
   "id": "50414929-9ed1-4f78-868d-7168e7fbd000",
   "metadata": {},
   "outputs": [
    {
     "name": "stdout",
     "output_type": "stream",
     "text": [
      "a: 8\n",
      "b: 4\n"
     ]
    }
   ],
   "source": [
    "# don't use the dict.keys method for iterating! It isn't use \n",
    "\n",
    "for key in rainfall.keys():\n",
    "    print(f'{key}: {rainfall[key]}')"
   ]
  },
  {
   "cell_type": "code",
   "execution_count": 139,
   "id": "18ba26ea-5b73-4f02-9920-ed9ff6c32e3a",
   "metadata": {},
   "outputs": [
    {
     "name": "stdout",
     "output_type": "stream",
     "text": [
      "8\n",
      "4\n"
     ]
    }
   ],
   "source": [
    "# dict.values() returns the values\n",
    "\n",
    "for one_value in rainfall.values():\n",
    "    print(one_value)"
   ]
  },
  {
   "cell_type": "code",
   "execution_count": 140,
   "id": "1c74ac03-7e2c-4342-8584-0ed2eae0e42f",
   "metadata": {},
   "outputs": [
    {
     "name": "stdout",
     "output_type": "stream",
     "text": [
      "a: 8\n",
      "b: 4\n"
     ]
    }
   ],
   "source": [
    "# I like to use dict.items()\n",
    "# we get a (key, value) tuple with each iteration\n",
    "\n",
    "for key, value in rainfall.items():\n",
    "    print(f'{key}: {value}')"
   ]
  },
  {
   "cell_type": "code",
   "execution_count": 141,
   "id": "fcb4bdf5-312b-45f0-8f28-908e481ac854",
   "metadata": {},
   "outputs": [
    {
     "name": "stdout",
     "output_type": "stream",
     "text": [
      "one_tuple=('a', 8)\n",
      "one_tuple=('b', 4)\n"
     ]
    }
   ],
   "source": [
    "for one_tuple in rainfall.items():\n",
    "    print(f'{one_tuple=}')"
   ]
  },
  {
   "cell_type": "code",
   "execution_count": 142,
   "id": "0b0ad7a4-c624-4126-b004-d7704b47c9d8",
   "metadata": {},
   "outputs": [],
   "source": [
    "d =  {}\n",
    "\n",
    "d['a'] = 10"
   ]
  },
  {
   "cell_type": "code",
   "execution_count": 143,
   "id": "3734bcaf-2da8-4ef7-81c7-e155b82e1d98",
   "metadata": {},
   "outputs": [
    {
     "data": {
      "text/plain": [
       "-6634252489676546573"
      ]
     },
     "execution_count": 143,
     "metadata": {},
     "output_type": "execute_result"
    }
   ],
   "source": [
    "# hash function -- \n",
    "\n",
    "hash('a')"
   ]
  },
  {
   "cell_type": "code",
   "execution_count": 144,
   "id": "93acfa71-4dc0-41fd-924b-dd575dd4aef1",
   "metadata": {},
   "outputs": [
    {
     "data": {
      "text/plain": [
       "1381760747728221541"
      ]
     },
     "execution_count": 144,
     "metadata": {},
     "output_type": "execute_result"
    }
   ],
   "source": [
    "hash('b')"
   ]
  },
  {
   "cell_type": "code",
   "execution_count": 145,
   "id": "8203bcd7-795b-47f3-a4dd-3b7d24cd7afa",
   "metadata": {},
   "outputs": [
    {
     "data": {
      "text/plain": [
       "-5935722814755332875"
      ]
     },
     "execution_count": 145,
     "metadata": {},
     "output_type": "execute_result"
    }
   ],
   "source": [
    "hash('c')"
   ]
  },
  {
   "cell_type": "markdown",
   "id": "588f09ac-0ab5-495a-9de9-de61a653aff0",
   "metadata": {},
   "source": [
    "Python source code: https://github.com/python/cpython"
   ]
  },
  {
   "cell_type": "markdown",
   "id": "f21e0cae-3250-4502-a003-e190b33f2459",
   "metadata": {},
   "source": [
    "# Set\n",
    "\n"
   ]
  },
  {
   "cell_type": "code",
   "execution_count": 146,
   "id": "3912347b-092b-4848-8354-c917f64b7d0c",
   "metadata": {},
   "outputs": [
    {
     "data": {
      "text/plain": [
       "set"
      ]
     },
     "execution_count": 146,
     "metadata": {},
     "output_type": "execute_result"
    }
   ],
   "source": [
    "s = {10, 20, 30, 40, 50}\n",
    "\n",
    "type(s)"
   ]
  },
  {
   "cell_type": "code",
   "execution_count": 147,
   "id": "6d51f30a-cf62-46a2-9fa3-450a039b51fb",
   "metadata": {},
   "outputs": [
    {
     "data": {
      "text/plain": [
       "dict"
      ]
     },
     "execution_count": 147,
     "metadata": {},
     "output_type": "execute_result"
    }
   ],
   "source": [
    "s = {}   # empty curly braces == dict!\n",
    "type(s)"
   ]
  },
  {
   "cell_type": "code",
   "execution_count": 148,
   "id": "f13706e8-6834-403e-8fc5-6077fda2f19b",
   "metadata": {},
   "outputs": [
    {
     "data": {
      "text/plain": [
       "set"
      ]
     },
     "execution_count": 148,
     "metadata": {},
     "output_type": "execute_result"
    }
   ],
   "source": [
    "s = set()   # if you want an empty set, use set()\n",
    "type(s)"
   ]
  },
  {
   "cell_type": "code",
   "execution_count": 149,
   "id": "6c971ef9-8e73-47c8-b413-e1ed8f3e9e7a",
   "metadata": {},
   "outputs": [
    {
     "data": {
      "text/plain": [
       "{10, 20, 30, 40}"
      ]
     },
     "execution_count": 149,
     "metadata": {},
     "output_type": "execute_result"
    }
   ],
   "source": [
    "s = {10, 20, 30, 10, 20, 30, 10,20, 30, 40}\n",
    "s"
   ]
  },
  {
   "cell_type": "code",
   "execution_count": 150,
   "id": "f9840344-f35a-4f47-a14e-08d26d1ffaaa",
   "metadata": {},
   "outputs": [
    {
     "data": {
      "text/plain": [
       "True"
      ]
     },
     "execution_count": 150,
     "metadata": {},
     "output_type": "execute_result"
    }
   ],
   "source": [
    "30 in s"
   ]
  },
  {
   "cell_type": "code",
   "execution_count": 151,
   "id": "a989d90a-4cc3-41c2-a495-0a0d6fecf960",
   "metadata": {},
   "outputs": [
    {
     "data": {
      "text/plain": [
       "False"
      ]
     },
     "execution_count": 151,
     "metadata": {},
     "output_type": "execute_result"
    }
   ],
   "source": [
    "100 in s"
   ]
  },
  {
   "cell_type": "code",
   "execution_count": 152,
   "id": "95e0c811-bad9-450f-88e0-78f570ca14af",
   "metadata": {},
   "outputs": [
    {
     "ename": "TypeError",
     "evalue": "'set' object is not subscriptable",
     "output_type": "error",
     "traceback": [
      "\u001b[0;31m---------------------------------------------------------------------------\u001b[0m",
      "\u001b[0;31mTypeError\u001b[0m                                 Traceback (most recent call last)",
      "Cell \u001b[0;32mIn[152], line 1\u001b[0m\n\u001b[0;32m----> 1\u001b[0m \u001b[43ms\u001b[49m\u001b[43m[\u001b[49m\u001b[38;5;241;43m0\u001b[39;49m\u001b[43m]\u001b[49m\n",
      "\u001b[0;31mTypeError\u001b[0m: 'set' object is not subscriptable"
     ]
    }
   ],
   "source": [
    "s[0]"
   ]
  },
  {
   "cell_type": "code",
   "execution_count": 153,
   "id": "212a5a19-f6af-4de1-b0e7-b29201c3a249",
   "metadata": {},
   "outputs": [
    {
     "data": {
      "text/plain": [
       "[40, 10, 20, 30]"
      ]
     },
     "execution_count": 153,
     "metadata": {},
     "output_type": "execute_result"
    }
   ],
   "source": [
    "list(s)"
   ]
  },
  {
   "cell_type": "code",
   "execution_count": 154,
   "id": "7a0b76e4-ab66-4626-ab02-8aff60343043",
   "metadata": {},
   "outputs": [
    {
     "data": {
      "text/plain": [
       "{10, 20, 30, 40, 100}"
      ]
     },
     "execution_count": 154,
     "metadata": {},
     "output_type": "execute_result"
    }
   ],
   "source": [
    "s.add(100)\n",
    "s"
   ]
  },
  {
   "cell_type": "code",
   "execution_count": 156,
   "id": "5badcaa9-7766-43ca-8412-aa164991959e",
   "metadata": {},
   "outputs": [
    {
     "data": {
      "text/plain": [
       "{10, 20, 30, 40, 100}"
      ]
     },
     "execution_count": 156,
     "metadata": {},
     "output_type": "execute_result"
    }
   ],
   "source": [
    "s.add(100)\n",
    "s.add(100)\n",
    "s\n"
   ]
  },
  {
   "cell_type": "code",
   "execution_count": 157,
   "id": "4cebb88e-008f-4357-8e3a-659ae93c9bbb",
   "metadata": {},
   "outputs": [
    {
     "data": {
      "text/plain": [
       "{10, 20, 30, 40}"
      ]
     },
     "execution_count": 157,
     "metadata": {},
     "output_type": "execute_result"
    }
   ],
   "source": [
    "s.remove(100)\n",
    "s"
   ]
  },
  {
   "cell_type": "code",
   "execution_count": 158,
   "id": "0cdb174f-2663-40be-9dbe-0847f487f235",
   "metadata": {},
   "outputs": [
    {
     "data": {
      "text/plain": [
       "True"
      ]
     },
     "execution_count": 158,
     "metadata": {},
     "output_type": "execute_result"
    }
   ],
   "source": [
    "s2 = {10, 20}\n",
    "\n",
    "s2 < s   # subset"
   ]
  },
  {
   "cell_type": "code",
   "execution_count": 160,
   "id": "8f54fc8f-dcc6-4b7b-8bb9-9c06a3b8ad79",
   "metadata": {},
   "outputs": [
    {
     "data": {
      "text/plain": [
       "{30, 40}"
      ]
     },
     "execution_count": 160,
     "metadata": {},
     "output_type": "execute_result"
    }
   ],
   "source": [
    "s1 = {10, 20, 30, 40}\n",
    "s2 = {30, 40, 50, 60}\n",
    "\n",
    "s1 & s2    # intersection"
   ]
  },
  {
   "cell_type": "code",
   "execution_count": 162,
   "id": "e894028e-d0fa-4b75-b8fb-50969433bbd2",
   "metadata": {},
   "outputs": [
    {
     "data": {
      "text/plain": [
       "{10, 20, 30, 40, 50, 60}"
      ]
     },
     "execution_count": 162,
     "metadata": {},
     "output_type": "execute_result"
    }
   ],
   "source": [
    "s1 | s2    # union"
   ]
  },
  {
   "cell_type": "code",
   "execution_count": 163,
   "id": "26508316-832b-42e4-a63d-c25fe8ee13eb",
   "metadata": {},
   "outputs": [
    {
     "data": {
      "text/plain": [
       "{10, 20}"
      ]
     },
     "execution_count": 163,
     "metadata": {},
     "output_type": "execute_result"
    }
   ],
   "source": [
    "s1 - s2"
   ]
  },
  {
   "cell_type": "code",
   "execution_count": 164,
   "id": "3d16dbef-2db2-4459-9738-01c9c5b1b208",
   "metadata": {},
   "outputs": [
    {
     "data": {
      "text/plain": [
       "{50, 60}"
      ]
     },
     "execution_count": 164,
     "metadata": {},
     "output_type": "execute_result"
    }
   ],
   "source": [
    "s2 - s1 "
   ]
  },
  {
   "cell_type": "code",
   "execution_count": 165,
   "id": "b9274f79-0602-44b8-a937-2b822fb364a8",
   "metadata": {},
   "outputs": [
    {
     "data": {
      "text/plain": [
       "{10, 20, 50, 60}"
      ]
     },
     "execution_count": 165,
     "metadata": {},
     "output_type": "execute_result"
    }
   ],
   "source": [
    "s1 ^ s2 "
   ]
  },
  {
   "cell_type": "code",
   "execution_count": 167,
   "id": "fb4a882f-68dd-4028-80ab-b4bbe27a64ad",
   "metadata": {},
   "outputs": [
    {
     "data": {
      "text/plain": [
       "{'e', 'i'}"
      ]
     },
     "execution_count": 167,
     "metadata": {},
     "output_type": "execute_result"
    }
   ],
   "source": [
    "# what vowels are in the word?\n",
    "\n",
    "vowels = set('aeiou')\n",
    "word = 'testing'\n",
    "\n",
    "vowels & set(word)"
   ]
  },
  {
   "cell_type": "markdown",
   "id": "49d2050e-1c69-4cc4-8959-b622916eae60",
   "metadata": {},
   "source": [
    "# Files\n",
    "\n",
    "To work with a file, I need a \"file object,\" which I get via the `open` function.  I pass `open` a filename/path and (optionally) whether I want to read or write, and I get a file object back. \n",
    "\n"
   ]
  },
  {
   "cell_type": "code",
   "execution_count": 169,
   "id": "a97a233c-7b0a-4f5d-ad9d-02eb2b061629",
   "metadata": {},
   "outputs": [],
   "source": [
    "f = open('/etc/passwd')  # file is open for reading"
   ]
  },
  {
   "cell_type": "code",
   "execution_count": 170,
   "id": "c4cfee38-6bcb-4333-8fb4-3a89a8216c4c",
   "metadata": {},
   "outputs": [
    {
     "data": {
      "text/plain": [
       "<_io.TextIOWrapper name='/etc/passwd' mode='r' encoding='UTF-8'>"
      ]
     },
     "execution_count": 170,
     "metadata": {},
     "output_type": "execute_result"
    }
   ],
   "source": [
    "f"
   ]
  },
  {
   "cell_type": "code",
   "execution_count": 171,
   "id": "1331f0a1-5210-47b0-8770-6570862419c8",
   "metadata": {},
   "outputs": [
    {
     "data": {
      "text/plain": [
       "'##\\n# User Database\\n# \\n# Note that this file is consulted directly only when the system is running\\n# in single-user mode.  At other times this information is provided by\\n# Open Directory.\\n#\\n# See the opendirectoryd(8) man page for additional information about\\n# Open Directory.\\n##\\nnobody:*:-2:-2:Unprivileged User:/var/empty:/usr/bin/false\\nroot:*:0:0:System Administrator:/var/root:/bin/sh\\ndaemon:*:1:1:System Services:/var/root:/usr/bin/false\\n_uucp:*:4:4:Unix to Unix Copy Protocol:/var/spool/uucp:/usr/sbin/uucico\\n_taskgated:*:13:13:Task Gate Daemon:/var/empty:/usr/bin/false\\n_networkd:*:24:24:Network Services:/var/networkd:/usr/bin/false\\n_installassistant:*:25:25:Install Assistant:/var/empty:/usr/bin/false\\n_lp:*:26:26:Printing Services:/var/spool/cups:/usr/bin/false\\n_postfix:*:27:27:Postfix Mail Server:/var/spool/postfix:/usr/bin/false\\n_scsd:*:31:31:Service Configuration Service:/var/empty:/usr/bin/false\\n_ces:*:32:32:Certificate Enrollment Service:/var/empty:/usr/bin/false\\n_appstore:*:33:33:Mac App Store Service:/var/db/appstore:/usr/bin/false\\n_mcxalr:*:54:54:MCX AppLaunch:/var/empty:/usr/bin/false\\n_appleevents:*:55:55:AppleEvents Daemon:/var/empty:/usr/bin/false\\n_geod:*:56:56:Geo Services Daemon:/var/db/geod:/usr/bin/false\\n_devdocs:*:59:59:Developer Documentation:/var/empty:/usr/bin/false\\n_sandbox:*:60:60:Seatbelt:/var/empty:/usr/bin/false\\n_mdnsresponder:*:65:65:mDNSResponder:/var/empty:/usr/bin/false\\n_ard:*:67:67:Apple Remote Desktop:/var/empty:/usr/bin/false\\n_www:*:70:70:World Wide Web Server:/Library/WebServer:/usr/bin/false\\n_eppc:*:71:71:Apple Events User:/var/empty:/usr/bin/false\\n_cvs:*:72:72:CVS Server:/var/empty:/usr/bin/false\\n_svn:*:73:73:SVN Server:/var/empty:/usr/bin/false\\n_mysql:*:74:74:MySQL Server:/var/empty:/usr/bin/false\\n_sshd:*:75:75:sshd Privilege separation:/var/empty:/usr/bin/false\\n_qtss:*:76:76:QuickTime Streaming Server:/var/empty:/usr/bin/false\\n_cyrus:*:77:6:Cyrus Administrator:/var/imap:/usr/bin/false\\n_mailman:*:78:78:Mailman List Server:/var/empty:/usr/bin/false\\n_appserver:*:79:79:Application Server:/var/empty:/usr/bin/false\\n_clamav:*:82:82:ClamAV Daemon:/var/virusmails:/usr/bin/false\\n_amavisd:*:83:83:AMaViS Daemon:/var/virusmails:/usr/bin/false\\n_jabber:*:84:84:Jabber XMPP Server:/var/empty:/usr/bin/false\\n_appowner:*:87:87:Application Owner:/var/empty:/usr/bin/false\\n_windowserver:*:88:88:WindowServer:/var/empty:/usr/bin/false\\n_spotlight:*:89:89:Spotlight:/var/empty:/usr/bin/false\\n_tokend:*:91:91:Token Daemon:/var/empty:/usr/bin/false\\n_securityagent:*:92:92:SecurityAgent:/var/db/securityagent:/usr/bin/false\\n_calendar:*:93:93:Calendar:/var/empty:/usr/bin/false\\n_teamsserver:*:94:94:TeamsServer:/var/teamsserver:/usr/bin/false\\n_update_sharing:*:95:-2:Update Sharing:/var/empty:/usr/bin/false\\n_installer:*:96:-2:Installer:/var/empty:/usr/bin/false\\n_atsserver:*:97:97:ATS Server:/var/empty:/usr/bin/false\\n_ftp:*:98:-2:FTP Daemon:/var/empty:/usr/bin/false\\n_unknown:*:99:99:Unknown User:/var/empty:/usr/bin/false\\n_softwareupdate:*:200:200:Software Update Service:/var/db/softwareupdate:/usr/bin/false\\n_coreaudiod:*:202:202:Core Audio Daemon:/var/empty:/usr/bin/false\\n_screensaver:*:203:203:Screensaver:/var/empty:/usr/bin/false\\n_locationd:*:205:205:Location Daemon:/var/db/locationd:/usr/bin/false\\n_trustevaluationagent:*:208:208:Trust Evaluation Agent:/var/empty:/usr/bin/false\\n_timezone:*:210:210:AutoTimeZoneDaemon:/var/empty:/usr/bin/false\\n_lda:*:211:211:Local Delivery Agent:/var/empty:/usr/bin/false\\n_cvmsroot:*:212:212:CVMS Root:/var/empty:/usr/bin/false\\n_usbmuxd:*:213:213:iPhone OS Device Helper:/var/db/lockdown:/usr/bin/false\\n_dovecot:*:214:6:Dovecot Administrator:/var/empty:/usr/bin/false\\n_dpaudio:*:215:215:DP Audio:/var/empty:/usr/bin/false\\n_postgres:*:216:216:PostgreSQL Server:/var/empty:/usr/bin/false\\n_krbtgt:*:217:-2:Kerberos Ticket Granting Ticket:/var/empty:/usr/bin/false\\n_kadmin_admin:*:218:-2:Kerberos Admin Service:/var/empty:/usr/bin/false\\n_kadmin_changepw:*:219:-2:Kerberos Change Password Service:/var/empty:/usr/bin/false\\n_devicemgr:*:220:220:Device Management Server:/var/empty:/usr/bin/false\\n_webauthserver:*:221:221:Web Auth Server:/var/empty:/usr/bin/false\\n_netbios:*:222:222:NetBIOS:/var/empty:/usr/bin/false\\n_warmd:*:224:224:Warm Daemon:/var/empty:/usr/bin/false\\n_dovenull:*:227:227:Dovecot Authentication:/var/empty:/usr/bin/false\\n_netstatistics:*:228:228:Network Statistics Daemon:/var/empty:/usr/bin/false\\n_avbdeviced:*:229:-2:Ethernet AVB Device Daemon:/var/empty:/usr/bin/false\\n_krb_krbtgt:*:230:-2:Open Directory Kerberos Ticket Granting Ticket:/var/empty:/usr/bin/false\\n_krb_kadmin:*:231:-2:Open Directory Kerberos Admin Service:/var/empty:/usr/bin/false\\n_krb_changepw:*:232:-2:Open Directory Kerberos Change Password Service:/var/empty:/usr/bin/false\\n_krb_kerberos:*:233:-2:Open Directory Kerberos:/var/empty:/usr/bin/false\\n_krb_anonymous:*:234:-2:Open Directory Kerberos Anonymous:/var/empty:/usr/bin/false\\n_assetcache:*:235:235:Asset Cache Service:/var/empty:/usr/bin/false\\n_coremediaiod:*:236:236:Core Media IO Daemon:/var/empty:/usr/bin/false\\n_launchservicesd:*:239:239:_launchservicesd:/var/empty:/usr/bin/false\\n_iconservices:*:240:240:IconServices:/var/empty:/usr/bin/false\\n_distnote:*:241:241:DistNote:/var/empty:/usr/bin/false\\n_nsurlsessiond:*:242:242:NSURLSession Daemon:/var/db/nsurlsessiond:/usr/bin/false\\n_displaypolicyd:*:244:244:Display Policy Daemon:/var/empty:/usr/bin/false\\n_astris:*:245:245:Astris Services:/var/db/astris:/usr/bin/false\\n_krbfast:*:246:-2:Kerberos FAST Account:/var/empty:/usr/bin/false\\n_gamecontrollerd:*:247:247:Game Controller Daemon:/var/empty:/usr/bin/false\\n_mbsetupuser:*:248:248:Setup User:/var/setup:/bin/bash\\n_ondemand:*:249:249:On Demand Resource Daemon:/var/db/ondemand:/usr/bin/false\\n_xserverdocs:*:251:251:macOS Server Documents Service:/var/empty:/usr/bin/false\\n_wwwproxy:*:252:252:WWW Proxy:/var/empty:/usr/bin/false\\n_mobileasset:*:253:253:MobileAsset User:/var/ma:/usr/bin/false\\n_findmydevice:*:254:254:Find My Device Daemon:/var/db/findmydevice:/usr/bin/false\\n_datadetectors:*:257:257:DataDetectors:/var/db/datadetectors:/usr/bin/false\\n_captiveagent:*:258:258:captiveagent:/var/empty:/usr/bin/false\\n_ctkd:*:259:259:ctkd Account:/var/empty:/usr/bin/false\\n_applepay:*:260:260:applepay Account:/var/db/applepay:/usr/bin/false\\n_hidd:*:261:261:HID Service User:/var/db/hidd:/usr/bin/false\\n_cmiodalassistants:*:262:262:CoreMedia IO Assistants User:/var/db/cmiodalassistants:/usr/bin/false\\n_analyticsd:*:263:263:Analytics Daemon:/var/db/analyticsd:/usr/bin/false\\n_fpsd:*:265:265:FPS Daemon:/var/db/fpsd:/usr/bin/false\\n_timed:*:266:266:Time Sync Daemon:/var/db/timed:/usr/bin/false\\n_nearbyd:*:268:268:Proximity and Ranging Daemon:/var/db/nearbyd:/usr/bin/false\\n_reportmemoryexception:*:269:269:ReportMemoryException:/var/db/reportmemoryexception:/usr/bin/false\\n_driverkit:*:270:270:DriverKit:/var/empty:/usr/bin/false\\n_diskimagesiod:*:271:271:DiskImages IO Daemon:/var/db/diskimagesiod:/usr/bin/false\\n_logd:*:272:272:Log Daemon:/var/db/diagnostics:/usr/bin/false\\n_appinstalld:*:273:273:App Install Daemon:/var/db/appinstalld:/usr/bin/false\\n_installcoordinationd:*:274:274:Install Coordination Daemon:/var/db/installcoordinationd:/usr/bin/false\\n_demod:*:275:275:Demo Daemon:/var/empty:/usr/bin/false\\n_rmd:*:277:277:Remote Management Daemon:/var/db/rmd:/usr/bin/false\\n_accessoryupdater:*:278:278:Accessory Update Daemon:/var/db/accessoryupdater:/usr/bin/false\\n_knowledgegraphd:*:279:279:Knowledge Graph Daemon:/var/db/knowledgegraphd:/usr/bin/false\\n_coreml:*:280:280:CoreML Services:/var/db/coreml:/usr/bin/false\\n_sntpd:*:281:281:SNTP Server Daemon:/var/empty:/usr/bin/false\\n_trustd:*:282:282:trustd:/var/empty:/usr/bin/false\\n_mmaintenanced:*:283:283:mmaintenanced:/var/db/mmaintenanced:/usr/bin/false\\n_darwindaemon:*:284:284:Darwin Daemon:/var/db/darwindaemon:/usr/bin/false\\n_notification_proxy:*:285:285:Notification Proxy:/var/empty:/usr/bin/false\\n_avphidbridge:*:288:288:Apple Virtual Platform HID Bridge:/var/empty:/usr/bin/false\\n_biome:*:289:289:Biome:/var/db/biome:/usr/bin/false\\n_backgroundassets:*:291:291:Background Assets Service:/var/empty:/usr/bin/false\\n_mobilegestalthelper:*:293:293:MobileGestaltHelper:/var/empty:/usr/bin/false\\n_audiomxd:*:294:294:Audio and MediaExperience Daemon:/var/db/audiomxd:/usr/bin/false\\n_terminusd:*:295:295:Terminus:/var/db/terminus:/usr/bin/false\\n_neuralengine:*:296:296:AppleNeuralEngine:/var/db/neuralengine:/usr/bin/false\\n_eligibilityd:*:297:297:OS Eligibility Daemon:/var/db/eligibilityd:/usr/bin/false\\n_systemstatusd:*:298:298:SystemStatus Services:/var/empty:/usr/bin/false\\n_aonsensed:*:300:300:Always On Sense Daemon:/var/db/aonsensed:/usr/bin/false\\n_modelmanagerd:*:301:301:Model Manager:/var/db/modelmanagerd:/usr/bin/false\\n_reportsystemmemory:*:302:302:ReportSystemMemory:/var/empty:/usr/bin/false\\n_swtransparencyd:*:303:303:Software Transparency Services:/var/db/swtransparencyd:/usr/bin/false\\n_naturallanguaged:*:304:304:Natural Language Services:/var/db/com.apple.naturallanguaged:/usr/bin/false\\n_oahd:*:441:441:OAH Daemon:/var/empty:/usr/bin/false\\n'"
      ]
     },
     "execution_count": 171,
     "metadata": {},
     "output_type": "execute_result"
    }
   ],
   "source": [
    "# we can invoke \"read\", which returns the file's contents as a string\n",
    "\n",
    "f.read()"
   ]
  },
  {
   "cell_type": "code",
   "execution_count": 172,
   "id": "b5928eb1-b284-4773-a58d-efce9ba3bc09",
   "metadata": {},
   "outputs": [
    {
     "data": {
      "text/plain": [
       "''"
      ]
     },
     "execution_count": 172,
     "metadata": {},
     "output_type": "execute_result"
    }
   ],
   "source": [
    "f.read()"
   ]
  },
  {
   "cell_type": "code",
   "execution_count": 173,
   "id": "fa04aff1-ff8d-412e-ba34-344d9122f6c3",
   "metadata": {},
   "outputs": [
    {
     "data": {
      "text/plain": [
       "'##\\n# User Database\\n# \\n# Note that this file is consulted directly only when the system is running\\n# '"
      ]
     },
     "execution_count": 173,
     "metadata": {},
     "output_type": "execute_result"
    }
   ],
   "source": [
    "f = open('/etc/passwd')\n",
    "f.read(100)"
   ]
  },
  {
   "cell_type": "code",
   "execution_count": 174,
   "id": "c3144e1c-485e-4d09-bcf1-c56601d9ce2f",
   "metadata": {},
   "outputs": [
    {
     "data": {
      "text/plain": [
       "'in single-user mode.  At other times this information is provided by\\n# Open Directory.\\n#\\n# See the o'"
      ]
     },
     "execution_count": 174,
     "metadata": {},
     "output_type": "execute_result"
    }
   ],
   "source": [
    "f.read(100)"
   ]
  },
  {
   "cell_type": "code",
   "execution_count": null,
   "id": "de18d5c4-91b8-4c9c-8e71-a067566b0328",
   "metadata": {},
   "outputs": [],
   "source": []
  }
 ],
 "metadata": {
  "kernelspec": {
   "display_name": "Python 3 (ipykernel)",
   "language": "python",
   "name": "python3"
  },
  "language_info": {
   "codemirror_mode": {
    "name": "ipython",
    "version": 3
   },
   "file_extension": ".py",
   "mimetype": "text/x-python",
   "name": "python",
   "nbconvert_exporter": "python",
   "pygments_lexer": "ipython3",
   "version": "3.13.0"
  },
  "widgets": {
   "application/vnd.jupyter.widget-state+json": {
    "state": {},
    "version_major": 2,
    "version_minor": 0
   }
  }
 },
 "nbformat": 4,
 "nbformat_minor": 5
}
