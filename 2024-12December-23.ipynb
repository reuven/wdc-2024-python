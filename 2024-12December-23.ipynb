{
 "cells": [
  {
   "cell_type": "markdown",
   "id": "4428bf78-d393-4d93-8c1d-6362024d9c87",
   "metadata": {},
   "source": [
    "# Agenda\n",
    "\n",
    "1. Functions\n",
    "3. List comprehensions\n",
    "4. Sorting and function arguments"
   ]
  },
  {
   "cell_type": "markdown",
   "id": "0ecb95b6-6b06-4ee5-ae70-815b20596367",
   "metadata": {},
   "source": [
    "# DRY -- don't repeat yourself\n",
    "\n"
   ]
  },
  {
   "cell_type": "code",
   "execution_count": 1,
   "id": "314aaee4-6186-4c85-a31d-2edb95f4e1ec",
   "metadata": {},
   "outputs": [],
   "source": [
    "# def -- start of definition\n",
    "# name of the function\n",
    "# parameters inside of ()\n",
    "# : at the end of the line\n",
    "# function body, indented\n",
    "\n",
    "def hello():\n",
    "    print('Hello!')"
   ]
  },
  {
   "cell_type": "code",
   "execution_count": null,
   "id": "6937151e-db58-4cc0-8b90-698624e8f8e5",
   "metadata": {},
   "outputs": [],
   "source": []
  }
 ],
 "metadata": {
  "kernelspec": {
   "display_name": "Python 3 (ipykernel)",
   "language": "python",
   "name": "python3"
  },
  "language_info": {
   "codemirror_mode": {
    "name": "ipython",
    "version": 3
   },
   "file_extension": ".py",
   "mimetype": "text/x-python",
   "name": "python",
   "nbconvert_exporter": "python",
   "pygments_lexer": "ipython3",
   "version": "3.13.0"
  },
  "widgets": {
   "application/vnd.jupyter.widget-state+json": {
    "state": {},
    "version_major": 2,
    "version_minor": 0
   }
  }
 },
 "nbformat": 4,
 "nbformat_minor": 5
}
