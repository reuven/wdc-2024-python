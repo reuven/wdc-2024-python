{
 "cells": [
  {
   "cell_type": "markdown",
   "id": "015267ce-ca25-4d3c-b75d-c5c9cb862813",
   "metadata": {},
   "source": [
    "# Agenda\n",
    "\n",
    "- List\n",
    "- Strings to lists, and back\n",
    "- Tuples\n",
    "- Dictionaries\n",
    "- Files"
   ]
  },
  {
   "cell_type": "code",
   "execution_count": null,
   "id": "2826df6e-b5ea-4546-bb8f-05af80df7c3e",
   "metadata": {},
   "outputs": [],
   "source": []
  }
 ],
 "metadata": {
  "kernelspec": {
   "display_name": "Python 3 (ipykernel)",
   "language": "python",
   "name": "python3"
  },
  "language_info": {
   "codemirror_mode": {
    "name": "ipython",
    "version": 3
   },
   "file_extension": ".py",
   "mimetype": "text/x-python",
   "name": "python",
   "nbconvert_exporter": "python",
   "pygments_lexer": "ipython3",
   "version": "3.13.0"
  },
  "widgets": {
   "application/vnd.jupyter.widget-state+json": {
    "state": {},
    "version_major": 2,
    "version_minor": 0
   }
  }
 },
 "nbformat": 4,
 "nbformat_minor": 5
}
