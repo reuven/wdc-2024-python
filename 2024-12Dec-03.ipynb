{
 "cells": [
  {
   "cell_type": "markdown",
   "id": "015267ce-ca25-4d3c-b75d-c5c9cb862813",
   "metadata": {},
   "source": [
    "# Agenda\n",
    "\n",
    "- List\n",
    "- Strings to lists, and back\n",
    "- Tuples\n",
    "- Dictionaries\n",
    "- Files"
   ]
  },
  {
   "cell_type": "code",
   "execution_count": 1,
   "id": "2826df6e-b5ea-4546-bb8f-05af80df7c3e",
   "metadata": {},
   "outputs": [
    {
     "data": {
      "text/plain": [
       "'a'"
      ]
     },
     "execution_count": 1,
     "metadata": {},
     "output_type": "execute_result"
    }
   ],
   "source": [
    "s = 'abcdefghij'\n",
    "\n",
    "s[0]"
   ]
  },
  {
   "cell_type": "code",
   "execution_count": 2,
   "id": "2f6a9aae-f876-4109-b253-b0fae0a17ad4",
   "metadata": {},
   "outputs": [
    {
     "data": {
      "text/plain": [
       "'b'"
      ]
     },
     "execution_count": 2,
     "metadata": {},
     "output_type": "execute_result"
    }
   ],
   "source": [
    "s[1]"
   ]
  },
  {
   "cell_type": "code",
   "execution_count": 3,
   "id": "10a1643c-9a8f-4491-a07a-250c320cfd5a",
   "metadata": {},
   "outputs": [
    {
     "ename": "TypeError",
     "evalue": "'str' object does not support item assignment",
     "output_type": "error",
     "traceback": [
      "\u001b[0;31m---------------------------------------------------------------------------\u001b[0m",
      "\u001b[0;31mTypeError\u001b[0m                                 Traceback (most recent call last)",
      "Cell \u001b[0;32mIn[3], line 1\u001b[0m\n\u001b[0;32m----> 1\u001b[0m \u001b[43ms\u001b[49m\u001b[43m[\u001b[49m\u001b[38;5;241;43m0\u001b[39;49m\u001b[43m]\u001b[49m \u001b[38;5;241m=\u001b[39m \u001b[38;5;124m'\u001b[39m\u001b[38;5;124m!\u001b[39m\u001b[38;5;124m'\u001b[39m\n",
      "\u001b[0;31mTypeError\u001b[0m: 'str' object does not support item assignment"
     ]
    }
   ],
   "source": [
    "s[0] = '!'"
   ]
  },
  {
   "cell_type": "markdown",
   "id": "ad2c2c90-b878-4fa9-92f0-0c2552203417",
   "metadata": {},
   "source": [
    "# Immutable"
   ]
  },
  {
   "cell_type": "markdown",
   "id": "09b7cfe9-74f1-4c32-84cf-bf6265663eff",
   "metadata": {},
   "source": [
    "# Lists\n",
    "\n",
    "Lists can contain any objects (values) that we want. We can have as many values as we want in a list.\n",
    "\n",
    "We define a list with `[]`, with `,` between items."
   ]
  },
  {
   "cell_type": "code",
   "execution_count": 4,
   "id": "335eae5b-2726-4446-9732-f9c8e1dc15d4",
   "metadata": {},
   "outputs": [
    {
     "data": {
      "text/plain": [
       "list"
      ]
     },
     "execution_count": 4,
     "metadata": {},
     "output_type": "execute_result"
    }
   ],
   "source": [
    "mylist = [10, 20, 30, 40, 50, 60, 70, 80, 90]\n",
    "\n",
    "type(mylist)"
   ]
  },
  {
   "cell_type": "code",
   "execution_count": 5,
   "id": "459cd966-ddce-421c-842f-14b9c0d8a62d",
   "metadata": {},
   "outputs": [
    {
     "data": {
      "text/plain": [
       "10"
      ]
     },
     "execution_count": 5,
     "metadata": {},
     "output_type": "execute_result"
    }
   ],
   "source": [
    "mylist[0]"
   ]
  },
  {
   "cell_type": "code",
   "execution_count": 6,
   "id": "015d133a-1602-4062-b022-8675c6f77a29",
   "metadata": {},
   "outputs": [
    {
     "data": {
      "text/plain": [
       "20"
      ]
     },
     "execution_count": 6,
     "metadata": {},
     "output_type": "execute_result"
    }
   ],
   "source": [
    "mylist[1]"
   ]
  },
  {
   "cell_type": "code",
   "execution_count": 7,
   "id": "c7774606-45d4-46a6-ad47-a8c1974661fc",
   "metadata": {},
   "outputs": [
    {
     "data": {
      "text/plain": [
       "90"
      ]
     },
     "execution_count": 7,
     "metadata": {},
     "output_type": "execute_result"
    }
   ],
   "source": [
    "mylist[-1]"
   ]
  },
  {
   "cell_type": "code",
   "execution_count": 8,
   "id": "340ffd70-36e8-4d88-a066-ec96b1a8ffdc",
   "metadata": {},
   "outputs": [
    {
     "data": {
      "text/plain": [
       "[30, 40, 50, 60, 70]"
      ]
     },
     "execution_count": 8,
     "metadata": {},
     "output_type": "execute_result"
    }
   ],
   "source": [
    "mylist[2:7]    # slice"
   ]
  },
  {
   "cell_type": "code",
   "execution_count": 9,
   "id": "3a6842ce-3387-4fff-9f7e-26e14f64696d",
   "metadata": {},
   "outputs": [
    {
     "name": "stdout",
     "output_type": "stream",
     "text": [
      "10\n",
      "20\n",
      "30\n",
      "40\n",
      "50\n",
      "60\n",
      "70\n",
      "80\n",
      "90\n"
     ]
    }
   ],
   "source": [
    "for one_item in mylist:\n",
    "    print(one_item)"
   ]
  },
  {
   "cell_type": "code",
   "execution_count": 10,
   "id": "3a6f26b2-3282-4ed9-82e5-231754765653",
   "metadata": {},
   "outputs": [
    {
     "data": {
      "text/plain": [
       "True"
      ]
     },
     "execution_count": 10,
     "metadata": {},
     "output_type": "execute_result"
    }
   ],
   "source": [
    "50 in mylist"
   ]
  },
  {
   "cell_type": "code",
   "execution_count": 11,
   "id": "5f698dbb-2789-416f-80a0-f36ab70c5e76",
   "metadata": {},
   "outputs": [
    {
     "data": {
      "text/plain": [
       "9"
      ]
     },
     "execution_count": 11,
     "metadata": {},
     "output_type": "execute_result"
    }
   ],
   "source": [
    "len(mylist)"
   ]
  },
  {
   "cell_type": "code",
   "execution_count": null,
   "id": "883be751-227a-4320-89a4-b24769a8aa2c",
   "metadata": {},
   "outputs": [],
   "source": []
  }
 ],
 "metadata": {
  "kernelspec": {
   "display_name": "Python 3 (ipykernel)",
   "language": "python",
   "name": "python3"
  },
  "language_info": {
   "codemirror_mode": {
    "name": "ipython",
    "version": 3
   },
   "file_extension": ".py",
   "mimetype": "text/x-python",
   "name": "python",
   "nbconvert_exporter": "python",
   "pygments_lexer": "ipython3",
   "version": "3.13.0"
  },
  "widgets": {
   "application/vnd.jupyter.widget-state+json": {
    "state": {},
    "version_major": 2,
    "version_minor": 0
   }
  }
 },
 "nbformat": 4,
 "nbformat_minor": 5
}
