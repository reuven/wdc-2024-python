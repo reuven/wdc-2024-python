{
 "cells": [
  {
   "cell_type": "code",
   "execution_count": 1,
   "metadata": {},
   "outputs": [
    {
     "name": "stdout",
     "output_type": "stream",
     "text": [
      "hello, world!\n"
     ]
    }
   ],
   "source": [
    "print('hello, world!')"
   ]
  },
  {
   "cell_type": "markdown",
   "metadata": {},
   "source": [
    "Go to: https://colab.research.google.com/"
   ]
  },
  {
   "cell_type": "markdown",
   "metadata": {},
   "source": [
    "# Agenda\n",
    "\n",
    "1. Fundamentals\n",
    "    - Values\n",
    "    - Assignment\n",
    "    - Comparisons\n",
    "    - `if` and `else`\n",
    "2. Data structures\n",
    "    - numbers (`int` and `float`)\n",
    "    - strings (`str`)\n",
    "    - loops (`for` and `while`)\n",
    "    - lists and tuples\n",
    "    - turning strings into lists, and back\n",
    "    - dicts and sets\n",
    "    - files\n",
    "3. Functions\n",
    "    - what is a function?\n",
    "    - writing functions\n",
    "    - arguments and parameters\n",
    "    - return values from functions\n",
    "4. List comprehensions\n",
    "5. Modules and packages\n",
    "6. Objects\n",
    "    - classes\n",
    "    - instances\n",
    "    - attributes\n",
    "    - methods\n",
    "    - inheritance\n",
    "    - magic methods\n",
    "7. Exceptions"
   ]
  },
  {
   "cell_type": "markdown",
   "metadata": {},
   "source": [
    "My notebook is at https://github.com/reuven/wdc-2024-python"
   ]
  },
  {
   "cell_type": "code",
   "execution_count": 3,
   "metadata": {},
   "outputs": [
    {
     "name": "stdout",
     "output_type": "stream",
     "text": [
      "this is some text\n"
     ]
    }
   ],
   "source": [
    "# print -- function that prints on the screen\n",
    "# all text (strings) use quotes, either single quotes ('') or double quotes (\"\")\n",
    "\n",
    "print('this is some text')"
   ]
  },
  {
   "cell_type": "code",
   "execution_count": 4,
   "metadata": {},
   "outputs": [
    {
     "name": "stdout",
     "output_type": "stream",
     "text": [
      "123\n"
     ]
    }
   ],
   "source": [
    "print(123)"
   ]
  },
  {
   "cell_type": "code",
   "execution_count": 5,
   "metadata": {},
   "outputs": [
    {
     "name": "stdout",
     "output_type": "stream",
     "text": [
      "579\n"
     ]
    }
   ],
   "source": [
    "print(123 + 456)"
   ]
  },
  {
   "cell_type": "code",
   "execution_count": null,
   "metadata": {},
   "outputs": [],
   "source": []
  }
 ],
 "metadata": {
  "kernelspec": {
   "display_name": "Python 3 (ipykernel)",
   "language": "python",
   "name": "python3"
  },
  "language_info": {
   "codemirror_mode": {
    "name": "ipython",
    "version": 3
   },
   "file_extension": ".py",
   "mimetype": "text/x-python",
   "name": "python",
   "nbconvert_exporter": "python",
   "pygments_lexer": "ipython3",
   "version": "3.13.0"
  },
  "widgets": {
   "application/vnd.jupyter.widget-state+json": {
    "state": {},
    "version_major": 2,
    "version_minor": 0
   }
  }
 },
 "nbformat": 4,
 "nbformat_minor": 4
}
