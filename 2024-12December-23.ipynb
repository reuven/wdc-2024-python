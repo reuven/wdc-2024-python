{
 "cells": [
  {
   "cell_type": "markdown",
   "id": "4428bf78-d393-4d93-8c1d-6362024d9c87",
   "metadata": {},
   "source": [
    "# Agenda\n",
    "\n",
    "1. Functions\n",
    "3. List comprehensions\n",
    "4. Sorting and function arguments"
   ]
  },
  {
   "cell_type": "markdown",
   "id": "0ecb95b6-6b06-4ee5-ae70-815b20596367",
   "metadata": {},
   "source": [
    "# DRY -- don't repeat yourself\n",
    "\n"
   ]
  },
  {
   "cell_type": "code",
   "execution_count": 1,
   "id": "314aaee4-6186-4c85-a31d-2edb95f4e1ec",
   "metadata": {},
   "outputs": [],
   "source": [
    "# def -- start of definition\n",
    "# name of the function\n",
    "# parameters inside of ()\n",
    "# : at the end of the line\n",
    "# function body, indented\n",
    "\n",
    "def hello():\n",
    "    print('Hello!')"
   ]
  },
  {
   "cell_type": "code",
   "execution_count": 2,
   "id": "6937151e-db58-4cc0-8b90-698624e8f8e5",
   "metadata": {},
   "outputs": [
    {
     "name": "stdout",
     "output_type": "stream",
     "text": [
      "Hello!\n"
     ]
    }
   ],
   "source": [
    "hello()"
   ]
  },
  {
   "cell_type": "code",
   "execution_count": 3,
   "id": "077d60d1-22ed-46ad-a3fc-514db5f962b6",
   "metadata": {},
   "outputs": [
    {
     "name": "stdout",
     "output_type": "stream",
     "text": [
      "Hello!\n",
      "Hello!\n",
      "Hello!\n"
     ]
    }
   ],
   "source": [
    "for i in range(3):\n",
    "    hello()"
   ]
  },
  {
   "cell_type": "code",
   "execution_count": 4,
   "id": "062276ec-706b-47ba-8e99-548274dba83e",
   "metadata": {},
   "outputs": [
    {
     "data": {
      "text/plain": [
       "function"
      ]
     },
     "execution_count": 4,
     "metadata": {},
     "output_type": "execute_result"
    }
   ],
   "source": [
    "type(hello)"
   ]
  },
  {
   "cell_type": "code",
   "execution_count": 6,
   "id": "f2ded188-6dd5-4ae8-87c8-2318bd5051d2",
   "metadata": {},
   "outputs": [
    {
     "ename": "TypeError",
     "evalue": "'builtin_function_or_method' object is not iterable",
     "output_type": "error",
     "traceback": [
      "\u001b[0;31m---------------------------------------------------------------------------\u001b[0m",
      "\u001b[0;31mTypeError\u001b[0m                                 Traceback (most recent call last)",
      "Cell \u001b[0;32mIn[6], line 3\u001b[0m\n\u001b[1;32m      1\u001b[0m d \u001b[38;5;241m=\u001b[39m {\u001b[38;5;124m'\u001b[39m\u001b[38;5;124ma\u001b[39m\u001b[38;5;124m'\u001b[39m:\u001b[38;5;241m10\u001b[39m, \u001b[38;5;124m'\u001b[39m\u001b[38;5;124mb\u001b[39m\u001b[38;5;124m'\u001b[39m:\u001b[38;5;241m20\u001b[39m, \u001b[38;5;124m'\u001b[39m\u001b[38;5;124mc\u001b[39m\u001b[38;5;124m'\u001b[39m:\u001b[38;5;241m30\u001b[39m}\n\u001b[0;32m----> 3\u001b[0m \u001b[38;5;28;43;01mfor\u001b[39;49;00m\u001b[43m \u001b[49m\u001b[43mkey\u001b[49m\u001b[43m,\u001b[49m\u001b[43m \u001b[49m\u001b[43mvalue\u001b[49m\u001b[43m \u001b[49m\u001b[38;5;129;43;01min\u001b[39;49;00m\u001b[43m \u001b[49m\u001b[43md\u001b[49m\u001b[38;5;241;43m.\u001b[39;49m\u001b[43mitems\u001b[49m\u001b[43m:\u001b[49m\n\u001b[1;32m      4\u001b[0m \u001b[43m    \u001b[49m\u001b[38;5;28;43mprint\u001b[39;49m\u001b[43m(\u001b[49m\u001b[38;5;124;43mf\u001b[39;49m\u001b[38;5;124;43m'\u001b[39;49m\u001b[38;5;132;43;01m{\u001b[39;49;00m\u001b[43mkey\u001b[49m\u001b[38;5;132;43;01m}\u001b[39;49;00m\u001b[38;5;124;43m: \u001b[39;49m\u001b[38;5;132;43;01m{\u001b[39;49;00m\u001b[43mvalue\u001b[49m\u001b[38;5;132;43;01m}\u001b[39;49;00m\u001b[38;5;124;43m'\u001b[39;49m\u001b[43m)\u001b[49m\n",
      "\u001b[0;31mTypeError\u001b[0m: 'builtin_function_or_method' object is not iterable"
     ]
    }
   ],
   "source": [
    "d = {'a':10, 'b':20, 'c':30}\n",
    "\n",
    "for key, value in d.items:\n",
    "    print(f'{key}: {value}')"
   ]
  },
  {
   "cell_type": "code",
   "execution_count": 7,
   "id": "452b8ce8-22a3-4dfa-96ff-33e155a83fbc",
   "metadata": {},
   "outputs": [
    {
     "data": {
      "text/plain": [
       "<function __main__.hello()>"
      ]
     },
     "execution_count": 7,
     "metadata": {},
     "output_type": "execute_result"
    }
   ],
   "source": [
    "hello"
   ]
  },
  {
   "cell_type": "markdown",
   "id": "4b9b0fe4-1f98-4684-92b4-af699f3d8270",
   "metadata": {},
   "source": [
    "# Exercise: Calculator\n",
    "\n",
    "1. Define a function `calc` that asks the user for three inputs:\n",
    "    - first number\n",
    "    - operator (`+` or `-`)\n",
    "    - second number\n",
    "2. Print on the screen the equation and its solution\n",
    "3. If we get an unknown operator, print that on the screen\n",
    "\n",
    "Example:\n",
    "\n",
    "    calc()\n",
    "    First number: 10\n",
    "    Operator: +\n",
    "    Second number: 3\n",
    "    10 + 3 = 13\n",
    "\n",
    "    First number: 10\n",
    "    Operator: *\n",
    "    Second number: 5\n",
    "    10 * 5 = unknown operator\n",
    "\n"
   ]
  },
  {
   "cell_type": "code",
   "execution_count": 8,
   "id": "34e0ca33-82f4-4da1-b71b-4612db8af2bb",
   "metadata": {},
   "outputs": [
    {
     "data": {
      "text/plain": [
       "['abcd', 'ef', 'ghij']"
      ]
     },
     "execution_count": 8,
     "metadata": {},
     "output_type": "execute_result"
    }
   ],
   "source": [
    "s = 'abcd ef ghij'\n",
    "s.split()"
   ]
  },
  {
   "cell_type": "code",
   "execution_count": 9,
   "id": "8b2effc7-8d84-4ae8-a510-e35f552104c6",
   "metadata": {},
   "outputs": [
    {
     "data": {
      "text/plain": [
       "True"
      ]
     },
     "execution_count": 9,
     "metadata": {},
     "output_type": "execute_result"
    }
   ],
   "source": [
    "'a' in 'aeiou'"
   ]
  },
  {
   "cell_type": "code",
   "execution_count": 13,
   "id": "e714dacf-e9d1-4b32-be89-4cbb415a821d",
   "metadata": {},
   "outputs": [],
   "source": [
    "def calc():\n",
    "    first = input('First number: ').strip()\n",
    "    operator = input('Operator: ').strip()\n",
    "    second = input('Second number: ').strip()\n",
    "\n",
    "    first = int(first)\n",
    "    second = int(second)\n",
    "\n",
    "    if operator == '+':\n",
    "        result = first + second\n",
    "    elif operator == '-':\n",
    "        result = first - second\n",
    "    else:\n",
    "        result = '(Bad operator)'\n",
    "\n",
    "    print(f'{first} {operator} {second} = {result}')"
   ]
  },
  {
   "cell_type": "code",
   "execution_count": 14,
   "id": "d98423ee-4339-4031-aafc-5d7431e83fba",
   "metadata": {},
   "outputs": [
    {
     "name": "stdin",
     "output_type": "stream",
     "text": [
      "First number:  10\n",
      "Operator:  +\n",
      "Second number:  3\n"
     ]
    },
    {
     "name": "stdout",
     "output_type": "stream",
     "text": [
      "10 + 3 = 13\n"
     ]
    }
   ],
   "source": [
    "calc()"
   ]
  },
  {
   "cell_type": "code",
   "execution_count": 15,
   "id": "c9d56217-05bc-4ee8-a80c-c3bbfa717373",
   "metadata": {},
   "outputs": [
    {
     "name": "stdin",
     "output_type": "stream",
     "text": [
      "First number:  20\n",
      "Operator:  -\n",
      "Second number:  5\n"
     ]
    },
    {
     "name": "stdout",
     "output_type": "stream",
     "text": [
      "20 - 5 = 15\n"
     ]
    }
   ],
   "source": [
    "calc()"
   ]
  },
  {
   "cell_type": "code",
   "execution_count": 16,
   "id": "2ebe36f6-48e6-4628-bdd3-6bb91c8bbd88",
   "metadata": {},
   "outputs": [
    {
     "name": "stdin",
     "output_type": "stream",
     "text": [
      "First number:  20\n",
      "Operator:  *\n",
      "Second number:  5\n"
     ]
    },
    {
     "name": "stdout",
     "output_type": "stream",
     "text": [
      "20 * 5 = (Bad operator)\n"
     ]
    }
   ],
   "source": [
    "calc()"
   ]
  },
  {
   "cell_type": "code",
   "execution_count": 17,
   "id": "0ec6c6e5-5767-4d4d-9717-bac922e68369",
   "metadata": {},
   "outputs": [],
   "source": [
    "def hello(name):\n",
    "    print(f'Hello, {name}')"
   ]
  },
  {
   "cell_type": "code",
   "execution_count": 18,
   "id": "450f22fb-1afb-4bb3-a55c-71d3461ed447",
   "metadata": {},
   "outputs": [
    {
     "name": "stdout",
     "output_type": "stream",
     "text": [
      "Hello, world\n"
     ]
    }
   ],
   "source": [
    "hello('world')"
   ]
  },
  {
   "cell_type": "code",
   "execution_count": 19,
   "id": "1353b232-5d5d-40ed-a6d7-43c0d14f4027",
   "metadata": {},
   "outputs": [
    {
     "ename": "NameError",
     "evalue": "name 'name' is not defined",
     "output_type": "error",
     "traceback": [
      "\u001b[0;31m---------------------------------------------------------------------------\u001b[0m",
      "\u001b[0;31mNameError\u001b[0m                                 Traceback (most recent call last)",
      "Cell \u001b[0;32mIn[19], line 1\u001b[0m\n\u001b[0;32m----> 1\u001b[0m \u001b[43mname\u001b[49m\n",
      "\u001b[0;31mNameError\u001b[0m: name 'name' is not defined"
     ]
    }
   ],
   "source": [
    "name"
   ]
  },
  {
   "cell_type": "code",
   "execution_count": 20,
   "id": "8584bb71-2099-43f9-bb5a-1b02ce1e3527",
   "metadata": {},
   "outputs": [
    {
     "data": {
      "text/plain": [
       "function"
      ]
     },
     "execution_count": 20,
     "metadata": {},
     "output_type": "execute_result"
    }
   ],
   "source": [
    "type(hello)"
   ]
  },
  {
   "cell_type": "code",
   "execution_count": 21,
   "id": "c3fd81bc-06b4-4ba4-80c5-683ade64022d",
   "metadata": {},
   "outputs": [],
   "source": [
    "def hello(name):\n",
    "    print(f'{type(name)=}')\n",
    "    print(f'Hello, {name}')"
   ]
  },
  {
   "cell_type": "code",
   "execution_count": 22,
   "id": "7cc4c182-0f38-4078-8ca2-35e5cedf9d7e",
   "metadata": {},
   "outputs": [
    {
     "name": "stdout",
     "output_type": "stream",
     "text": [
      "type(name)=<class 'str'>\n",
      "Hello, world\n"
     ]
    }
   ],
   "source": [
    "hello('world')"
   ]
  },
  {
   "cell_type": "code",
   "execution_count": 23,
   "id": "f29eb95e-fc7d-4bb5-b1e0-bcab8229f108",
   "metadata": {},
   "outputs": [
    {
     "name": "stdout",
     "output_type": "stream",
     "text": [
      "type(name)=<class 'int'>\n",
      "Hello, 5\n"
     ]
    }
   ],
   "source": [
    "hello(5)"
   ]
  },
  {
   "cell_type": "code",
   "execution_count": 24,
   "id": "fd25f5dc-fed5-4d59-94cd-f1ad798882ea",
   "metadata": {},
   "outputs": [
    {
     "name": "stdout",
     "output_type": "stream",
     "text": [
      "type(name)=<class 'list'>\n",
      "Hello, [10, 20, 30]\n"
     ]
    }
   ],
   "source": [
    "hello([10, 20, 30])"
   ]
  },
  {
   "cell_type": "code",
   "execution_count": 25,
   "id": "f93170b6-8f02-4839-9480-ac01c3dbae7f",
   "metadata": {},
   "outputs": [
    {
     "name": "stdout",
     "output_type": "stream",
     "text": [
      "type(name)=<class 'function'>\n",
      "Hello, <function hello at 0x1049fe480>\n"
     ]
    }
   ],
   "source": [
    "hello(hello)"
   ]
  },
  {
   "cell_type": "code",
   "execution_count": 26,
   "id": "7f6e1901-a267-49b6-b8ca-de448e69cbe1",
   "metadata": {},
   "outputs": [],
   "source": [
    "def hello(name):\n",
    "    print(f'{type(name)=}')\n",
    "    print(f'Hello, {name}')"
   ]
  },
  {
   "cell_type": "code",
   "execution_count": 27,
   "id": "4f81ad4b-a1b1-4b15-a225-ca51d4e82c1b",
   "metadata": {},
   "outputs": [
    {
     "ename": "TypeError",
     "evalue": "hello() missing 1 required positional argument: 'name'",
     "output_type": "error",
     "traceback": [
      "\u001b[0;31m---------------------------------------------------------------------------\u001b[0m",
      "\u001b[0;31mTypeError\u001b[0m                                 Traceback (most recent call last)",
      "Cell \u001b[0;32mIn[27], line 1\u001b[0m\n\u001b[0;32m----> 1\u001b[0m \u001b[43mhello\u001b[49m\u001b[43m(\u001b[49m\u001b[43m)\u001b[49m\n",
      "\u001b[0;31mTypeError\u001b[0m: hello() missing 1 required positional argument: 'name'"
     ]
    }
   ],
   "source": [
    "# parameters: name\n",
    "# arguments:   --\n",
    "\n",
    "hello()"
   ]
  },
  {
   "cell_type": "code",
   "execution_count": 28,
   "id": "21ba1803-5d51-462e-a24a-8e0e992b7039",
   "metadata": {},
   "outputs": [
    {
     "name": "stdout",
     "output_type": "stream",
     "text": [
      "15\n"
     ]
    }
   ],
   "source": [
    "# parameters:   first    second\n",
    "# arguments:     10         5\n",
    "\n",
    "def add(first, second):\n",
    "    print(first + second)\n",
    "\n",
    "add(10, 5)"
   ]
  },
  {
   "cell_type": "code",
   "execution_count": 29,
   "id": "0d85f151-4a8d-4798-910a-a35815b56df8",
   "metadata": {},
   "outputs": [
    {
     "name": "stdout",
     "output_type": "stream",
     "text": [
      "105\n"
     ]
    }
   ],
   "source": [
    "add('10', '5')"
   ]
  },
  {
   "cell_type": "markdown",
   "id": "707802dc-5327-438d-baa5-65d56eb60177",
   "metadata": {},
   "source": [
    "# Exercise: Calc with parameters\n",
    "\n",
    "Redefine `calc` such that it takes three arguments, rather than using `input` to get the user's inputs."
   ]
  },
  {
   "cell_type": "code",
   "execution_count": 30,
   "id": "f15d782f-c110-4cbb-a8e8-9f8a3b558b4a",
   "metadata": {},
   "outputs": [],
   "source": [
    "def calc(first, operator, second):\n",
    "    if operator == '+':\n",
    "        result = first + second\n",
    "    elif operator == '-':\n",
    "        result = first - second\n",
    "    else:\n",
    "        result = '(Bad operator)'\n",
    "\n",
    "    print(f'{first} {operator} {second} = {result}')"
   ]
  },
  {
   "cell_type": "code",
   "execution_count": 31,
   "id": "e9712d0b-0506-4be6-8ebd-15577ed5323e",
   "metadata": {},
   "outputs": [
    {
     "name": "stdout",
     "output_type": "stream",
     "text": [
      "10 + 5 = 15\n"
     ]
    }
   ],
   "source": [
    "calc(10, '+', 5)"
   ]
  },
  {
   "cell_type": "code",
   "execution_count": 33,
   "id": "48b66f62-f6de-4e94-9648-da19d8a445ea",
   "metadata": {},
   "outputs": [
    {
     "name": "stdout",
     "output_type": "stream",
     "text": [
      "5 + 10 = 15\n",
      "5 + 11 = 16\n",
      "5 + 12 = 17\n",
      "5 + 13 = 18\n",
      "5 + 14 = 19\n",
      "5 + 15 = 20\n",
      "5 + 16 = 21\n",
      "5 + 17 = 22\n",
      "5 + 18 = 23\n",
      "5 + 19 = 24\n"
     ]
    }
   ],
   "source": [
    "for i in range(10, 20):\n",
    "    calc(5, '+',  i)"
   ]
  },
  {
   "cell_type": "code",
   "execution_count": 34,
   "id": "6cff5003-cf9e-4087-a53c-fc716739250e",
   "metadata": {},
   "outputs": [
    {
     "name": "stdout",
     "output_type": "stream",
     "text": [
      "5 + 6 = 11\n"
     ]
    }
   ],
   "source": [
    "x = calc(5, '+', 6)"
   ]
  },
  {
   "cell_type": "code",
   "execution_count": 35,
   "id": "cf575ef8-fb57-47d5-acee-c61da661b190",
   "metadata": {},
   "outputs": [
    {
     "data": {
      "text/plain": [
       "NoneType"
      ]
     },
     "execution_count": 35,
     "metadata": {},
     "output_type": "execute_result"
    }
   ],
   "source": [
    "type(x)"
   ]
  },
  {
   "cell_type": "code",
   "execution_count": 36,
   "id": "b520318e-319e-4b8e-8b08-4c47c5242499",
   "metadata": {},
   "outputs": [
    {
     "name": "stdout",
     "output_type": "stream",
     "text": [
      "None\n"
     ]
    }
   ],
   "source": [
    "print(x)"
   ]
  },
  {
   "cell_type": "code",
   "execution_count": 37,
   "id": "8ca8d260-d345-4c8f-a0b7-9009d7c71da6",
   "metadata": {},
   "outputs": [],
   "source": [
    "def hello(name):\n",
    "    return f'Hello, {name}!'"
   ]
  },
  {
   "cell_type": "code",
   "execution_count": 38,
   "id": "625dd849-e1de-4d29-8718-f7f3b7daf626",
   "metadata": {},
   "outputs": [],
   "source": [
    "x = hello('world')"
   ]
  },
  {
   "cell_type": "code",
   "execution_count": 39,
   "id": "ae57d590-b665-4a4f-bbb1-ec0b8094382a",
   "metadata": {},
   "outputs": [
    {
     "name": "stdout",
     "output_type": "stream",
     "text": [
      "Hello, world!\n"
     ]
    }
   ],
   "source": [
    "print(x)"
   ]
  },
  {
   "cell_type": "code",
   "execution_count": 40,
   "id": "e78d5d5e-e188-423f-8979-4c338142b5fc",
   "metadata": {},
   "outputs": [
    {
     "data": {
      "text/plain": [
       "str"
      ]
     },
     "execution_count": 40,
     "metadata": {},
     "output_type": "execute_result"
    }
   ],
   "source": [
    "type(x)"
   ]
  },
  {
   "cell_type": "code",
   "execution_count": 41,
   "id": "09bffb0b-2de0-4a32-bcf6-f7db16f12de6",
   "metadata": {},
   "outputs": [],
   "source": [
    "x = 5"
   ]
  },
  {
   "cell_type": "markdown",
   "id": "606aa580-cccf-427a-9dc0-714ea50c207a",
   "metadata": {},
   "source": [
    "# Exercise: Calculator (with return value)\n",
    "\n",
    "1. Instead of the function printing and returning `None`, return a value.\n",
    "2. Now call the function 10 times, appending each return value to a list.\n",
    "3. Iterate over the list and print the results."
   ]
  },
  {
   "cell_type": "code",
   "execution_count": 42,
   "id": "18942f25-8fcb-48d9-a04b-b3312f305723",
   "metadata": {},
   "outputs": [],
   "source": [
    "def calc(first, operator, second):\n",
    "    if operator == '+':\n",
    "        result = first + second\n",
    "    elif operator == '-':\n",
    "        result = first - second\n",
    "    else:\n",
    "        result = '(Bad operator)'\n",
    "\n",
    "    return f'{first} {operator} {second} = {result}'\n",
    "\n",
    "output = []\n",
    "\n",
    "for i in range(5):\n",
    "    output.append(calc(i, '+', 10))\n",
    "    output.append(calc(i**3, '-', i))"
   ]
  },
  {
   "cell_type": "code",
   "execution_count": 43,
   "id": "24e75ea9-7a32-455f-87e1-a93d431967bd",
   "metadata": {},
   "outputs": [
    {
     "data": {
      "text/plain": [
       "['0 + 10 = 10',\n",
       " '0 - 0 = 0',\n",
       " '1 + 10 = 11',\n",
       " '1 - 1 = 0',\n",
       " '2 + 10 = 12',\n",
       " '8 - 2 = 6',\n",
       " '3 + 10 = 13',\n",
       " '27 - 3 = 24',\n",
       " '4 + 10 = 14',\n",
       " '64 - 4 = 60']"
      ]
     },
     "execution_count": 43,
     "metadata": {},
     "output_type": "execute_result"
    }
   ],
   "source": [
    "output"
   ]
  },
  {
   "cell_type": "code",
   "execution_count": 44,
   "id": "8092bcb5-7a0f-4aae-957a-829edbf9c543",
   "metadata": {},
   "outputs": [
    {
     "name": "stdout",
     "output_type": "stream",
     "text": [
      "0 + 10 = 10\n",
      "0 - 0 = 0\n",
      "1 + 10 = 11\n",
      "1 - 1 = 0\n",
      "2 + 10 = 12\n",
      "8 - 2 = 6\n",
      "3 + 10 = 13\n",
      "27 - 3 = 24\n",
      "4 + 10 = 14\n",
      "64 - 4 = 60\n"
     ]
    }
   ],
   "source": [
    "for one_item in output:\n",
    "    print(one_item)"
   ]
  },
  {
   "cell_type": "code",
   "execution_count": 45,
   "id": "fcb5875a-a242-4e78-94c7-1d4867413a14",
   "metadata": {},
   "outputs": [
    {
     "name": "stdout",
     "output_type": "stream",
     "text": [
      "0 + 10 = 10\n",
      "0 - 0 = 0\n",
      "1 + 10 = 11\n",
      "1 - 1 = 0\n",
      "2 + 10 = 12\n",
      "8 - 2 = 6\n",
      "3 + 10 = 13\n",
      "27 - 3 = 24\n",
      "4 + 10 = 14\n",
      "64 - 4 = 60\n"
     ]
    }
   ],
   "source": [
    "print('\\n'.join(output))"
   ]
  },
  {
   "cell_type": "markdown",
   "id": "0184cda1-c44f-4bec-bece-4aef812c45a5",
   "metadata": {},
   "source": [
    "# Next up\n",
    "\n",
    "- Docstrings\n",
    "- Keyword arguments\n",
    "- Special parameters: Defaults, `*args`, `**kwargs`"
   ]
  },
  {
   "cell_type": "code",
   "execution_count": null,
   "id": "45ba4bf3-5c81-478f-8354-e225b9fae745",
   "metadata": {},
   "outputs": [],
   "source": []
  }
 ],
 "metadata": {
  "kernelspec": {
   "display_name": "Python 3 (ipykernel)",
   "language": "python",
   "name": "python3"
  },
  "language_info": {
   "codemirror_mode": {
    "name": "ipython",
    "version": 3
   },
   "file_extension": ".py",
   "mimetype": "text/x-python",
   "name": "python",
   "nbconvert_exporter": "python",
   "pygments_lexer": "ipython3",
   "version": "3.13.0"
  },
  "widgets": {
   "application/vnd.jupyter.widget-state+json": {
    "state": {},
    "version_major": 2,
    "version_minor": 0
   }
  }
 },
 "nbformat": 4,
 "nbformat_minor": 5
}
