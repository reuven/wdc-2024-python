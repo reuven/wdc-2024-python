{
 "cells": [
  {
   "cell_type": "markdown",
   "id": "4428bf78-d393-4d93-8c1d-6362024d9c87",
   "metadata": {},
   "source": [
    "# Agenda\n",
    "\n",
    "1. Functions\n",
    "3. List comprehensions\n",
    "4. Sorting and function arguments"
   ]
  },
  {
   "cell_type": "markdown",
   "id": "0ecb95b6-6b06-4ee5-ae70-815b20596367",
   "metadata": {},
   "source": [
    "# DRY -- don't repeat yourself\n",
    "\n"
   ]
  },
  {
   "cell_type": "code",
   "execution_count": 1,
   "id": "314aaee4-6186-4c85-a31d-2edb95f4e1ec",
   "metadata": {},
   "outputs": [],
   "source": [
    "# def -- start of definition\n",
    "# name of the function\n",
    "# parameters inside of ()\n",
    "# : at the end of the line\n",
    "# function body, indented\n",
    "\n",
    "def hello():\n",
    "    print('Hello!')"
   ]
  },
  {
   "cell_type": "code",
   "execution_count": 2,
   "id": "6937151e-db58-4cc0-8b90-698624e8f8e5",
   "metadata": {},
   "outputs": [
    {
     "name": "stdout",
     "output_type": "stream",
     "text": [
      "Hello!\n"
     ]
    }
   ],
   "source": [
    "hello()"
   ]
  },
  {
   "cell_type": "code",
   "execution_count": 3,
   "id": "077d60d1-22ed-46ad-a3fc-514db5f962b6",
   "metadata": {},
   "outputs": [
    {
     "name": "stdout",
     "output_type": "stream",
     "text": [
      "Hello!\n",
      "Hello!\n",
      "Hello!\n"
     ]
    }
   ],
   "source": [
    "for i in range(3):\n",
    "    hello()"
   ]
  },
  {
   "cell_type": "code",
   "execution_count": 4,
   "id": "062276ec-706b-47ba-8e99-548274dba83e",
   "metadata": {},
   "outputs": [
    {
     "data": {
      "text/plain": [
       "function"
      ]
     },
     "execution_count": 4,
     "metadata": {},
     "output_type": "execute_result"
    }
   ],
   "source": [
    "type(hello)"
   ]
  },
  {
   "cell_type": "code",
   "execution_count": 6,
   "id": "f2ded188-6dd5-4ae8-87c8-2318bd5051d2",
   "metadata": {},
   "outputs": [
    {
     "ename": "TypeError",
     "evalue": "'builtin_function_or_method' object is not iterable",
     "output_type": "error",
     "traceback": [
      "\u001b[0;31m---------------------------------------------------------------------------\u001b[0m",
      "\u001b[0;31mTypeError\u001b[0m                                 Traceback (most recent call last)",
      "Cell \u001b[0;32mIn[6], line 3\u001b[0m\n\u001b[1;32m      1\u001b[0m d \u001b[38;5;241m=\u001b[39m {\u001b[38;5;124m'\u001b[39m\u001b[38;5;124ma\u001b[39m\u001b[38;5;124m'\u001b[39m:\u001b[38;5;241m10\u001b[39m, \u001b[38;5;124m'\u001b[39m\u001b[38;5;124mb\u001b[39m\u001b[38;5;124m'\u001b[39m:\u001b[38;5;241m20\u001b[39m, \u001b[38;5;124m'\u001b[39m\u001b[38;5;124mc\u001b[39m\u001b[38;5;124m'\u001b[39m:\u001b[38;5;241m30\u001b[39m}\n\u001b[0;32m----> 3\u001b[0m \u001b[38;5;28;43;01mfor\u001b[39;49;00m\u001b[43m \u001b[49m\u001b[43mkey\u001b[49m\u001b[43m,\u001b[49m\u001b[43m \u001b[49m\u001b[43mvalue\u001b[49m\u001b[43m \u001b[49m\u001b[38;5;129;43;01min\u001b[39;49;00m\u001b[43m \u001b[49m\u001b[43md\u001b[49m\u001b[38;5;241;43m.\u001b[39;49m\u001b[43mitems\u001b[49m\u001b[43m:\u001b[49m\n\u001b[1;32m      4\u001b[0m \u001b[43m    \u001b[49m\u001b[38;5;28;43mprint\u001b[39;49m\u001b[43m(\u001b[49m\u001b[38;5;124;43mf\u001b[39;49m\u001b[38;5;124;43m'\u001b[39;49m\u001b[38;5;132;43;01m{\u001b[39;49;00m\u001b[43mkey\u001b[49m\u001b[38;5;132;43;01m}\u001b[39;49;00m\u001b[38;5;124;43m: \u001b[39;49m\u001b[38;5;132;43;01m{\u001b[39;49;00m\u001b[43mvalue\u001b[49m\u001b[38;5;132;43;01m}\u001b[39;49;00m\u001b[38;5;124;43m'\u001b[39;49m\u001b[43m)\u001b[49m\n",
      "\u001b[0;31mTypeError\u001b[0m: 'builtin_function_or_method' object is not iterable"
     ]
    }
   ],
   "source": [
    "d = {'a':10, 'b':20, 'c':30}\n",
    "\n",
    "for key, value in d.items:\n",
    "    print(f'{key}: {value}')"
   ]
  },
  {
   "cell_type": "code",
   "execution_count": 7,
   "id": "452b8ce8-22a3-4dfa-96ff-33e155a83fbc",
   "metadata": {},
   "outputs": [
    {
     "data": {
      "text/plain": [
       "<function __main__.hello()>"
      ]
     },
     "execution_count": 7,
     "metadata": {},
     "output_type": "execute_result"
    }
   ],
   "source": [
    "hello"
   ]
  },
  {
   "cell_type": "markdown",
   "id": "4b9b0fe4-1f98-4684-92b4-af699f3d8270",
   "metadata": {},
   "source": [
    "# Exercise: Calculator\n",
    "\n",
    "1. Define a function `calc` that asks the user for three inputs:\n",
    "    - first number\n",
    "    - operator (`+` or `-`)\n",
    "    - second number\n",
    "2. Print on the screen the equation and its solution\n",
    "3. If we get an unknown operator, print that on the screen\n",
    "\n",
    "Example:\n",
    "\n",
    "    calc()\n",
    "    First number: 10\n",
    "    Operator: +\n",
    "    Second number: 3\n",
    "    10 + 3 = 13\n",
    "\n",
    "    First number: 10\n",
    "    Operator: *\n",
    "    Second number: 5\n",
    "    10 * 5 = unknown operator\n",
    "\n"
   ]
  },
  {
   "cell_type": "code",
   "execution_count": 8,
   "id": "34e0ca33-82f4-4da1-b71b-4612db8af2bb",
   "metadata": {},
   "outputs": [
    {
     "data": {
      "text/plain": [
       "['abcd', 'ef', 'ghij']"
      ]
     },
     "execution_count": 8,
     "metadata": {},
     "output_type": "execute_result"
    }
   ],
   "source": [
    "s = 'abcd ef ghij'\n",
    "s.split()"
   ]
  },
  {
   "cell_type": "code",
   "execution_count": 9,
   "id": "8b2effc7-8d84-4ae8-a510-e35f552104c6",
   "metadata": {},
   "outputs": [
    {
     "data": {
      "text/plain": [
       "True"
      ]
     },
     "execution_count": 9,
     "metadata": {},
     "output_type": "execute_result"
    }
   ],
   "source": [
    "'a' in 'aeiou'"
   ]
  },
  {
   "cell_type": "code",
   "execution_count": 13,
   "id": "e714dacf-e9d1-4b32-be89-4cbb415a821d",
   "metadata": {},
   "outputs": [],
   "source": [
    "def calc():\n",
    "    first = input('First number: ').strip()\n",
    "    operator = input('Operator: ').strip()\n",
    "    second = input('Second number: ').strip()\n",
    "\n",
    "    first = int(first)\n",
    "    second = int(second)\n",
    "\n",
    "    if operator == '+':\n",
    "        result = first + second\n",
    "    elif operator == '-':\n",
    "        result = first - second\n",
    "    else:\n",
    "        result = '(Bad operator)'\n",
    "\n",
    "    print(f'{first} {operator} {second} = {result}')"
   ]
  },
  {
   "cell_type": "code",
   "execution_count": 14,
   "id": "d98423ee-4339-4031-aafc-5d7431e83fba",
   "metadata": {},
   "outputs": [
    {
     "name": "stdin",
     "output_type": "stream",
     "text": [
      "First number:  10\n",
      "Operator:  +\n",
      "Second number:  3\n"
     ]
    },
    {
     "name": "stdout",
     "output_type": "stream",
     "text": [
      "10 + 3 = 13\n"
     ]
    }
   ],
   "source": [
    "calc()"
   ]
  },
  {
   "cell_type": "code",
   "execution_count": 15,
   "id": "c9d56217-05bc-4ee8-a80c-c3bbfa717373",
   "metadata": {},
   "outputs": [
    {
     "name": "stdin",
     "output_type": "stream",
     "text": [
      "First number:  20\n",
      "Operator:  -\n",
      "Second number:  5\n"
     ]
    },
    {
     "name": "stdout",
     "output_type": "stream",
     "text": [
      "20 - 5 = 15\n"
     ]
    }
   ],
   "source": [
    "calc()"
   ]
  },
  {
   "cell_type": "code",
   "execution_count": 16,
   "id": "2ebe36f6-48e6-4628-bdd3-6bb91c8bbd88",
   "metadata": {},
   "outputs": [
    {
     "name": "stdin",
     "output_type": "stream",
     "text": [
      "First number:  20\n",
      "Operator:  *\n",
      "Second number:  5\n"
     ]
    },
    {
     "name": "stdout",
     "output_type": "stream",
     "text": [
      "20 * 5 = (Bad operator)\n"
     ]
    }
   ],
   "source": [
    "calc()"
   ]
  },
  {
   "cell_type": "code",
   "execution_count": 17,
   "id": "0ec6c6e5-5767-4d4d-9717-bac922e68369",
   "metadata": {},
   "outputs": [],
   "source": [
    "def hello(name):\n",
    "    print(f'Hello, {name}')"
   ]
  },
  {
   "cell_type": "code",
   "execution_count": 18,
   "id": "450f22fb-1afb-4bb3-a55c-71d3461ed447",
   "metadata": {},
   "outputs": [
    {
     "name": "stdout",
     "output_type": "stream",
     "text": [
      "Hello, world\n"
     ]
    }
   ],
   "source": [
    "hello('world')"
   ]
  },
  {
   "cell_type": "code",
   "execution_count": 19,
   "id": "1353b232-5d5d-40ed-a6d7-43c0d14f4027",
   "metadata": {},
   "outputs": [
    {
     "ename": "NameError",
     "evalue": "name 'name' is not defined",
     "output_type": "error",
     "traceback": [
      "\u001b[0;31m---------------------------------------------------------------------------\u001b[0m",
      "\u001b[0;31mNameError\u001b[0m                                 Traceback (most recent call last)",
      "Cell \u001b[0;32mIn[19], line 1\u001b[0m\n\u001b[0;32m----> 1\u001b[0m \u001b[43mname\u001b[49m\n",
      "\u001b[0;31mNameError\u001b[0m: name 'name' is not defined"
     ]
    }
   ],
   "source": [
    "name"
   ]
  },
  {
   "cell_type": "code",
   "execution_count": 20,
   "id": "8584bb71-2099-43f9-bb5a-1b02ce1e3527",
   "metadata": {},
   "outputs": [
    {
     "data": {
      "text/plain": [
       "function"
      ]
     },
     "execution_count": 20,
     "metadata": {},
     "output_type": "execute_result"
    }
   ],
   "source": [
    "type(hello)"
   ]
  },
  {
   "cell_type": "code",
   "execution_count": 21,
   "id": "c3fd81bc-06b4-4ba4-80c5-683ade64022d",
   "metadata": {},
   "outputs": [],
   "source": [
    "def hello(name):\n",
    "    print(f'{type(name)=}')\n",
    "    print(f'Hello, {name}')"
   ]
  },
  {
   "cell_type": "code",
   "execution_count": 22,
   "id": "7cc4c182-0f38-4078-8ca2-35e5cedf9d7e",
   "metadata": {},
   "outputs": [
    {
     "name": "stdout",
     "output_type": "stream",
     "text": [
      "type(name)=<class 'str'>\n",
      "Hello, world\n"
     ]
    }
   ],
   "source": [
    "hello('world')"
   ]
  },
  {
   "cell_type": "code",
   "execution_count": 23,
   "id": "f29eb95e-fc7d-4bb5-b1e0-bcab8229f108",
   "metadata": {},
   "outputs": [
    {
     "name": "stdout",
     "output_type": "stream",
     "text": [
      "type(name)=<class 'int'>\n",
      "Hello, 5\n"
     ]
    }
   ],
   "source": [
    "hello(5)"
   ]
  },
  {
   "cell_type": "code",
   "execution_count": 24,
   "id": "fd25f5dc-fed5-4d59-94cd-f1ad798882ea",
   "metadata": {},
   "outputs": [
    {
     "name": "stdout",
     "output_type": "stream",
     "text": [
      "type(name)=<class 'list'>\n",
      "Hello, [10, 20, 30]\n"
     ]
    }
   ],
   "source": [
    "hello([10, 20, 30])"
   ]
  },
  {
   "cell_type": "code",
   "execution_count": 25,
   "id": "f93170b6-8f02-4839-9480-ac01c3dbae7f",
   "metadata": {},
   "outputs": [
    {
     "name": "stdout",
     "output_type": "stream",
     "text": [
      "type(name)=<class 'function'>\n",
      "Hello, <function hello at 0x1049fe480>\n"
     ]
    }
   ],
   "source": [
    "hello(hello)"
   ]
  },
  {
   "cell_type": "code",
   "execution_count": 26,
   "id": "7f6e1901-a267-49b6-b8ca-de448e69cbe1",
   "metadata": {},
   "outputs": [],
   "source": [
    "def hello(name):\n",
    "    print(f'{type(name)=}')\n",
    "    print(f'Hello, {name}')"
   ]
  },
  {
   "cell_type": "code",
   "execution_count": 27,
   "id": "4f81ad4b-a1b1-4b15-a225-ca51d4e82c1b",
   "metadata": {},
   "outputs": [
    {
     "ename": "TypeError",
     "evalue": "hello() missing 1 required positional argument: 'name'",
     "output_type": "error",
     "traceback": [
      "\u001b[0;31m---------------------------------------------------------------------------\u001b[0m",
      "\u001b[0;31mTypeError\u001b[0m                                 Traceback (most recent call last)",
      "Cell \u001b[0;32mIn[27], line 1\u001b[0m\n\u001b[0;32m----> 1\u001b[0m \u001b[43mhello\u001b[49m\u001b[43m(\u001b[49m\u001b[43m)\u001b[49m\n",
      "\u001b[0;31mTypeError\u001b[0m: hello() missing 1 required positional argument: 'name'"
     ]
    }
   ],
   "source": [
    "# parameters: name\n",
    "# arguments:   --\n",
    "\n",
    "hello()"
   ]
  },
  {
   "cell_type": "code",
   "execution_count": 28,
   "id": "21ba1803-5d51-462e-a24a-8e0e992b7039",
   "metadata": {},
   "outputs": [
    {
     "name": "stdout",
     "output_type": "stream",
     "text": [
      "15\n"
     ]
    }
   ],
   "source": [
    "# parameters:   first    second\n",
    "# arguments:     10         5\n",
    "\n",
    "def add(first, second):\n",
    "    print(first + second)\n",
    "\n",
    "add(10, 5)"
   ]
  },
  {
   "cell_type": "code",
   "execution_count": 29,
   "id": "0d85f151-4a8d-4798-910a-a35815b56df8",
   "metadata": {},
   "outputs": [
    {
     "name": "stdout",
     "output_type": "stream",
     "text": [
      "105\n"
     ]
    }
   ],
   "source": [
    "add('10', '5')"
   ]
  },
  {
   "cell_type": "markdown",
   "id": "707802dc-5327-438d-baa5-65d56eb60177",
   "metadata": {},
   "source": [
    "# Exercise: Calc with parameters\n",
    "\n",
    "Redefine `calc` such that it takes three arguments, rather than using `input` to get the user's inputs."
   ]
  },
  {
   "cell_type": "code",
   "execution_count": 30,
   "id": "f15d782f-c110-4cbb-a8e8-9f8a3b558b4a",
   "metadata": {},
   "outputs": [],
   "source": [
    "def calc(first, operator, second):\n",
    "    if operator == '+':\n",
    "        result = first + second\n",
    "    elif operator == '-':\n",
    "        result = first - second\n",
    "    else:\n",
    "        result = '(Bad operator)'\n",
    "\n",
    "    print(f'{first} {operator} {second} = {result}')"
   ]
  },
  {
   "cell_type": "code",
   "execution_count": 31,
   "id": "e9712d0b-0506-4be6-8ebd-15577ed5323e",
   "metadata": {},
   "outputs": [
    {
     "name": "stdout",
     "output_type": "stream",
     "text": [
      "10 + 5 = 15\n"
     ]
    }
   ],
   "source": [
    "calc(10, '+', 5)"
   ]
  },
  {
   "cell_type": "code",
   "execution_count": 33,
   "id": "48b66f62-f6de-4e94-9648-da19d8a445ea",
   "metadata": {},
   "outputs": [
    {
     "name": "stdout",
     "output_type": "stream",
     "text": [
      "5 + 10 = 15\n",
      "5 + 11 = 16\n",
      "5 + 12 = 17\n",
      "5 + 13 = 18\n",
      "5 + 14 = 19\n",
      "5 + 15 = 20\n",
      "5 + 16 = 21\n",
      "5 + 17 = 22\n",
      "5 + 18 = 23\n",
      "5 + 19 = 24\n"
     ]
    }
   ],
   "source": [
    "for i in range(10, 20):\n",
    "    calc(5, '+',  i)"
   ]
  },
  {
   "cell_type": "code",
   "execution_count": 34,
   "id": "6cff5003-cf9e-4087-a53c-fc716739250e",
   "metadata": {},
   "outputs": [
    {
     "name": "stdout",
     "output_type": "stream",
     "text": [
      "5 + 6 = 11\n"
     ]
    }
   ],
   "source": [
    "x = calc(5, '+', 6)"
   ]
  },
  {
   "cell_type": "code",
   "execution_count": 35,
   "id": "cf575ef8-fb57-47d5-acee-c61da661b190",
   "metadata": {},
   "outputs": [
    {
     "data": {
      "text/plain": [
       "NoneType"
      ]
     },
     "execution_count": 35,
     "metadata": {},
     "output_type": "execute_result"
    }
   ],
   "source": [
    "type(x)"
   ]
  },
  {
   "cell_type": "code",
   "execution_count": 36,
   "id": "b520318e-319e-4b8e-8b08-4c47c5242499",
   "metadata": {},
   "outputs": [
    {
     "name": "stdout",
     "output_type": "stream",
     "text": [
      "None\n"
     ]
    }
   ],
   "source": [
    "print(x)"
   ]
  },
  {
   "cell_type": "code",
   "execution_count": 37,
   "id": "8ca8d260-d345-4c8f-a0b7-9009d7c71da6",
   "metadata": {},
   "outputs": [],
   "source": [
    "def hello(name):\n",
    "    return f'Hello, {name}!'"
   ]
  },
  {
   "cell_type": "code",
   "execution_count": 38,
   "id": "625dd849-e1de-4d29-8718-f7f3b7daf626",
   "metadata": {},
   "outputs": [],
   "source": [
    "x = hello('world')"
   ]
  },
  {
   "cell_type": "code",
   "execution_count": 39,
   "id": "ae57d590-b665-4a4f-bbb1-ec0b8094382a",
   "metadata": {},
   "outputs": [
    {
     "name": "stdout",
     "output_type": "stream",
     "text": [
      "Hello, world!\n"
     ]
    }
   ],
   "source": [
    "print(x)"
   ]
  },
  {
   "cell_type": "code",
   "execution_count": 40,
   "id": "e78d5d5e-e188-423f-8979-4c338142b5fc",
   "metadata": {},
   "outputs": [
    {
     "data": {
      "text/plain": [
       "str"
      ]
     },
     "execution_count": 40,
     "metadata": {},
     "output_type": "execute_result"
    }
   ],
   "source": [
    "type(x)"
   ]
  },
  {
   "cell_type": "code",
   "execution_count": 41,
   "id": "09bffb0b-2de0-4a32-bcf6-f7db16f12de6",
   "metadata": {},
   "outputs": [],
   "source": [
    "x = 5"
   ]
  },
  {
   "cell_type": "markdown",
   "id": "606aa580-cccf-427a-9dc0-714ea50c207a",
   "metadata": {},
   "source": [
    "# Exercise: Calculator (with return value)\n",
    "\n",
    "1. Instead of the function printing and returning `None`, return a value.\n",
    "2. Now call the function 10 times, appending each return value to a list.\n",
    "3. Iterate over the list and print the results."
   ]
  },
  {
   "cell_type": "code",
   "execution_count": 42,
   "id": "18942f25-8fcb-48d9-a04b-b3312f305723",
   "metadata": {},
   "outputs": [],
   "source": [
    "def calc(first, operator, second):\n",
    "    if operator == '+':\n",
    "        result = first + second\n",
    "    elif operator == '-':\n",
    "        result = first - second\n",
    "    else:\n",
    "        result = '(Bad operator)'\n",
    "\n",
    "    return f'{first} {operator} {second} = {result}'\n",
    "\n",
    "output = []\n",
    "\n",
    "for i in range(5):\n",
    "    output.append(calc(i, '+', 10))\n",
    "    output.append(calc(i**3, '-', i))"
   ]
  },
  {
   "cell_type": "code",
   "execution_count": 43,
   "id": "24e75ea9-7a32-455f-87e1-a93d431967bd",
   "metadata": {},
   "outputs": [
    {
     "data": {
      "text/plain": [
       "['0 + 10 = 10',\n",
       " '0 - 0 = 0',\n",
       " '1 + 10 = 11',\n",
       " '1 - 1 = 0',\n",
       " '2 + 10 = 12',\n",
       " '8 - 2 = 6',\n",
       " '3 + 10 = 13',\n",
       " '27 - 3 = 24',\n",
       " '4 + 10 = 14',\n",
       " '64 - 4 = 60']"
      ]
     },
     "execution_count": 43,
     "metadata": {},
     "output_type": "execute_result"
    }
   ],
   "source": [
    "output"
   ]
  },
  {
   "cell_type": "code",
   "execution_count": 44,
   "id": "8092bcb5-7a0f-4aae-957a-829edbf9c543",
   "metadata": {},
   "outputs": [
    {
     "name": "stdout",
     "output_type": "stream",
     "text": [
      "0 + 10 = 10\n",
      "0 - 0 = 0\n",
      "1 + 10 = 11\n",
      "1 - 1 = 0\n",
      "2 + 10 = 12\n",
      "8 - 2 = 6\n",
      "3 + 10 = 13\n",
      "27 - 3 = 24\n",
      "4 + 10 = 14\n",
      "64 - 4 = 60\n"
     ]
    }
   ],
   "source": [
    "for one_item in output:\n",
    "    print(one_item)"
   ]
  },
  {
   "cell_type": "code",
   "execution_count": 45,
   "id": "fcb5875a-a242-4e78-94c7-1d4867413a14",
   "metadata": {},
   "outputs": [
    {
     "name": "stdout",
     "output_type": "stream",
     "text": [
      "0 + 10 = 10\n",
      "0 - 0 = 0\n",
      "1 + 10 = 11\n",
      "1 - 1 = 0\n",
      "2 + 10 = 12\n",
      "8 - 2 = 6\n",
      "3 + 10 = 13\n",
      "27 - 3 = 24\n",
      "4 + 10 = 14\n",
      "64 - 4 = 60\n"
     ]
    }
   ],
   "source": [
    "print('\\n'.join(output))"
   ]
  },
  {
   "cell_type": "markdown",
   "id": "0184cda1-c44f-4bec-bece-4aef812c45a5",
   "metadata": {},
   "source": [
    "# Next up\n",
    "\n",
    "- Docstrings\n",
    "- Keyword arguments\n",
    "- Special parameters: Defaults, `*args`, `**kwargs`"
   ]
  },
  {
   "cell_type": "code",
   "execution_count": 47,
   "id": "45ba4bf3-5c81-478f-8354-e225b9fae745",
   "metadata": {},
   "outputs": [],
   "source": [
    "# docstring\n",
    "\n",
    "def hello(name):\n",
    "    'This is the best function ever!'\n",
    "    return f'Hello, {name}.'"
   ]
  },
  {
   "cell_type": "code",
   "execution_count": 48,
   "id": "774b27dc-0985-4c08-8f4e-674b6558c1c3",
   "metadata": {},
   "outputs": [
    {
     "name": "stdout",
     "output_type": "stream",
     "text": [
      "Help on function hello in module __main__:\n",
      "\n",
      "hello(name)\n",
      "    This is the best function ever!\n",
      "\n"
     ]
    }
   ],
   "source": [
    "help(hello)"
   ]
  },
  {
   "cell_type": "code",
   "execution_count": 54,
   "id": "94348e7e-fa58-4895-a2a1-0061b2f3bde5",
   "metadata": {},
   "outputs": [],
   "source": [
    "# docstring\n",
    "\n",
    "def hello(name):\n",
    "\n",
    "    '''Returns a nice greeting\n",
    "    Expects: String with a name in it\n",
    "    Modifies: - \n",
    "    Returns: String with a greeting\n",
    "    '''\n",
    "\n",
    "    return f'Hello, {name}.' "
   ]
  },
  {
   "cell_type": "code",
   "execution_count": 55,
   "id": "45391587-66c3-43a3-aec1-82c987d10a7e",
   "metadata": {},
   "outputs": [
    {
     "name": "stdout",
     "output_type": "stream",
     "text": [
      "Help on function hello in module __main__:\n",
      "\n",
      "hello(name)\n",
      "    Returns a nice greeting\n",
      "    Expects: String with a name in it\n",
      "    Modifies: -\n",
      "    Returns: String with a greeting\n",
      "\n"
     ]
    }
   ],
   "source": [
    "help(hello)"
   ]
  },
  {
   "cell_type": "code",
   "execution_count": 53,
   "id": "84423f11-b656-409d-8f77-af26db1973f6",
   "metadata": {},
   "outputs": [
    {
     "data": {
      "text/plain": [
       "5"
      ]
     },
     "execution_count": 53,
     "metadata": {},
     "output_type": "execute_result"
    }
   ],
   "source": [
    "x"
   ]
  },
  {
   "cell_type": "code",
   "execution_count": 56,
   "id": "08166385-06b3-421e-90b1-3c6be02285d7",
   "metadata": {},
   "outputs": [],
   "source": [
    "def myfunc(a, b, c):\n",
    "    return f'{a=}, {b=}, {c=}' "
   ]
  },
  {
   "cell_type": "code",
   "execution_count": 57,
   "id": "2b06d31c-cefe-4a26-919f-813dfebaabae",
   "metadata": {},
   "outputs": [
    {
     "data": {
      "text/plain": [
       "'a=10, b=20, c=30'"
      ]
     },
     "execution_count": 57,
     "metadata": {},
     "output_type": "execute_result"
    }
   ],
   "source": [
    "myfunc(10, 20, 30)"
   ]
  },
  {
   "cell_type": "code",
   "execution_count": 59,
   "id": "6029c5a4-ec01-4617-b151-bdbd7267c01f",
   "metadata": {},
   "outputs": [
    {
     "data": {
      "text/plain": [
       "'a=10, b=20, c=[100, 200, 300]'"
      ]
     },
     "execution_count": 59,
     "metadata": {},
     "output_type": "execute_result"
    }
   ],
   "source": [
    "# parameters: a     b    c\n",
    "# arguments:  10    20   [100, 200, 300]\n",
    "\n",
    "myfunc(10, 20, [100, 200, 300])"
   ]
  },
  {
   "cell_type": "code",
   "execution_count": 62,
   "id": "ea89bdaa-9cd3-44a5-b182-fc10f8e45293",
   "metadata": {},
   "outputs": [
    {
     "data": {
      "text/plain": [
       "\"a='moshe', b=10, c={'a': 100}\""
      ]
     },
     "execution_count": 62,
     "metadata": {},
     "output_type": "execute_result"
    }
   ],
   "source": [
    "myfunc('moshe', 10, {'a':100})"
   ]
  },
  {
   "cell_type": "code",
   "execution_count": 64,
   "id": "29d2ded6-13a7-4c81-b625-b7d8c8adc557",
   "metadata": {},
   "outputs": [
    {
     "data": {
      "text/plain": [
       "'a=10, b=20, c=30'"
      ]
     },
     "execution_count": 64,
     "metadata": {},
     "output_type": "execute_result"
    }
   ],
   "source": [
    "# keyword argument -- name=value\n",
    "\n",
    "# parameters:  a    b    c    \n",
    "# arguments:  10    20   30\n",
    "\n",
    "myfunc(10, b=20, c=30)"
   ]
  },
  {
   "cell_type": "code",
   "execution_count": 67,
   "id": "05c6c4f0-6c64-449e-b43f-891b6072a2d4",
   "metadata": {},
   "outputs": [
    {
     "data": {
      "text/plain": [
       "'a=20, b=30, c=10'"
      ]
     },
     "execution_count": 67,
     "metadata": {},
     "output_type": "execute_result"
    }
   ],
   "source": [
    "# parameters:  a     b    c  \n",
    "# argumentse:  20   30   10\n",
    "\n",
    "myfunc(c=10, a=20, b=30)"
   ]
  },
  {
   "cell_type": "markdown",
   "id": "bb84b3c0-b2b1-4b39-83eb-0f60da2dbcb9",
   "metadata": {},
   "source": [
    "All positional must come before all keyword arguments."
   ]
  },
  {
   "cell_type": "code",
   "execution_count": 68,
   "id": "4b5e2978-86d4-41ca-82de-f39c8c5376d3",
   "metadata": {},
   "outputs": [
    {
     "ename": "SyntaxError",
     "evalue": "positional argument follows keyword argument (3022212719.py, line 1)",
     "output_type": "error",
     "traceback": [
      "\u001b[0;36m  Cell \u001b[0;32mIn[68], line 1\u001b[0;36m\u001b[0m\n\u001b[0;31m    myfunc(a=10, 20, 30)\u001b[0m\n\u001b[0m                       ^\u001b[0m\n\u001b[0;31mSyntaxError\u001b[0m\u001b[0;31m:\u001b[0m positional argument follows keyword argument\n"
     ]
    }
   ],
   "source": [
    "myfunc(a=10, 20, 30)"
   ]
  },
  {
   "cell_type": "markdown",
   "id": "05f91e46-d0a7-42de-bf1b-2eccf691ced8",
   "metadata": {},
   "source": [
    "# Exercise: count_chars\n",
    "\n",
    "1. Define a function, `count_chars`, that gets two arguments:\n",
    "    - `filename`, name of a text file\n",
    "    - `look_for`, a string with the characters we want to find\n",
    "2. The function should return a dict in which the keys are the characters from `look_for`, and the values are ints, the number of times each character appears in the named file."
   ]
  },
  {
   "cell_type": "code",
   "execution_count": 69,
   "id": "ce9925b9-258e-4803-8828-53b2ecde8d40",
   "metadata": {},
   "outputs": [
    {
     "data": {
      "text/plain": [
       "'/Users/reuven/Courses/Current/wdc-2024-python'"
      ]
     },
     "execution_count": 69,
     "metadata": {},
     "output_type": "execute_result"
    }
   ],
   "source": [
    "%pwd"
   ]
  },
  {
   "cell_type": "code",
   "execution_count": 73,
   "id": "84b9e97c-2b11-46d0-9573-dd6cfa11ade4",
   "metadata": {},
   "outputs": [],
   "source": [
    "def count_chars(filename, look_for):\n",
    "    output = {}\n",
    "\n",
    "    for one_character in look_for:   # go through each character we want to count\n",
    "        output[one_character] = 0    # and set the dict's value to be 0\n",
    "\n",
    "    for one_line in open(filename):           # go through the file, one line at a time\n",
    "        for one_character in one_line:        # go through the current line, one char at a time\n",
    "            if one_character in output:       # Do we want to count this character?\n",
    "                output[one_character] += 1    #   If so, add 1 to its value\n",
    "\n",
    "    return output"
   ]
  },
  {
   "cell_type": "code",
   "execution_count": 74,
   "id": "2f7d160d-ed34-4c08-9ffb-2fac18119478",
   "metadata": {},
   "outputs": [
    {
     "data": {
      "text/plain": [
       "{'a': 546, 'e': 701, 'i': 387, 'o': 277, 'u': 206}"
      ]
     },
     "execution_count": 74,
     "metadata": {},
     "output_type": "execute_result"
    }
   ],
   "source": [
    "count_chars('/etc/passwd', 'aeiou')"
   ]
  },
  {
   "cell_type": "code",
   "execution_count": 75,
   "id": "62c307b7-d19e-4c9e-8798-4971b57a73c7",
   "metadata": {},
   "outputs": [
    {
     "data": {
      "text/plain": [
       "{'v': 216, 'w': 38, 'x': 20, 'y': 144, 'z': 1}"
      ]
     },
     "execution_count": 75,
     "metadata": {},
     "output_type": "execute_result"
    }
   ],
   "source": [
    "count_chars('/etc/passwd', 'vwxyz')"
   ]
  },
  {
   "cell_type": "code",
   "execution_count": 76,
   "id": "b24783e9-a593-442b-a750-c0e36a510833",
   "metadata": {},
   "outputs": [
    {
     "data": {
      "text/plain": [
       "['abcde ', 'ghij klmno']"
      ]
     },
     "execution_count": 76,
     "metadata": {},
     "output_type": "execute_result"
    }
   ],
   "source": [
    "s = 'abcde fghij klmno'\n",
    "\n",
    "s.split('f')"
   ]
  },
  {
   "cell_type": "code",
   "execution_count": 77,
   "id": "e4fe529f-fa5d-49a4-b064-2c807b9dbaaa",
   "metadata": {},
   "outputs": [
    {
     "data": {
      "text/plain": [
       "['abcde', 'fghij', 'klmno']"
      ]
     },
     "execution_count": 77,
     "metadata": {},
     "output_type": "execute_result"
    }
   ],
   "source": [
    "s.split()"
   ]
  },
  {
   "cell_type": "markdown",
   "id": "bd5f0ce0-18f9-4012-b14f-de8bc56938aa",
   "metadata": {},
   "source": [
    "# Default argument values\n",
    "\n",
    "We can give a parameter a default argument value by adding `=` and a value to the parameter.\n",
    "\n",
    "Any optional parameter (with a default) comes after all of the mandatory ones."
   ]
  },
  {
   "cell_type": "code",
   "execution_count": 78,
   "id": "c8c72493-b7c7-4341-b507-548025e7ce33",
   "metadata": {},
   "outputs": [],
   "source": [
    "def add(first, second=10):\n",
    "    return first + second"
   ]
  },
  {
   "cell_type": "code",
   "execution_count": 80,
   "id": "3d3fb225-19cb-41cb-8593-15b2dbc0d100",
   "metadata": {},
   "outputs": [
    {
     "data": {
      "text/plain": [
       "50"
      ]
     },
     "execution_count": 80,
     "metadata": {},
     "output_type": "execute_result"
    }
   ],
   "source": [
    "# parameters: first second\n",
    "# arguments: 20     30\n",
    "\n",
    "add(20, 30)"
   ]
  },
  {
   "cell_type": "code",
   "execution_count": 81,
   "id": "c50bf78d-9bab-40cf-86da-2a0eec71830e",
   "metadata": {},
   "outputs": [
    {
     "data": {
      "text/plain": [
       "30"
      ]
     },
     "execution_count": 81,
     "metadata": {},
     "output_type": "execute_result"
    }
   ],
   "source": [
    "# parameters:  first  second\n",
    "# argumentse:    20    10\n",
    "\n",
    "add(20)"
   ]
  },
  {
   "cell_type": "code",
   "execution_count": 82,
   "id": "8fe4c5b2-f389-49d0-997d-9ac03ae9f4cb",
   "metadata": {},
   "outputs": [
    {
     "data": {
      "text/plain": [
       "(10,)"
      ]
     },
     "execution_count": 82,
     "metadata": {},
     "output_type": "execute_result"
    }
   ],
   "source": [
    "add.__defaults__"
   ]
  },
  {
   "cell_type": "code",
   "execution_count": 83,
   "id": "af3606e8-03d2-4357-be99-f96fa28966e4",
   "metadata": {},
   "outputs": [
    {
     "data": {
      "text/plain": [
       "100"
      ]
     },
     "execution_count": 83,
     "metadata": {},
     "output_type": "execute_result"
    }
   ],
   "source": [
    "x = 100\n",
    "\n",
    "def myfunc(y):\n",
    "    y = 200\n",
    "\n",
    "myfunc(x)\n",
    "x"
   ]
  },
  {
   "cell_type": "code",
   "execution_count": 84,
   "id": "15abf94a-f0e9-40f4-ad53-fad054789c2a",
   "metadata": {},
   "outputs": [
    {
     "data": {
      "text/plain": [
       "[10, 20, 30, '!']"
      ]
     },
     "execution_count": 84,
     "metadata": {},
     "output_type": "execute_result"
    }
   ],
   "source": [
    "x = [10, 20, 30]\n",
    "\n",
    "def myfunc(y):\n",
    "    y.append('!')\n",
    "\n",
    "myfunc(x)\n",
    "x"
   ]
  },
  {
   "cell_type": "code",
   "execution_count": 85,
   "id": "14bbe13d-83b2-4f87-a180-ae56139ccc83",
   "metadata": {},
   "outputs": [
    {
     "data": {
      "text/plain": [
       "[10, 20, 30, 1]"
      ]
     },
     "execution_count": 85,
     "metadata": {},
     "output_type": "execute_result"
    }
   ],
   "source": [
    "def add_one(x):\n",
    "    x.append(1)\n",
    "    return x\n",
    "\n",
    "mylist = [10, 20, 30]\n",
    "add_one(mylist)"
   ]
  },
  {
   "cell_type": "code",
   "execution_count": 86,
   "id": "a773cf15-1491-43bf-8ca3-1dbcef5b6a28",
   "metadata": {},
   "outputs": [
    {
     "data": {
      "text/plain": [
       "[10, 20, 30, 1]"
      ]
     },
     "execution_count": 86,
     "metadata": {},
     "output_type": "execute_result"
    }
   ],
   "source": [
    "mylist"
   ]
  },
  {
   "cell_type": "code",
   "execution_count": 87,
   "id": "06ae49f7-976a-4fdd-8805-4c79a93549e0",
   "metadata": {},
   "outputs": [
    {
     "data": {
      "text/plain": [
       "[10, 20, 30, 1, 1]"
      ]
     },
     "execution_count": 87,
     "metadata": {},
     "output_type": "execute_result"
    }
   ],
   "source": [
    "add_one(mylist)"
   ]
  },
  {
   "cell_type": "code",
   "execution_count": 88,
   "id": "ef54e66a-93ec-4653-a23a-f2bb2898c023",
   "metadata": {},
   "outputs": [
    {
     "data": {
      "text/plain": [
       "[10, 20, 30, 1, 1]"
      ]
     },
     "execution_count": 88,
     "metadata": {},
     "output_type": "execute_result"
    }
   ],
   "source": [
    "mylist"
   ]
  },
  {
   "cell_type": "code",
   "execution_count": 89,
   "id": "93cbc3d2-84c5-4ac0-85e0-01c7d530d6ba",
   "metadata": {},
   "outputs": [
    {
     "data": {
      "text/plain": [
       "[1]"
      ]
     },
     "execution_count": 89,
     "metadata": {},
     "output_type": "execute_result"
    }
   ],
   "source": [
    "# default version of add_one\n",
    "\n",
    "def add_one(x=[]):\n",
    "    x.append(1)\n",
    "    return x\n",
    "\n",
    "add_one()"
   ]
  },
  {
   "cell_type": "code",
   "execution_count": 90,
   "id": "07e0b634-0bc5-43ab-b7cb-0dbbf6921c57",
   "metadata": {},
   "outputs": [
    {
     "data": {
      "text/plain": [
       "[1, 1]"
      ]
     },
     "execution_count": 90,
     "metadata": {},
     "output_type": "execute_result"
    }
   ],
   "source": [
    "add_one()"
   ]
  },
  {
   "cell_type": "code",
   "execution_count": 92,
   "id": "91c597da-d6f0-4c52-a39f-0ae39c78a8a8",
   "metadata": {},
   "outputs": [
    {
     "data": {
      "text/plain": [
       "[1, 1, 1]"
      ]
     },
     "execution_count": 92,
     "metadata": {},
     "output_type": "execute_result"
    }
   ],
   "source": [
    "add_one()"
   ]
  },
  {
   "cell_type": "code",
   "execution_count": 93,
   "id": "4a031c14-bcdb-47aa-9100-50f195fcb93c",
   "metadata": {},
   "outputs": [
    {
     "data": {
      "text/plain": [
       "([1, 1, 1],)"
      ]
     },
     "execution_count": 93,
     "metadata": {},
     "output_type": "execute_result"
    }
   ],
   "source": [
    "add_one.__defaults__"
   ]
  },
  {
   "cell_type": "code",
   "execution_count": null,
   "id": "3246de57-819f-481c-b774-036ba6e54062",
   "metadata": {},
   "outputs": [],
   "source": [
    "# default version of add_one\n",
    "\n",
    "def add_one(x=None):\n",
    "    if x is None:\n",
    "        x = []\n",
    "    \n",
    "    x.append(1)\n",
    "    return x\n",
    "\n",
    "add_one()"
   ]
  },
  {
   "cell_type": "markdown",
   "id": "7ce7a640-47b8-4881-bc8f-6616a6c060f8",
   "metadata": {},
   "source": [
    "1. `*args`\n",
    "2. `**kwargs`\n",
    "3. Scoping\n",
    "4. List comprehensions\n",
    "5. Sorting + functions as arguments"
   ]
  },
  {
   "cell_type": "code",
   "execution_count": 94,
   "id": "e0b6ff65-50d3-44f4-b9f8-88f516315142",
   "metadata": {},
   "outputs": [
    {
     "data": {
      "text/plain": [
       "150"
      ]
     },
     "execution_count": 94,
     "metadata": {},
     "output_type": "execute_result"
    }
   ],
   "source": [
    "sum([10, 20, 30, 40, 50])"
   ]
  },
  {
   "cell_type": "code",
   "execution_count": 95,
   "id": "e19e326f-0b6d-4050-b45a-c2914eb3b465",
   "metadata": {},
   "outputs": [],
   "source": [
    "def mysum(numbers):\n",
    "    total = 0\n",
    "\n",
    "    for one_number in numbers:\n",
    "        total += one_number\n",
    "\n",
    "    return total"
   ]
  },
  {
   "cell_type": "code",
   "execution_count": 96,
   "id": "da6a4577-bd7b-4d27-81e6-43a6823782b8",
   "metadata": {},
   "outputs": [
    {
     "data": {
      "text/plain": [
       "150"
      ]
     },
     "execution_count": 96,
     "metadata": {},
     "output_type": "execute_result"
    }
   ],
   "source": [
    "mysum([10, 20, 30, 40, 50])"
   ]
  },
  {
   "cell_type": "code",
   "execution_count": 97,
   "id": "309598d8-d164-472f-9876-e40a2a838a9b",
   "metadata": {},
   "outputs": [],
   "source": [
    "def mysum(a=0, b=0, c=0, d=0, e=0):\n",
    "    return a + b + c + d + e"
   ]
  },
  {
   "cell_type": "code",
   "execution_count": 98,
   "id": "5e403aef-636e-41a0-93d4-007d38d3bdc5",
   "metadata": {},
   "outputs": [
    {
     "data": {
      "text/plain": [
       "150"
      ]
     },
     "execution_count": 98,
     "metadata": {},
     "output_type": "execute_result"
    }
   ],
   "source": [
    "mysum(10, 20, 30, 40, 50)"
   ]
  },
  {
   "cell_type": "code",
   "execution_count": 99,
   "id": "ff0f8a43-a43e-449f-9e73-7097971c8831",
   "metadata": {},
   "outputs": [
    {
     "ename": "TypeError",
     "evalue": "mysum() takes from 0 to 5 positional arguments but 6 were given",
     "output_type": "error",
     "traceback": [
      "\u001b[0;31m---------------------------------------------------------------------------\u001b[0m",
      "\u001b[0;31mTypeError\u001b[0m                                 Traceback (most recent call last)",
      "Cell \u001b[0;32mIn[99], line 1\u001b[0m\n\u001b[0;32m----> 1\u001b[0m \u001b[43mmysum\u001b[49m\u001b[43m(\u001b[49m\u001b[38;5;241;43m10\u001b[39;49m\u001b[43m,\u001b[49m\u001b[43m \u001b[49m\u001b[38;5;241;43m20\u001b[39;49m\u001b[43m,\u001b[49m\u001b[43m \u001b[49m\u001b[38;5;241;43m30\u001b[39;49m\u001b[43m,\u001b[49m\u001b[43m \u001b[49m\u001b[38;5;241;43m40\u001b[39;49m\u001b[43m,\u001b[49m\u001b[43m \u001b[49m\u001b[38;5;241;43m50\u001b[39;49m\u001b[43m,\u001b[49m\u001b[43m \u001b[49m\u001b[38;5;241;43m60\u001b[39;49m\u001b[43m)\u001b[49m\n",
      "\u001b[0;31mTypeError\u001b[0m: mysum() takes from 0 to 5 positional arguments but 6 were given"
     ]
    }
   ],
   "source": [
    "mysum(10, 20, 30, 40, 50, 60)"
   ]
  },
  {
   "cell_type": "code",
   "execution_count": 100,
   "id": "8d2bd4c2-0c26-452a-b39b-6062811cc8ce",
   "metadata": {},
   "outputs": [],
   "source": [
    "# args is a tuple with all positional args that no one else grabbed\n",
    "\n",
    "# parameters: *args\n",
    "# arguments: 10, 20, 30, 40, 50\n",
    "\n",
    "def mysum(*args):    # * \"splat\" ... args \n",
    "    total = 0\n",
    "\n",
    "    for one_number in args:\n",
    "        total += one_number\n",
    "\n",
    "    return total\n",
    "    "
   ]
  },
  {
   "cell_type": "code",
   "execution_count": 101,
   "id": "c4c8b33a-be6c-4f51-853a-110a12816e4a",
   "metadata": {},
   "outputs": [
    {
     "data": {
      "text/plain": [
       "150"
      ]
     },
     "execution_count": 101,
     "metadata": {},
     "output_type": "execute_result"
    }
   ],
   "source": [
    "mysum(10, 20, 30, 40, 50)"
   ]
  },
  {
   "cell_type": "code",
   "execution_count": 102,
   "id": "0680dffd-6bc9-452e-81af-b7bf8f75455c",
   "metadata": {},
   "outputs": [],
   "source": [
    "def myfunc(a, b, *args):\n",
    "    return f'{a=}, {b=}, {args=}'"
   ]
  },
  {
   "cell_type": "code",
   "execution_count": 103,
   "id": "bd0df6b3-1882-45b3-b635-0c18cb979e4d",
   "metadata": {},
   "outputs": [
    {
     "data": {
      "text/plain": [
       "'a=10, b=20, args=(30, 40, 50)'"
      ]
     },
     "execution_count": 103,
     "metadata": {},
     "output_type": "execute_result"
    }
   ],
   "source": [
    "myfunc(10, 20, 30, 40, 50)"
   ]
  },
  {
   "cell_type": "markdown",
   "id": "04e6b348-dc31-42b7-8005-7d790fb33968",
   "metadata": {
    "jp-MarkdownHeadingCollapsed": true
   },
   "source": [
    "# Parameter types\n",
    "\n",
    "1. Mandatory (positional or keyword)\n",
    "2. Optional (positional or keyword), with `=VALUE`\n",
    "3. `*args`, which gets all untaken positional arguments"
   ]
  },
  {
   "cell_type": "markdown",
   "id": "defa5ef6-590e-47d5-817d-b5c59fcf80f9",
   "metadata": {},
   "source": [
    "# Exercise: `all_lines`\n",
    "\n",
    "1. The function will take one mandatory argument, a string -- a filename we'll write to.\n",
    "2. The rest of the arguments (number not known in advance) are files we'll read from.\n",
    "3. The function should write all of the lines from the input files into the output file.\n",
    "\n",
    "Example:\n",
    "\n",
    "    all_lines('output.txt', \n",
    "              'input1.txt', 'input2.txt', 'input3.txt')"
   ]
  },
  {
   "cell_type": "code",
   "execution_count": 104,
   "id": "edbf62f0-9ec9-4329-b148-43e9c9aaab86",
   "metadata": {},
   "outputs": [
    {
     "ename": "NameError",
     "evalue": "name 'FILENAME' is not defined",
     "output_type": "error",
     "traceback": [
      "\u001b[0;31m---------------------------------------------------------------------------\u001b[0m",
      "\u001b[0;31mNameError\u001b[0m                                 Traceback (most recent call last)",
      "Cell \u001b[0;32mIn[104], line 1\u001b[0m\n\u001b[0;32m----> 1\u001b[0m \u001b[38;5;28;01mwith\u001b[39;00m \u001b[38;5;28mopen\u001b[39m(\u001b[43mFILENAME\u001b[49m, \u001b[38;5;124m'\u001b[39m\u001b[38;5;124mw\u001b[39m\u001b[38;5;124m'\u001b[39m) \u001b[38;5;28;01mas\u001b[39;00m outfile:\n\u001b[1;32m      2\u001b[0m     outfile\u001b[38;5;241m.\u001b[39mwrite(\u001b[38;5;124m'\u001b[39m\u001b[38;5;124msomething\u001b[39m\u001b[38;5;130;01m\\n\u001b[39;00m\u001b[38;5;124m'\u001b[39m) \n",
      "\u001b[0;31mNameError\u001b[0m: name 'FILENAME' is not defined"
     ]
    }
   ],
   "source": [
    "with open(FILENAME, 'w') as outfile:\n",
    "    outfile.write('something\\n') "
   ]
  },
  {
   "cell_type": "code",
   "execution_count": 105,
   "id": "f2661ef8-27c4-4a24-a890-1ffdc6f8b1e1",
   "metadata": {},
   "outputs": [
    {
     "data": {
      "text/plain": [
       "'/Users/reuven/Courses/Current/wdc-2024-python'"
      ]
     },
     "execution_count": 105,
     "metadata": {},
     "output_type": "execute_result"
    }
   ],
   "source": [
    "%pwd"
   ]
  },
  {
   "cell_type": "code",
   "execution_count": 109,
   "id": "cc93e530-f776-4ba1-bef5-b8faeb3785f5",
   "metadata": {},
   "outputs": [
    {
     "name": "stdout",
     "output_type": "stream",
     "text": [
      "Processing /etc/passwd...\n",
      "Processing wcfile.txt...\n",
      "Processing nums.txt...\n"
     ]
    }
   ],
   "source": [
    "def all_lines(outfilename, *args):\n",
    "    with open(outfilename, 'w') as outfile:\n",
    "        for infilename in args:\n",
    "            print(f'Processing {infilename}...')\n",
    "            for one_line in open(infilename):\n",
    "                outfile.write(one_line)\n",
    "\n",
    "all_lines('output.txt', '/etc/passwd', 'wcfile.txt', 'nums.txt')"
   ]
  },
  {
   "cell_type": "code",
   "execution_count": 110,
   "id": "26169694-bae0-44d0-973b-cce815ca2c7e",
   "metadata": {},
   "outputs": [
    {
     "name": "stdout",
     "output_type": "stream",
     "text": [
      "##\n",
      "# User Database\n",
      "# \n",
      "# Note that this file is consulted directly only when the system is running\n",
      "# in single-user mode.  At other times this information is provided by\n",
      "# Open Directory.\n",
      "#\n",
      "# See the opendirectoryd(8) man page for additional information about\n",
      "# Open Directory.\n",
      "##\n",
      "nobody:*:-2:-2:Unprivileged User:/var/empty:/usr/bin/false\n",
      "root:*:0:0:System Administrator:/var/root:/bin/sh\n",
      "daemon:*:1:1:System Services:/var/root:/usr/bin/false\n",
      "_uucp:*:4:4:Unix to Unix Copy Protocol:/var/spool/uucp:/usr/sbin/uucico\n",
      "_taskgated:*:13:13:Task Gate Daemon:/var/empty:/usr/bin/false\n",
      "_networkd:*:24:24:Network Services:/var/networkd:/usr/bin/false\n",
      "_installassistant:*:25:25:Install Assistant:/var/empty:/usr/bin/false\n",
      "_lp:*:26:26:Printing Services:/var/spool/cups:/usr/bin/false\n",
      "_postfix:*:27:27:Postfix Mail Server:/var/spool/postfix:/usr/bin/false\n",
      "_scsd:*:31:31:Service Configuration Service:/var/empty:/usr/bin/false\n",
      "_ces:*:32:32:Certificate Enrollment Service:/var/empty:/usr/bin/false\n",
      "_appstore:*:33:33:Mac App Store Service:/var/db/appstore:/usr/bin/false\n",
      "_mcxalr:*:54:54:MCX AppLaunch:/var/empty:/usr/bin/false\n",
      "_appleevents:*:55:55:AppleEvents Daemon:/var/empty:/usr/bin/false\n",
      "_geod:*:56:56:Geo Services Daemon:/var/db/geod:/usr/bin/false\n",
      "_devdocs:*:59:59:Developer Documentation:/var/empty:/usr/bin/false\n",
      "_sandbox:*:60:60:Seatbelt:/var/empty:/usr/bin/false\n",
      "_mdnsresponder:*:65:65:mDNSResponder:/var/empty:/usr/bin/false\n",
      "_ard:*:67:67:Apple Remote Desktop:/var/empty:/usr/bin/false\n",
      "_www:*:70:70:World Wide Web Server:/Library/WebServer:/usr/bin/false\n",
      "_eppc:*:71:71:Apple Events User:/var/empty:/usr/bin/false\n",
      "_cvs:*:72:72:CVS Server:/var/empty:/usr/bin/false\n",
      "_svn:*:73:73:SVN Server:/var/empty:/usr/bin/false\n",
      "_mysql:*:74:74:MySQL Server:/var/empty:/usr/bin/false\n",
      "_sshd:*:75:75:sshd Privilege separation:/var/empty:/usr/bin/false\n",
      "_qtss:*:76:76:QuickTime Streaming Server:/var/empty:/usr/bin/false\n",
      "_cyrus:*:77:6:Cyrus Administrator:/var/imap:/usr/bin/false\n",
      "_mailman:*:78:78:Mailman List Server:/var/empty:/usr/bin/false\n",
      "_appserver:*:79:79:Application Server:/var/empty:/usr/bin/false\n",
      "_clamav:*:82:82:ClamAV Daemon:/var/virusmails:/usr/bin/false\n",
      "_amavisd:*:83:83:AMaViS Daemon:/var/virusmails:/usr/bin/false\n",
      "_jabber:*:84:84:Jabber XMPP Server:/var/empty:/usr/bin/false\n",
      "_appowner:*:87:87:Application Owner:/var/empty:/usr/bin/false\n",
      "_windowserver:*:88:88:WindowServer:/var/empty:/usr/bin/false\n",
      "_spotlight:*:89:89:Spotlight:/var/empty:/usr/bin/false\n",
      "_tokend:*:91:91:Token Daemon:/var/empty:/usr/bin/false\n",
      "_securityagent:*:92:92:SecurityAgent:/var/db/securityagent:/usr/bin/false\n",
      "_calendar:*:93:93:Calendar:/var/empty:/usr/bin/false\n",
      "_teamsserver:*:94:94:TeamsServer:/var/teamsserver:/usr/bin/false\n",
      "_update_sharing:*:95:-2:Update Sharing:/var/empty:/usr/bin/false\n",
      "_installer:*:96:-2:Installer:/var/empty:/usr/bin/false\n",
      "_atsserver:*:97:97:ATS Server:/var/empty:/usr/bin/false\n",
      "_ftp:*:98:-2:FTP Daemon:/var/empty:/usr/bin/false\n",
      "_unknown:*:99:99:Unknown User:/var/empty:/usr/bin/false\n",
      "_softwareupdate:*:200:200:Software Update Service:/var/db/softwareupdate:/usr/bin/false\n",
      "_coreaudiod:*:202:202:Core Audio Daemon:/var/empty:/usr/bin/false\n",
      "_screensaver:*:203:203:Screensaver:/var/empty:/usr/bin/false\n",
      "_locationd:*:205:205:Location Daemon:/var/db/locationd:/usr/bin/false\n",
      "_trustevaluationagent:*:208:208:Trust Evaluation Agent:/var/empty:/usr/bin/false\n",
      "_timezone:*:210:210:AutoTimeZoneDaemon:/var/empty:/usr/bin/false\n",
      "_lda:*:211:211:Local Delivery Agent:/var/empty:/usr/bin/false\n",
      "_cvmsroot:*:212:212:CVMS Root:/var/empty:/usr/bin/false\n",
      "_usbmuxd:*:213:213:iPhone OS Device Helper:/var/db/lockdown:/usr/bin/false\n",
      "_dovecot:*:214:6:Dovecot Administrator:/var/empty:/usr/bin/false\n",
      "_dpaudio:*:215:215:DP Audio:/var/empty:/usr/bin/false\n",
      "_postgres:*:216:216:PostgreSQL Server:/var/empty:/usr/bin/false\n",
      "_krbtgt:*:217:-2:Kerberos Ticket Granting Ticket:/var/empty:/usr/bin/false\n",
      "_kadmin_admin:*:218:-2:Kerberos Admin Service:/var/empty:/usr/bin/false\n",
      "_kadmin_changepw:*:219:-2:Kerberos Change Password Service:/var/empty:/usr/bin/false\n",
      "_devicemgr:*:220:220:Device Management Server:/var/empty:/usr/bin/false\n",
      "_webauthserver:*:221:221:Web Auth Server:/var/empty:/usr/bin/false\n",
      "_netbios:*:222:222:NetBIOS:/var/empty:/usr/bin/false\n",
      "_warmd:*:224:224:Warm Daemon:/var/empty:/usr/bin/false\n",
      "_dovenull:*:227:227:Dovecot Authentication:/var/empty:/usr/bin/false\n",
      "_netstatistics:*:228:228:Network Statistics Daemon:/var/empty:/usr/bin/false\n",
      "_avbdeviced:*:229:-2:Ethernet AVB Device Daemon:/var/empty:/usr/bin/false\n",
      "_krb_krbtgt:*:230:-2:Open Directory Kerberos Ticket Granting Ticket:/var/empty:/usr/bin/false\n",
      "_krb_kadmin:*:231:-2:Open Directory Kerberos Admin Service:/var/empty:/usr/bin/false\n",
      "_krb_changepw:*:232:-2:Open Directory Kerberos Change Password Service:/var/empty:/usr/bin/false\n",
      "_krb_kerberos:*:233:-2:Open Directory Kerberos:/var/empty:/usr/bin/false\n",
      "_krb_anonymous:*:234:-2:Open Directory Kerberos Anonymous:/var/empty:/usr/bin/false\n",
      "_assetcache:*:235:235:Asset Cache Service:/var/empty:/usr/bin/false\n",
      "_coremediaiod:*:236:236:Core Media IO Daemon:/var/empty:/usr/bin/false\n",
      "_launchservicesd:*:239:239:_launchservicesd:/var/empty:/usr/bin/false\n",
      "_iconservices:*:240:240:IconServices:/var/empty:/usr/bin/false\n",
      "_distnote:*:241:241:DistNote:/var/empty:/usr/bin/false\n",
      "_nsurlsessiond:*:242:242:NSURLSession Daemon:/var/db/nsurlsessiond:/usr/bin/false\n",
      "_displaypolicyd:*:244:244:Display Policy Daemon:/var/empty:/usr/bin/false\n",
      "_astris:*:245:245:Astris Services:/var/db/astris:/usr/bin/false\n",
      "_krbfast:*:246:-2:Kerberos FAST Account:/var/empty:/usr/bin/false\n",
      "_gamecontrollerd:*:247:247:Game Controller Daemon:/var/empty:/usr/bin/false\n",
      "_mbsetupuser:*:248:248:Setup User:/var/setup:/bin/bash\n",
      "_ondemand:*:249:249:On Demand Resource Daemon:/var/db/ondemand:/usr/bin/false\n",
      "_xserverdocs:*:251:251:macOS Server Documents Service:/var/empty:/usr/bin/false\n",
      "_wwwproxy:*:252:252:WWW Proxy:/var/empty:/usr/bin/false\n",
      "_mobileasset:*:253:253:MobileAsset User:/var/ma:/usr/bin/false\n",
      "_findmydevice:*:254:254:Find My Device Daemon:/var/db/findmydevice:/usr/bin/false\n",
      "_datadetectors:*:257:257:DataDetectors:/var/db/datadetectors:/usr/bin/false\n",
      "_captiveagent:*:258:258:captiveagent:/var/empty:/usr/bin/false\n",
      "_ctkd:*:259:259:ctkd Account:/var/empty:/usr/bin/false\n",
      "_applepay:*:260:260:applepay Account:/var/db/applepay:/usr/bin/false\n",
      "_hidd:*:261:261:HID Service User:/var/db/hidd:/usr/bin/false\n",
      "_cmiodalassistants:*:262:262:CoreMedia IO Assistants User:/var/db/cmiodalassistants:/usr/bin/false\n",
      "_analyticsd:*:263:263:Analytics Daemon:/var/db/analyticsd:/usr/bin/false\n",
      "_fpsd:*:265:265:FPS Daemon:/var/db/fpsd:/usr/bin/false\n",
      "_timed:*:266:266:Time Sync Daemon:/var/db/timed:/usr/bin/false\n",
      "_nearbyd:*:268:268:Proximity and Ranging Daemon:/var/db/nearbyd:/usr/bin/false\n",
      "_reportmemoryexception:*:269:269:ReportMemoryException:/var/db/reportmemoryexception:/usr/bin/false\n",
      "_driverkit:*:270:270:DriverKit:/var/empty:/usr/bin/false\n",
      "_diskimagesiod:*:271:271:DiskImages IO Daemon:/var/db/diskimagesiod:/usr/bin/false\n",
      "_logd:*:272:272:Log Daemon:/var/db/diagnostics:/usr/bin/false\n",
      "_appinstalld:*:273:273:App Install Daemon:/var/db/appinstalld:/usr/bin/false\n",
      "_installcoordinationd:*:274:274:Install Coordination Daemon:/var/db/installcoordinationd:/usr/bin/false\n",
      "_demod:*:275:275:Demo Daemon:/var/empty:/usr/bin/false\n",
      "_rmd:*:277:277:Remote Management Daemon:/var/db/rmd:/usr/bin/false\n",
      "_accessoryupdater:*:278:278:Accessory Update Daemon:/var/db/accessoryupdater:/usr/bin/false\n",
      "_knowledgegraphd:*:279:279:Knowledge Graph Daemon:/var/db/knowledgegraphd:/usr/bin/false\n",
      "_coreml:*:280:280:CoreML Services:/var/db/coreml:/usr/bin/false\n",
      "_sntpd:*:281:281:SNTP Server Daemon:/var/empty:/usr/bin/false\n",
      "_trustd:*:282:282:trustd:/var/empty:/usr/bin/false\n",
      "_mmaintenanced:*:283:283:mmaintenanced:/var/db/mmaintenanced:/usr/bin/false\n",
      "_darwindaemon:*:284:284:Darwin Daemon:/var/db/darwindaemon:/usr/bin/false\n",
      "_notification_proxy:*:285:285:Notification Proxy:/var/empty:/usr/bin/false\n",
      "_avphidbridge:*:288:288:Apple Virtual Platform HID Bridge:/var/empty:/usr/bin/false\n",
      "_biome:*:289:289:Biome:/var/db/biome:/usr/bin/false\n",
      "_backgroundassets:*:291:291:Background Assets Service:/var/empty:/usr/bin/false\n",
      "_mobilegestalthelper:*:293:293:MobileGestaltHelper:/var/empty:/usr/bin/false\n",
      "_audiomxd:*:294:294:Audio and MediaExperience Daemon:/var/db/audiomxd:/usr/bin/false\n",
      "_terminusd:*:295:295:Terminus:/var/db/terminus:/usr/bin/false\n",
      "_neuralengine:*:296:296:AppleNeuralEngine:/var/db/neuralengine:/usr/bin/false\n",
      "_eligibilityd:*:297:297:OS Eligibility Daemon:/var/db/eligibilityd:/usr/bin/false\n",
      "_systemstatusd:*:298:298:SystemStatus Services:/var/empty:/usr/bin/false\n",
      "_aonsensed:*:300:300:Always On Sense Daemon:/var/db/aonsensed:/usr/bin/false\n",
      "_modelmanagerd:*:301:301:Model Manager:/var/db/modelmanagerd:/usr/bin/false\n",
      "_reportsystemmemory:*:302:302:ReportSystemMemory:/var/empty:/usr/bin/false\n",
      "_swtransparencyd:*:303:303:Software Transparency Services:/var/db/swtransparencyd:/usr/bin/false\n",
      "_naturallanguaged:*:304:304:Natural Language Services:/var/db/com.apple.naturallanguaged:/usr/bin/false\n",
      "_oahd:*:441:441:OAH Daemon:/var/empty:/usr/bin/false\n",
      "This is a test file.\n",
      "\n",
      "It contains 28 words and 20 different words.\n",
      "\n",
      "It also contains 165 characters.\n",
      "\n",
      "It also contains 11 lines.\n",
      "\n",
      "It is also self-referential.\n",
      "\n",
      "Wow!\n",
      "5\n",
      "\t10     \n",
      "\t20\n",
      "  \t3\n",
      "\t\t   \t20        \n",
      "\n",
      " 25\n"
     ]
    }
   ],
   "source": [
    "!cat output.txt"
   ]
  },
  {
   "cell_type": "code",
   "execution_count": 112,
   "id": "343ae34c-57ce-4a0f-ac66-6d4217120b4d",
   "metadata": {},
   "outputs": [
    {
     "name": "stdout",
     "output_type": "stream",
     "text": [
      "Processing /etc/passwd...\n",
      "Processing wcfile.txt...\n",
      "Processing nums.txt...\n"
     ]
    }
   ],
   "source": [
    "def all_lines(outfilename, *args):\n",
    "    with open(outfilename, 'w') as outfile:   # with for writing to a file\n",
    "        for infilename in args:\n",
    "            print(f'Processing {infilename}...')\n",
    "            with open(infilename) as infile:   # with for reading from files\n",
    "                for one_line in infile:\n",
    "                    outfile.write(one_line)\n",
    "\n",
    "all_lines('output.txt', '/etc/passwd', 'wcfile.txt', 'nums.txt')"
   ]
  },
  {
   "cell_type": "markdown",
   "id": "1ece3619-2420-4039-9401-a41187a46820",
   "metadata": {},
   "source": [
    "# `**kwargs` \n",
    "\n",
    "This parameter is a dict, which gets all of the keyword args that no one else got"
   ]
  },
  {
   "cell_type": "code",
   "execution_count": 113,
   "id": "0f9b8de8-94cb-4a81-bccb-ca44d440de48",
   "metadata": {},
   "outputs": [],
   "source": [
    "def myfunc(a, b, **kwargs):\n",
    "    return f'{a=}, {b=}, {kwargs=}'"
   ]
  },
  {
   "cell_type": "code",
   "execution_count": 114,
   "id": "e627997b-145c-42db-9fa4-b0244efe754c",
   "metadata": {},
   "outputs": [
    {
     "data": {
      "text/plain": [
       "'a=10, b=20, kwargs={}'"
      ]
     },
     "execution_count": 114,
     "metadata": {},
     "output_type": "execute_result"
    }
   ],
   "source": [
    "myfunc(10, 20)"
   ]
  },
  {
   "cell_type": "code",
   "execution_count": 115,
   "id": "9b003da1-508f-424e-9fb1-544cceaebafb",
   "metadata": {},
   "outputs": [
    {
     "ename": "TypeError",
     "evalue": "myfunc() takes 2 positional arguments but 3 were given",
     "output_type": "error",
     "traceback": [
      "\u001b[0;31m---------------------------------------------------------------------------\u001b[0m",
      "\u001b[0;31mTypeError\u001b[0m                                 Traceback (most recent call last)",
      "Cell \u001b[0;32mIn[115], line 1\u001b[0m\n\u001b[0;32m----> 1\u001b[0m \u001b[43mmyfunc\u001b[49m\u001b[43m(\u001b[49m\u001b[38;5;241;43m10\u001b[39;49m\u001b[43m,\u001b[49m\u001b[43m \u001b[49m\u001b[38;5;241;43m20\u001b[39;49m\u001b[43m,\u001b[49m\u001b[43m \u001b[49m\u001b[38;5;241;43m30\u001b[39;49m\u001b[43m)\u001b[49m\n",
      "\u001b[0;31mTypeError\u001b[0m: myfunc() takes 2 positional arguments but 3 were given"
     ]
    }
   ],
   "source": [
    "myfunc(10, 20, 30)"
   ]
  },
  {
   "cell_type": "code",
   "execution_count": 116,
   "id": "3469c648-08ed-44d0-adeb-b80fc1795565",
   "metadata": {},
   "outputs": [
    {
     "data": {
      "text/plain": [
       "\"a=10, b=20, kwargs={'x': 100, 'y': 200}\""
      ]
     },
     "execution_count": 116,
     "metadata": {},
     "output_type": "execute_result"
    }
   ],
   "source": [
    "myfunc(10, 20, x=100, y=200)"
   ]
  },
  {
   "cell_type": "code",
   "execution_count": 118,
   "id": "a655ad62-0a68-4bf9-b7de-fc93028ccc5c",
   "metadata": {},
   "outputs": [
    {
     "data": {
      "text/plain": [
       "\"a=10, b=20, kwargs={'x': 100, 'y': 200}\""
      ]
     },
     "execution_count": 118,
     "metadata": {},
     "output_type": "execute_result"
    }
   ],
   "source": [
    "myfunc(a=10, b=20, x=100, y=200)"
   ]
  },
  {
   "cell_type": "code",
   "execution_count": 120,
   "id": "d24ce6f3-741e-4aea-8bce-f390edf9c37c",
   "metadata": {},
   "outputs": [
    {
     "data": {
      "text/plain": [
       "\"a=10, b=20, kwargs={'x': 100, 'y': 200}\""
      ]
     },
     "execution_count": 120,
     "metadata": {},
     "output_type": "execute_result"
    }
   ],
   "source": [
    "# parameters:   a     b      kwargs\n",
    "# arguments:   10    20     {'x':100, 'y':200}\n",
    "\n",
    "myfunc(x=100, y=200, a=10, b=20)   # 4 keyword arguments"
   ]
  },
  {
   "cell_type": "code",
   "execution_count": 121,
   "id": "a92f40f5-b289-4293-99de-4385ab3a7f68",
   "metadata": {
    "scrolled": true
   },
   "outputs": [
    {
     "ename": "SyntaxError",
     "evalue": "positional argument follows keyword argument (1334905914.py, line 1)",
     "output_type": "error",
     "traceback": [
      "\u001b[0;36m  Cell \u001b[0;32mIn[121], line 1\u001b[0;36m\u001b[0m\n\u001b[0;31m    myfunc(x=100, y=200, 10, 20)\u001b[0m\n\u001b[0m                               ^\u001b[0m\n\u001b[0;31mSyntaxError\u001b[0m\u001b[0;31m:\u001b[0m positional argument follows keyword argument\n"
     ]
    }
   ],
   "source": [
    "myfunc(x=100, y=200, 10, 20)"
   ]
  },
  {
   "cell_type": "code",
   "execution_count": null,
   "id": "327fd43f-9587-4011-bcd7-e9db78d848d3",
   "metadata": {},
   "outputs": [],
   "source": []
  },
  {
   "cell_type": "code",
   "execution_count": 123,
   "id": "4bea456d-5587-45d6-a0f5-414631a7b7ef",
   "metadata": {},
   "outputs": [
    {
     "ename": "TypeError",
     "evalue": "myfunc() got multiple values for argument 'a'",
     "output_type": "error",
     "traceback": [
      "\u001b[0;31m---------------------------------------------------------------------------\u001b[0m",
      "\u001b[0;31mTypeError\u001b[0m                                 Traceback (most recent call last)",
      "Cell \u001b[0;32mIn[123], line 1\u001b[0m\n\u001b[0;32m----> 1\u001b[0m \u001b[43mmyfunc\u001b[49m\u001b[43m(\u001b[49m\u001b[38;5;241;43m10\u001b[39;49m\u001b[43m,\u001b[49m\u001b[43m \u001b[49m\u001b[38;5;241;43m20\u001b[39;49m\u001b[43m,\u001b[49m\u001b[43m \u001b[49m\u001b[43ma\u001b[49m\u001b[38;5;241;43m=\u001b[39;49m\u001b[38;5;241;43m100\u001b[39;49m\u001b[43m,\u001b[49m\u001b[43m \u001b[49m\u001b[43mb\u001b[49m\u001b[38;5;241;43m=\u001b[39;49m\u001b[38;5;241;43m200\u001b[39;49m\u001b[43m)\u001b[49m\n",
      "\u001b[0;31mTypeError\u001b[0m: myfunc() got multiple values for argument 'a'"
     ]
    }
   ],
   "source": [
    "myfunc(10, 20, a=100, b=200)"
   ]
  },
  {
   "cell_type": "markdown",
   "id": "bd325210-1798-4e02-858c-eee0e5691660",
   "metadata": {},
   "source": [
    "# Parameter types\n",
    "\n",
    "1. Mandatory (positional or keyword)\n",
    "2. Optional (positional or keyword), with `=VALUE`\n",
    "3. `*args`, which gets all untaken positional arguments -- `args` is a tuple\n",
    "4. `**kwargs`, which gets all untaken *keyword* arguments -- `kwargs` is a dict"
   ]
  },
  {
   "cell_type": "markdown",
   "id": "ae13e366-58df-4b13-8b34-939be434398b",
   "metadata": {},
   "source": [
    "# Exercise: XML\n",
    "\n",
    "Write a function, `xml`, that returns a string of XML based on input arguments\n",
    "\n",
    "1. If I call `xml` with one string argument, that's the opening + closing tag:\n",
    "\n",
    "```python\n",
    "xml('tagname')   # '<tagname></tagname>'\n",
    "```\n",
    "\n",
    "2. If I call `xml` with two string arguments, then the first is the tag and the second is the content in between the tags.\n",
    "\n",
    "```python\n",
    "xml('tagname', 'text')   # '<tagname>text</tagname>'\n",
    "```\n",
    "\n",
    "3. I can add one or more keyword arguments, which are attributes in the opening tag:\n",
    "\n",
    "```python\n",
    "xml('tagname', 'text', x=100, y=200)   # '<tagname x=\"100\" y=\"200\">text</tagname>'\n",
    "```\n"
   ]
  },
  {
   "cell_type": "code",
   "execution_count": 131,
   "id": "2333fa57-a657-4769-bc3c-342847d831d1",
   "metadata": {},
   "outputs": [
    {
     "name": "stdout",
     "output_type": "stream",
     "text": [
      "<tagname></tagname>\n",
      "<tagname>text</tagname>\n",
      "<tagname x=\"100\" y=\"200\">text</tagname>\n",
      "<tagname x=\"100\" y=\"200\" z=\"300\">text</tagname>\n"
     ]
    }
   ],
   "source": [
    "def xml(tagname, text='', **kwargs):\n",
    "    attributes = ''\n",
    "    for key, value in kwargs.items():\n",
    "        attributes += f' {key}=\"{value}\"'\n",
    "\n",
    "    return f'<{tagname}{attributes}>{text}</{tagname}>'\n",
    "\n",
    "print(xml('tagname'))\n",
    "print(xml('tagname', 'text'))\n",
    "print(xml('tagname', 'text', x=100, y=200))\n",
    "print(xml('tagname', 'text', x=100, y=200, z=300))"
   ]
  },
  {
   "cell_type": "code",
   "execution_count": 132,
   "id": "7af92fd7-bfb3-4a6d-ba2b-06c34870a8bd",
   "metadata": {},
   "outputs": [
    {
     "name": "stdout",
     "output_type": "stream",
     "text": [
      "<tagname></tagname>\n",
      "<tagname>text</tagname>\n",
      "<tagnamex=\"100\" y=\"200\">text</tagname>\n",
      "<tagnamex=\"100\" y=\"200\" z=\"300\">text</tagname>\n"
     ]
    }
   ],
   "source": [
    "def xml(tagname, text='', **kwargs):\n",
    "    attributes = []\n",
    "    for key, value in kwargs.items():\n",
    "        attributes.append(f'{key}=\"{value}\"')\n",
    "\n",
    "    return f'<{tagname}{' '.join(attributes)}>{text}</{tagname}>'\n",
    "\n",
    "print(xml('tagname'))\n",
    "print(xml('tagname', 'text'))\n",
    "print(xml('tagname', 'text', x=100, y=200))\n",
    "print(xml('tagname', 'text', x=100, y=200, z=300))"
   ]
  },
  {
   "cell_type": "code",
   "execution_count": 133,
   "id": "ed3f42c5-e259-47fb-a711-4267465ba3af",
   "metadata": {},
   "outputs": [
    {
     "data": {
      "text/plain": [
       "81"
      ]
     },
     "execution_count": 133,
     "metadata": {},
     "output_type": "execute_result"
    }
   ],
   "source": [
    "x = 100\n",
    "\n",
    "for i in range(10):\n",
    "    x = i ** 2\n",
    "\n",
    "x"
   ]
  },
  {
   "cell_type": "code",
   "execution_count": 134,
   "id": "0b53453b-cccd-4382-a756-fec05b67990f",
   "metadata": {},
   "outputs": [
    {
     "name": "stdout",
     "output_type": "stream",
     "text": [
      "x = 100\n"
     ]
    }
   ],
   "source": [
    "x = 100\n",
    "\n",
    "print(f'x = {x}')"
   ]
  },
  {
   "cell_type": "code",
   "execution_count": 135,
   "id": "9555bea2-2609-473d-b167-c24fd5bd5af1",
   "metadata": {},
   "outputs": [
    {
     "name": "stdout",
     "output_type": "stream",
     "text": [
      "Before, x = 100\n",
      "In myfunc, x = 100\n",
      "After, x = 100\n"
     ]
    }
   ],
   "source": [
    "x = 100\n",
    "\n",
    "def myfunc():\n",
    "    print(f'In myfunc, x = {x}')   # is x local? no. Is x global? Yes -- 100\n",
    "\n",
    "print(f'Before, x = {x}')   # is there a global x? Yes! 100\n",
    "myfunc()\n",
    "print(f'After, x = {x}')     # is there a global x? Yes, 100"
   ]
  },
  {
   "cell_type": "markdown",
   "id": "3a8d7bf8-8ece-4c1f-8bf9-d8badeebb60e",
   "metadata": {},
   "source": [
    "# Scoping in Python\n",
    "\n",
    "- L -- local -- start here if we're in a function body\n",
    "- (E -- enclosing function)\n",
    "- G -- global -- start here if we're outside of a function body\n",
    "- B -- builtin"
   ]
  },
  {
   "cell_type": "code",
   "execution_count": 137,
   "id": "4a21bff8-1350-47db-a0e0-306374ba59a2",
   "metadata": {},
   "outputs": [
    {
     "data": {
      "text/plain": [
       "()"
      ]
     },
     "execution_count": 137,
     "metadata": {},
     "output_type": "execute_result"
    }
   ],
   "source": [
    "myfunc.__code__.co_varnames    # get the names of local variables"
   ]
  },
  {
   "cell_type": "code",
   "execution_count": 138,
   "id": "8e28f23f-93ae-48d9-a364-2eee1decf66a",
   "metadata": {},
   "outputs": [
    {
     "name": "stdout",
     "output_type": "stream",
     "text": [
      "Before, x = 100\n",
      "In myfunc, x = 200\n",
      "After, x = 100\n"
     ]
    }
   ],
   "source": [
    "x = 100\n",
    "\n",
    "def myfunc():\n",
    "    x = 200   \n",
    "    print(f'In myfunc, x = {x}')     # is x local? yes, 200\n",
    "\n",
    "print(f'Before, x = {x}')     # is x global? yes, 100\n",
    "myfunc()\n",
    "print(f'After, x = {x}')      # is x global? yes, 100"
   ]
  },
  {
   "cell_type": "code",
   "execution_count": 139,
   "id": "297cb29e-3e69-4cb8-91c5-6a01faa11567",
   "metadata": {},
   "outputs": [
    {
     "data": {
      "text/plain": [
       "100"
      ]
     },
     "execution_count": 139,
     "metadata": {},
     "output_type": "execute_result"
    }
   ],
   "source": [
    "globals()['x']"
   ]
  },
  {
   "cell_type": "code",
   "execution_count": 140,
   "id": "3aa896a3-242f-4d87-b14a-c16fe29f0e73",
   "metadata": {},
   "outputs": [
    {
     "data": {
      "text/plain": [
       "('x',)"
      ]
     },
     "execution_count": 140,
     "metadata": {},
     "output_type": "execute_result"
    }
   ],
   "source": [
    "myfunc.__code__.co_varnames"
   ]
  },
  {
   "cell_type": "code",
   "execution_count": 141,
   "id": "07ac1a9b-8539-41d5-8ed7-bd3177444c2b",
   "metadata": {},
   "outputs": [
    {
     "name": "stdout",
     "output_type": "stream",
     "text": [
      "Before, x = 100\n"
     ]
    },
    {
     "ename": "UnboundLocalError",
     "evalue": "cannot access local variable 'x' where it is not associated with a value",
     "output_type": "error",
     "traceback": [
      "\u001b[0;31m---------------------------------------------------------------------------\u001b[0m",
      "\u001b[0;31mUnboundLocalError\u001b[0m                         Traceback (most recent call last)",
      "Cell \u001b[0;32mIn[141], line 8\u001b[0m\n\u001b[1;32m      5\u001b[0m     x \u001b[38;5;241m=\u001b[39m \u001b[38;5;241m200\u001b[39m   \n\u001b[1;32m      7\u001b[0m \u001b[38;5;28mprint\u001b[39m(\u001b[38;5;124mf\u001b[39m\u001b[38;5;124m'\u001b[39m\u001b[38;5;124mBefore, x = \u001b[39m\u001b[38;5;132;01m{\u001b[39;00mx\u001b[38;5;132;01m}\u001b[39;00m\u001b[38;5;124m'\u001b[39m)     \n\u001b[0;32m----> 8\u001b[0m \u001b[43mmyfunc\u001b[49m\u001b[43m(\u001b[49m\u001b[43m)\u001b[49m\n\u001b[1;32m      9\u001b[0m \u001b[38;5;28mprint\u001b[39m(\u001b[38;5;124mf\u001b[39m\u001b[38;5;124m'\u001b[39m\u001b[38;5;124mAfter, x = \u001b[39m\u001b[38;5;132;01m{\u001b[39;00mx\u001b[38;5;132;01m}\u001b[39;00m\u001b[38;5;124m'\u001b[39m)  \n",
      "Cell \u001b[0;32mIn[141], line 4\u001b[0m, in \u001b[0;36mmyfunc\u001b[0;34m()\u001b[0m\n\u001b[1;32m      3\u001b[0m \u001b[38;5;28;01mdef\u001b[39;00m \u001b[38;5;21mmyfunc\u001b[39m():\n\u001b[0;32m----> 4\u001b[0m     \u001b[38;5;28mprint\u001b[39m(\u001b[38;5;124mf\u001b[39m\u001b[38;5;124m'\u001b[39m\u001b[38;5;124mIn myfunc, x = \u001b[39m\u001b[38;5;132;01m{\u001b[39;00m\u001b[43mx\u001b[49m\u001b[38;5;132;01m}\u001b[39;00m\u001b[38;5;124m'\u001b[39m)   \n\u001b[1;32m      5\u001b[0m     x \u001b[38;5;241m=\u001b[39m \u001b[38;5;241m200\u001b[39m\n",
      "\u001b[0;31mUnboundLocalError\u001b[0m: cannot access local variable 'x' where it is not associated with a value"
     ]
    }
   ],
   "source": [
    "x = 100\n",
    "\n",
    "def myfunc():\n",
    "    print(f'In myfunc, x = {x}')      # is x local? yes, \n",
    "    x = 200   \n",
    "\n",
    "print(f'Before, x = {x}')      # is x global? yes, 100 \n",
    "myfunc()\n",
    "print(f'After, x = {x}')  "
   ]
  },
  {
   "cell_type": "code",
   "execution_count": null,
   "id": "870c548c-03ff-4058-aade-0dea3c959074",
   "metadata": {},
   "outputs": [],
   "source": [
    "# hoisting problem"
   ]
  },
  {
   "cell_type": "code",
   "execution_count": 142,
   "id": "02cd8a93-30ae-4cf0-aaef-8fa2a1efb2a8",
   "metadata": {},
   "outputs": [
    {
     "name": "stdout",
     "output_type": "stream",
     "text": [
      "Before, x = 100\n"
     ]
    },
    {
     "ename": "UnboundLocalError",
     "evalue": "cannot access local variable 'x' where it is not associated with a value",
     "output_type": "error",
     "traceback": [
      "\u001b[0;31m---------------------------------------------------------------------------\u001b[0m",
      "\u001b[0;31mUnboundLocalError\u001b[0m                         Traceback (most recent call last)",
      "Cell \u001b[0;32mIn[142], line 8\u001b[0m\n\u001b[1;32m      5\u001b[0m     \u001b[38;5;28mprint\u001b[39m(\u001b[38;5;124mf\u001b[39m\u001b[38;5;124m'\u001b[39m\u001b[38;5;124mIn myfunc, x = \u001b[39m\u001b[38;5;132;01m{\u001b[39;00mx\u001b[38;5;132;01m}\u001b[39;00m\u001b[38;5;124m'\u001b[39m)      \u001b[38;5;66;03m# is x local? yes, \u001b[39;00m\n\u001b[1;32m      7\u001b[0m \u001b[38;5;28mprint\u001b[39m(\u001b[38;5;124mf\u001b[39m\u001b[38;5;124m'\u001b[39m\u001b[38;5;124mBefore, x = \u001b[39m\u001b[38;5;132;01m{\u001b[39;00mx\u001b[38;5;132;01m}\u001b[39;00m\u001b[38;5;124m'\u001b[39m)      \u001b[38;5;66;03m# is x global? yes, 100 \u001b[39;00m\n\u001b[0;32m----> 8\u001b[0m \u001b[43mmyfunc\u001b[49m\u001b[43m(\u001b[49m\u001b[43m)\u001b[49m\n\u001b[1;32m      9\u001b[0m \u001b[38;5;28mprint\u001b[39m(\u001b[38;5;124mf\u001b[39m\u001b[38;5;124m'\u001b[39m\u001b[38;5;124mAfter, x = \u001b[39m\u001b[38;5;132;01m{\u001b[39;00mx\u001b[38;5;132;01m}\u001b[39;00m\u001b[38;5;124m'\u001b[39m)  \n",
      "Cell \u001b[0;32mIn[142], line 4\u001b[0m, in \u001b[0;36mmyfunc\u001b[0;34m()\u001b[0m\n\u001b[1;32m      3\u001b[0m \u001b[38;5;28;01mdef\u001b[39;00m \u001b[38;5;21mmyfunc\u001b[39m():\n\u001b[0;32m----> 4\u001b[0m     \u001b[43mx\u001b[49m \u001b[38;5;241m+\u001b[39m\u001b[38;5;241m=\u001b[39m \u001b[38;5;241m1\u001b[39m     \u001b[38;5;66;03m# x = x + 1\u001b[39;00m\n\u001b[1;32m      5\u001b[0m     \u001b[38;5;28mprint\u001b[39m(\u001b[38;5;124mf\u001b[39m\u001b[38;5;124m'\u001b[39m\u001b[38;5;124mIn myfunc, x = \u001b[39m\u001b[38;5;132;01m{\u001b[39;00mx\u001b[38;5;132;01m}\u001b[39;00m\u001b[38;5;124m'\u001b[39m)\n",
      "\u001b[0;31mUnboundLocalError\u001b[0m: cannot access local variable 'x' where it is not associated with a value"
     ]
    }
   ],
   "source": [
    "x = 100\n",
    "\n",
    "def myfunc():\n",
    "    x += 1     # x = x + 1\n",
    "    print(f'In myfunc, x = {x}')      # is x local? yes, \n",
    "\n",
    "print(f'Before, x = {x}')      # is x global? yes, 100 \n",
    "myfunc()\n",
    "print(f'After, x = {x}')  "
   ]
  },
  {
   "cell_type": "code",
   "execution_count": 143,
   "id": "b8a2e5aa-9c43-45dc-ba2d-bad429a50b73",
   "metadata": {},
   "outputs": [
    {
     "name": "stdout",
     "output_type": "stream",
     "text": [
      "Before, x = 100\n",
      "In myfunc, x = 200\n",
      "After, x = 200\n"
     ]
    }
   ],
   "source": [
    "x = 100\n",
    "\n",
    "def myfunc():\n",
    "    global x    # this tells the compiler -- don't create a local x when we assign to it!\n",
    "    x = 200\n",
    "    print(f'In myfunc, x = {x}') \n",
    "\n",
    "print(f'Before, x = {x}')      \n",
    "myfunc()\n",
    "print(f'After, x = {x}')  "
   ]
  },
  {
   "cell_type": "code",
   "execution_count": 144,
   "id": "f892a9ec-8992-455f-a58d-4a9f93bb53e6",
   "metadata": {},
   "outputs": [
    {
     "data": {
      "text/plain": [
       "()"
      ]
     },
     "execution_count": 144,
     "metadata": {},
     "output_type": "execute_result"
    }
   ],
   "source": [
    "myfunc.__code__.co_varnames"
   ]
  },
  {
   "cell_type": "code",
   "execution_count": 147,
   "id": "d857178b-afa4-4219-ac2a-6b02f17fdccd",
   "metadata": {},
   "outputs": [
    {
     "name": "stdout",
     "output_type": "stream",
     "text": [
      "Before, x = 100\n",
      "In myfunc, x = 200\n",
      "After, x = 200\n"
     ]
    }
   ],
   "source": [
    "x = 100\n",
    "\n",
    "def myfunc():\n",
    "    if False:\n",
    "        global x    \n",
    "    x = 200\n",
    "    print(f'In myfunc, x = {x}') \n",
    "\n",
    "print(f'Before, x = {x}')      \n",
    "myfunc()\n",
    "print(f'After, x = {x}')  "
   ]
  },
  {
   "cell_type": "code",
   "execution_count": 149,
   "id": "d341a4f2-b46e-484c-be33-2a0c79662967",
   "metadata": {},
   "outputs": [
    {
     "name": "stdout",
     "output_type": "stream",
     "text": [
      "Before, x = 100\n",
      "In myfunc, x = 200\n",
      "After, x = 200, y = ['!', 20, 30]\n"
     ]
    }
   ],
   "source": [
    "x = 100\n",
    "y = [10, 20, 30]\n",
    "\n",
    "def myfunc():\n",
    "    global x    # this tells the compiler -- don't create a local x when we assign to it!\n",
    "    x = 200\n",
    "    y[0] = '!'  # --> y.__setitem__(0, '!')\n",
    "    print(f'In myfunc, x = {x}') \n",
    "\n",
    "print(f'Before, x = {x}')      \n",
    "myfunc()\n",
    "print(f'After, x = {x}, y = {y}')  "
   ]
  },
  {
   "cell_type": "code",
   "execution_count": 150,
   "id": "2df7aa82-a9d7-4010-9e4c-ba178ce905b6",
   "metadata": {},
   "outputs": [
    {
     "data": {
      "text/plain": [
       "['a', 'b', 'c', 'd', 'e']"
      ]
     },
     "execution_count": 150,
     "metadata": {},
     "output_type": "execute_result"
    }
   ],
   "source": [
    "s = 'abcde'\n",
    "list(s)"
   ]
  },
  {
   "cell_type": "code",
   "execution_count": 151,
   "id": "2de3bcf2-f44f-49fc-8c77-7dcd9df667c8",
   "metadata": {},
   "outputs": [],
   "source": [
    "list = 5"
   ]
  },
  {
   "cell_type": "code",
   "execution_count": 152,
   "id": "4281fcb2-2a92-42d4-80a5-f6289a4e9f0e",
   "metadata": {},
   "outputs": [
    {
     "ename": "TypeError",
     "evalue": "'int' object is not callable",
     "output_type": "error",
     "traceback": [
      "\u001b[0;31m---------------------------------------------------------------------------\u001b[0m",
      "\u001b[0;31mTypeError\u001b[0m                                 Traceback (most recent call last)",
      "Cell \u001b[0;32mIn[152], line 1\u001b[0m\n\u001b[0;32m----> 1\u001b[0m \u001b[38;5;28;43mlist\u001b[39;49m\u001b[43m(\u001b[49m\u001b[43ms\u001b[49m\u001b[43m)\u001b[49m\n",
      "\u001b[0;31mTypeError\u001b[0m: 'int' object is not callable"
     ]
    }
   ],
   "source": [
    "list(s)"
   ]
  },
  {
   "cell_type": "code",
   "execution_count": 154,
   "id": "795e1cb1-1af6-41be-9d65-4975815ddbc1",
   "metadata": {},
   "outputs": [
    {
     "data": {
      "text/plain": [
       "['a', 'b', 'c', 'd', 'e']"
      ]
     },
     "execution_count": 154,
     "metadata": {},
     "output_type": "execute_result"
    }
   ],
   "source": [
    "__builtins__.list(s)"
   ]
  },
  {
   "cell_type": "code",
   "execution_count": 155,
   "id": "cb59a7a4-68f2-4ac3-821b-10b9e2cd5c56",
   "metadata": {},
   "outputs": [],
   "source": [
    "del(list)   # remove the global that hides the builtin"
   ]
  },
  {
   "cell_type": "code",
   "execution_count": 156,
   "id": "ca8e3d34-3712-4cd3-b7b3-0b2f9f9a3081",
   "metadata": {},
   "outputs": [
    {
     "data": {
      "text/plain": [
       "['a', 'b', 'c', 'd', 'e']"
      ]
     },
     "execution_count": 156,
     "metadata": {},
     "output_type": "execute_result"
    }
   ],
   "source": [
    "list(s)"
   ]
  },
  {
   "cell_type": "markdown",
   "id": "dad2d851-cd9c-4da6-9d36-78986134a47e",
   "metadata": {},
   "source": [
    "# Practice Your Python -- resources for Python practice\n",
    "\n",
    "https://PracticeYourPython.com"
   ]
  },
  {
   "cell_type": "markdown",
   "id": "24ee7ed8-aca6-45ae-9510-8404488f2db0",
   "metadata": {},
   "source": [
    "# List comprehensions\n",
    "\n",
    "This is another way to create a list."
   ]
  },
  {
   "cell_type": "code",
   "execution_count": 157,
   "id": "f09561b8-23bc-4790-9adf-9f5ae6fe4e80",
   "metadata": {},
   "outputs": [
    {
     "data": {
      "text/plain": [
       "[0, 1, 2, 3, 4, 5, 6, 7, 8, 9]"
      ]
     },
     "execution_count": 157,
     "metadata": {},
     "output_type": "execute_result"
    }
   ],
   "source": [
    "numbers = list(range(10))\n",
    "numbers"
   ]
  },
  {
   "cell_type": "code",
   "execution_count": 158,
   "id": "ca6682b7-b549-49be-9289-c5078cafbf59",
   "metadata": {},
   "outputs": [
    {
     "data": {
      "text/plain": [
       "[0, 1, 4, 9, 16, 25, 36, 49, 64, 81]"
      ]
     },
     "execution_count": 158,
     "metadata": {},
     "output_type": "execute_result"
    }
   ],
   "source": [
    "# I want a list with these numbers ** 2\n",
    "\n",
    "squares = []\n",
    "for one_number in numbers:\n",
    "    squares.append(one_number ** 2)\n",
    "\n",
    "squares"
   ]
  },
  {
   "cell_type": "code",
   "execution_count": 160,
   "id": "44d315ce-ba8f-425b-b55b-d33d9bf8e621",
   "metadata": {},
   "outputs": [
    {
     "data": {
      "text/plain": [
       "[0, 1, 4, 9, 16, 25, 36, 49, 64, 81]"
      ]
     },
     "execution_count": 160,
     "metadata": {},
     "output_type": "execute_result"
    }
   ],
   "source": [
    "[one_number ** 2               # expression\n",
    " for one_number in numbers]    # iteration"
   ]
  },
  {
   "cell_type": "markdown",
   "id": "ff8d01ad-0781-45e5-8ef7-31804ac6a849",
   "metadata": {},
   "source": [
    "Expression can be\n",
    "\n",
    "- Any function\n",
    "- Any method\n",
    "- Any operator"
   ]
  },
  {
   "cell_type": "code",
   "execution_count": 162,
   "id": "05b9f107-82e5-486b-9bb6-65310cf7db08",
   "metadata": {},
   "outputs": [
    {
     "data": {
      "text/plain": [
       "'This Is A Bunch Of Words For My Python Course'"
      ]
     },
     "execution_count": 162,
     "metadata": {},
     "output_type": "execute_result"
    }
   ],
   "source": [
    "s = 'This is a bunch of words for my Python course'\n",
    "\n",
    "' '.join([one_word.capitalize()\n",
    " for one_word in s.split()])"
   ]
  },
  {
   "cell_type": "code",
   "execution_count": 163,
   "id": "cc276312-8deb-4484-8fb4-2d2496138553",
   "metadata": {},
   "outputs": [
    {
     "ename": "TypeError",
     "evalue": "sequence item 0: expected str instance, int found",
     "output_type": "error",
     "traceback": [
      "\u001b[0;31m---------------------------------------------------------------------------\u001b[0m",
      "\u001b[0;31mTypeError\u001b[0m                                 Traceback (most recent call last)",
      "Cell \u001b[0;32mIn[163], line 3\u001b[0m\n\u001b[1;32m      1\u001b[0m mylist \u001b[38;5;241m=\u001b[39m [\u001b[38;5;241m10\u001b[39m, \u001b[38;5;241m20\u001b[39m, \u001b[38;5;241m30\u001b[39m, \u001b[38;5;241m40\u001b[39m]\n\u001b[0;32m----> 3\u001b[0m \u001b[38;5;124;43m'\u001b[39;49m\u001b[38;5;124;43m \u001b[39;49m\u001b[38;5;124;43m'\u001b[39;49m\u001b[38;5;241;43m.\u001b[39;49m\u001b[43mjoin\u001b[49m\u001b[43m(\u001b[49m\u001b[43mmylist\u001b[49m\u001b[43m)\u001b[49m\n",
      "\u001b[0;31mTypeError\u001b[0m: sequence item 0: expected str instance, int found"
     ]
    }
   ],
   "source": [
    "mylist = [10, 20, 30, 40]\n",
    "\n",
    "' '.join(mylist)"
   ]
  },
  {
   "cell_type": "code",
   "execution_count": 164,
   "id": "24ab2a80-7155-4cc2-b7aa-4ba59201bac9",
   "metadata": {},
   "outputs": [
    {
     "data": {
      "text/plain": [
       "'10 20 30 40'"
      ]
     },
     "execution_count": 164,
     "metadata": {},
     "output_type": "execute_result"
    }
   ],
   "source": [
    "# I have: list of ints\n",
    "# I want: list of str\n",
    "# str\n",
    "\n",
    "' '.join([str(one_item)\n",
    "         for one_item in mylist])"
   ]
  },
  {
   "cell_type": "code",
   "execution_count": 166,
   "id": "fa86407b-1f9e-4913-b9b2-f6cc88013319",
   "metadata": {},
   "outputs": [
    {
     "data": {
      "text/plain": [
       "150"
      ]
     },
     "execution_count": 166,
     "metadata": {},
     "output_type": "execute_result"
    }
   ],
   "source": [
    "s = '10 20 30 40 50'\n",
    "\n",
    "sum([int(one_item)\n",
    "    for one_item in s.split()])"
   ]
  },
  {
   "cell_type": "code",
   "execution_count": 167,
   "id": "8c24b192-d1e5-4a07-b88d-9f5f97111751",
   "metadata": {},
   "outputs": [
    {
     "ename": "ValueError",
     "evalue": "invalid literal for int() with base 10: 'hello'",
     "output_type": "error",
     "traceback": [
      "\u001b[0;31m---------------------------------------------------------------------------\u001b[0m",
      "\u001b[0;31mValueError\u001b[0m                                Traceback (most recent call last)",
      "Cell \u001b[0;32mIn[167], line 3\u001b[0m\n\u001b[1;32m      1\u001b[0m s \u001b[38;5;241m=\u001b[39m \u001b[38;5;124m'\u001b[39m\u001b[38;5;124m10 20 hello 30 40 50\u001b[39m\u001b[38;5;124m'\u001b[39m\n\u001b[0;32m----> 3\u001b[0m \u001b[38;5;28msum\u001b[39m([\u001b[38;5;28;43mint\u001b[39;49m\u001b[43m(\u001b[49m\u001b[43mone_item\u001b[49m\u001b[43m)\u001b[49m\n\u001b[1;32m      4\u001b[0m     \u001b[38;5;28;01mfor\u001b[39;00m one_item \u001b[38;5;129;01min\u001b[39;00m s\u001b[38;5;241m.\u001b[39msplit()])\n",
      "\u001b[0;31mValueError\u001b[0m: invalid literal for int() with base 10: 'hello'"
     ]
    }
   ],
   "source": [
    "s = '10 20 hello 30 40 50'\n",
    "\n",
    "sum([int(one_item)\n",
    "    for one_item in s.split()])"
   ]
  },
  {
   "cell_type": "code",
   "execution_count": 169,
   "id": "583d80ec-66ac-4dd5-88f0-f36bd2ea3374",
   "metadata": {},
   "outputs": [
    {
     "data": {
      "text/plain": [
       "[10, 20, 30, 40, 50]"
      ]
     },
     "execution_count": 169,
     "metadata": {},
     "output_type": "execute_result"
    }
   ],
   "source": [
    "[int(one_item)                # expression -- SELECT\n",
    " for one_item in s.split()    # iteration  -- FROM\n",
    " if one_item.isdigit()]       # condition  -- WHERE"
   ]
  },
  {
   "cell_type": "markdown",
   "id": "d7192b7e-d070-4a0a-93c5-4e9691823bba",
   "metadata": {},
   "source": [
    "# Exercise: Sum of odd squares\n",
    "\n",
    "1. Ask the user to enter numbers separated by spaces\n",
    "2. Get the square for each odd number -- and then sum them together, using a list comprehension"
   ]
  },
  {
   "cell_type": "code",
   "execution_count": 172,
   "id": "2f94ef3a-ee74-464e-a9da-3d9005428f93",
   "metadata": {},
   "outputs": [
    {
     "name": "stdin",
     "output_type": "stream",
     "text": [
      "Enter numbers:  10 15 20 25\n"
     ]
    }
   ],
   "source": [
    "s = input('Enter numbers: ').strip()"
   ]
  },
  {
   "cell_type": "code",
   "execution_count": 176,
   "id": "9e2c6c46-c5e2-4198-a227-8f8a0a488aaf",
   "metadata": {},
   "outputs": [
    {
     "data": {
      "text/plain": [
       "850"
      ]
     },
     "execution_count": 176,
     "metadata": {},
     "output_type": "execute_result"
    }
   ],
   "source": [
    "sum([int(one_number) ** 2\n",
    " for one_number in s.split()\n",
    " if int(one_number) % 2 == 1])"
   ]
  },
  {
   "cell_type": "code",
   "execution_count": null,
   "id": "3af9f1d4-904e-4c4b-b979-c945ae90e80f",
   "metadata": {},
   "outputs": [],
   "source": []
  }
 ],
 "metadata": {
  "kernelspec": {
   "display_name": "Python 3 (ipykernel)",
   "language": "python",
   "name": "python3"
  },
  "language_info": {
   "codemirror_mode": {
    "name": "ipython",
    "version": 3
   },
   "file_extension": ".py",
   "mimetype": "text/x-python",
   "name": "python",
   "nbconvert_exporter": "python",
   "pygments_lexer": "ipython3",
   "version": "3.13.0"
  },
  "widgets": {
   "application/vnd.jupyter.widget-state+json": {
    "state": {},
    "version_major": 2,
    "version_minor": 0
   }
  }
 },
 "nbformat": 4,
 "nbformat_minor": 5
}
